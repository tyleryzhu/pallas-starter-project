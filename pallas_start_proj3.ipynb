{
 "cells": [
  {
   "cell_type": "markdown",
   "metadata": {},
   "source": [
    "# Important Functions "
   ]
  },
  {
   "cell_type": "markdown",
   "metadata": {},
   "source": [
    "For ease of use, I've made a copy of everything essential for running in it's own section since it was getting messy. "
   ]
  },
  {
   "cell_type": "markdown",
   "metadata": {},
   "source": [
    "To Talk about: \n",
    "* Normalizing having an interfering effect with the data\n",
    "* PIL Image conversion? \n",
    "* CIFAR-10 works slightly better\n",
    "* Can't run shift module correctly due to lack of gpu for CUDA\n"
   ]
  },
  {
   "cell_type": "markdown",
   "metadata": {},
   "source": [
    "* try normalizing instead of clamping\n",
    "* mimic shift modules with Convolutional layers, 9 single layered ones, freeze "
   ]
  },
  {
   "cell_type": "markdown",
   "metadata": {},
   "source": [
    "Problems:\n",
    "* Can't upload CIFAR CNN to github (too large)"
   ]
  },
  {
   "cell_type": "code",
   "execution_count": 1,
   "metadata": {
    "ExecuteTime": {
     "end_time": "2019-01-08T03:16:17.541929Z",
     "start_time": "2019-01-08T03:16:16.750164Z"
    },
    "init_cell": true
   },
   "outputs": [],
   "source": [
    "import torch\n",
    "import torchvision\n",
    "import torchvision.transforms as transforms\n",
    "import torch.nn as nn\n",
    "import torch.nn.functional as F\n",
    "from torch.utils.data import DataLoader\n",
    "\n",
    "import os\n",
    "import numpy as np\n",
    "np.random.seed(42)\n",
    "\n",
    "%matplotlib inline\n",
    "import matplotlib.pyplot as plt\n",
    "\n",
    "DATA_PATH = \"./data\"\n",
    "MODEL_PATH = \"./models/\""
   ]
  },
  {
   "cell_type": "code",
   "execution_count": 2,
   "metadata": {
    "ExecuteTime": {
     "end_time": "2019-01-08T03:16:17.546743Z",
     "start_time": "2019-01-08T03:16:17.543970Z"
    },
    "init_cell": true
   },
   "outputs": [],
   "source": [
    "# Hyperparameters\n",
    "EPOCHS = 4\n",
    "CLASSES = 10\n",
    "BATCH_SIZE = 100\n",
    "LEARNING_RATE = 0.001"
   ]
  },
  {
   "cell_type": "code",
   "execution_count": 3,
   "metadata": {
    "ExecuteTime": {
     "end_time": "2019-01-08T03:16:17.612459Z",
     "start_time": "2019-01-08T03:16:17.548866Z"
    },
    "init_cell": true
   },
   "outputs": [],
   "source": [
    "# Download datasets once here\n",
    "# MNIST Dataset\n",
    "# a transform to apply to data (convert to Tensor, then normalize w/ MNIST's mean & sd)\n",
    "trans = transforms.Compose([transforms.ToTensor(), transforms.Normalize((0.1307,), (0.3081,))])\n",
    "\n",
    "# MNIST\n",
    "train_dataset = torchvision.datasets.MNIST(root=DATA_PATH, train=True, download=True, transform=trans)\n",
    "test_dataset = torchvision.datasets.MNIST(root=DATA_PATH, train=False, download=True, transform=trans)\n",
    "train_loader = DataLoader(dataset = train_dataset, batch_size=BATCH_SIZE, shuffle = True)\n",
    "test_loader = DataLoader(dataset = test_dataset, batch_size=BATCH_SIZE, shuffle = False)\n",
    "\n",
    "# CIFAR-10 Dataset\n",
    "# a transform to apply to data (convert to Tensor, then normalize w/ CIFAR-10's mean & sd on RGB channels)\n",
    "#trans = transforms.Compose([#transforms.ToPILImage(), \n",
    "#                            transforms.ToTensor(), \n",
    "#                            transforms.Normalize(mean=(0.485, 0.456, 0.406), std = (0.229, 0.224, 0.225))])\n",
    "\n",
    "# CIFAR-10 \n",
    "#train_dataset = torchvision.datasets.CIFAR10(root=DATA_PATH, train=True, download=True, transform=trans)\n",
    "#test_dataset = torchvision.datasets.CIFAR10(root=DATA_PATH, train=False, download=True, transform=trans)\n",
    "#train_loader = DataLoader(dataset = train_dataset, batch_size=BATCH_SIZE, shuffle = True)\n",
    "#test_loader = DataLoader(dataset = test_dataset, batch_size=BATCH_SIZE, shuffle = False)"
   ]
  },
  {
   "cell_type": "code",
   "execution_count": 4,
   "metadata": {
    "ExecuteTime": {
     "end_time": "2019-01-08T03:16:17.620424Z",
     "start_time": "2019-01-08T03:16:17.615207Z"
    },
    "init_cell": true
   },
   "outputs": [],
   "source": [
    "class MNISTConvNet(nn.Module):\n",
    "    def __init__(self):\n",
    "        super(MNISTConvNet, self).__init__()\n",
    "        \n",
    "        self.layer1 = nn.Sequential(\n",
    "            nn.Conv2d(1, 32, kernel_size=5, stride=1, padding=2),\n",
    "            nn.ReLU(),\n",
    "            nn.MaxPool2d(kernel_size=2, stride=2)\n",
    "            )\n",
    "        self.drop_out = nn.Dropout()\n",
    "        self.fc1 = nn.Linear(14 * 14 * 32, 1000)\n",
    "        self.fc2 = nn.Linear(1000, 10)\n",
    "    \n",
    "    def forward(self, x):\n",
    "        out = self.layer1(x)\n",
    "        out = out.reshape(out.size(0), -1)\n",
    "        out = self.drop_out(out)\n",
    "        out = self.fc1(out)\n",
    "        out = self.fc2(out)\n",
    "        return out "
   ]
  },
  {
   "cell_type": "code",
   "execution_count": 5,
   "metadata": {
    "ExecuteTime": {
     "end_time": "2019-01-08T03:16:17.628888Z",
     "start_time": "2019-01-08T03:16:17.622866Z"
    },
    "init_cell": true
   },
   "outputs": [],
   "source": [
    "class CIFARConvNet(nn.Module):\n",
    "    def __init__(self):\n",
    "        super(CIFARConvNet, self).__init__()\n",
    "        \n",
    "        self.layer1 = nn.Sequential(\n",
    "            nn.Conv2d(3, 32, kernel_size=5, stride=1, padding=2),\n",
    "            nn.ReLU(),\n",
    "            nn.MaxPool2d(kernel_size=2, stride=2)\n",
    "            )\n",
    "        self.drop_out = nn.Dropout()\n",
    "        self.fc1 = nn.Linear(16 * 16 * 32, 2000)\n",
    "        self.fc2 = nn.Linear(2000, 10)\n",
    "    \n",
    "    def forward(self, x):\n",
    "        out = self.layer1(x)\n",
    "        out = out.reshape(out.size(0), -1)\n",
    "        out = self.drop_out(out)\n",
    "        out = self.fc1(out)\n",
    "        out = self.fc2(out)\n",
    "        return out "
   ]
  },
  {
   "cell_type": "code",
   "execution_count": 6,
   "metadata": {
    "ExecuteTime": {
     "end_time": "2019-01-08T03:16:18.030058Z",
     "start_time": "2019-01-08T03:16:17.632512Z"
    },
    "init_cell": true
   },
   "outputs": [
    {
     "ename": "FileNotFoundError",
     "evalue": "[Errno 2] No such file or directory: './models/cifar_conv_net_1(conv)_2_model.ckpt'",
     "output_type": "error",
     "traceback": [
      "\u001b[0;31m---------------------------------------------------------------------------\u001b[0m",
      "\u001b[0;31mFileNotFoundError\u001b[0m                         Traceback (most recent call last)",
      "\u001b[0;32m<ipython-input-6-f75349c8f556>\u001b[0m in \u001b[0;36m<module>\u001b[0;34m()\u001b[0m\n\u001b[1;32m      5\u001b[0m \u001b[0;31m# For CIFAR-10 Model\u001b[0m\u001b[0;34m\u001b[0m\u001b[0;34m\u001b[0m\u001b[0m\n\u001b[1;32m      6\u001b[0m \u001b[0mmodelCIFAR\u001b[0m \u001b[0;34m=\u001b[0m \u001b[0mCIFARConvNet\u001b[0m\u001b[0;34m(\u001b[0m\u001b[0;34m)\u001b[0m\u001b[0;34m\u001b[0m\u001b[0m\n\u001b[0;32m----> 7\u001b[0;31m \u001b[0mmodelCIFAR\u001b[0m\u001b[0;34m.\u001b[0m\u001b[0mload_state_dict\u001b[0m\u001b[0;34m(\u001b[0m\u001b[0mtorch\u001b[0m\u001b[0;34m.\u001b[0m\u001b[0mload\u001b[0m\u001b[0;34m(\u001b[0m\u001b[0mMODEL_PATH\u001b[0m \u001b[0;34m+\u001b[0m \u001b[0;34m'cifar_conv_net_1(conv)_2_model.ckpt'\u001b[0m\u001b[0;34m)\u001b[0m\u001b[0;34m)\u001b[0m\u001b[0;34m\u001b[0m\u001b[0m\n\u001b[0m",
      "\u001b[0;32m/anaconda3/lib/python3.6/site-packages/torch/serialization.py\u001b[0m in \u001b[0;36mload\u001b[0;34m(f, map_location, pickle_module)\u001b[0m\n\u001b[1;32m    354\u001b[0m             \u001b[0;34m(\u001b[0m\u001b[0msys\u001b[0m\u001b[0;34m.\u001b[0m\u001b[0mversion_info\u001b[0m\u001b[0;34m[\u001b[0m\u001b[0;36m0\u001b[0m\u001b[0;34m]\u001b[0m \u001b[0;34m==\u001b[0m \u001b[0;36m3\u001b[0m \u001b[0;32mand\u001b[0m \u001b[0misinstance\u001b[0m\u001b[0;34m(\u001b[0m\u001b[0mf\u001b[0m\u001b[0;34m,\u001b[0m \u001b[0mpathlib\u001b[0m\u001b[0;34m.\u001b[0m\u001b[0mPath\u001b[0m\u001b[0;34m)\u001b[0m\u001b[0;34m)\u001b[0m\u001b[0;34m:\u001b[0m\u001b[0;34m\u001b[0m\u001b[0m\n\u001b[1;32m    355\u001b[0m         \u001b[0mnew_fd\u001b[0m \u001b[0;34m=\u001b[0m \u001b[0;32mTrue\u001b[0m\u001b[0;34m\u001b[0m\u001b[0m\n\u001b[0;32m--> 356\u001b[0;31m         \u001b[0mf\u001b[0m \u001b[0;34m=\u001b[0m \u001b[0mopen\u001b[0m\u001b[0;34m(\u001b[0m\u001b[0mf\u001b[0m\u001b[0;34m,\u001b[0m \u001b[0;34m'rb'\u001b[0m\u001b[0;34m)\u001b[0m\u001b[0;34m\u001b[0m\u001b[0m\n\u001b[0m\u001b[1;32m    357\u001b[0m     \u001b[0;32mtry\u001b[0m\u001b[0;34m:\u001b[0m\u001b[0;34m\u001b[0m\u001b[0m\n\u001b[1;32m    358\u001b[0m         \u001b[0;32mreturn\u001b[0m \u001b[0m_load\u001b[0m\u001b[0;34m(\u001b[0m\u001b[0mf\u001b[0m\u001b[0;34m,\u001b[0m \u001b[0mmap_location\u001b[0m\u001b[0;34m,\u001b[0m \u001b[0mpickle_module\u001b[0m\u001b[0;34m)\u001b[0m\u001b[0;34m\u001b[0m\u001b[0m\n",
      "\u001b[0;31mFileNotFoundError\u001b[0m: [Errno 2] No such file or directory: './models/cifar_conv_net_1(conv)_2_model.ckpt'"
     ]
    }
   ],
   "source": [
    "# For MNIST Model\n",
    "modelMNIST = MNISTConvNet()\n",
    "modelMNIST.load_state_dict(torch.load(MODEL_PATH + 'conv_net_1(conv)_2_model.ckpt'))\n",
    "\n",
    "# For CIFAR-10 Model\n",
    "modelCIFAR = CIFARConvNet()\n",
    "modelCIFAR.load_state_dict(torch.load(MODEL_PATH + 'cifar_conv_net_1(conv)_2_model.ckpt'))"
   ]
  },
  {
   "cell_type": "code",
   "execution_count": null,
   "metadata": {
    "ExecuteTime": {
     "end_time": "2019-01-08T03:16:18.030919Z",
     "start_time": "2019-01-08T03:16:16.758Z"
    },
    "init_cell": true
   },
   "outputs": [],
   "source": [
    "# To evaluate a model's baseline accuracy\n",
    "def evaluateAccuracy(model, test_loader): \n",
    "    model.eval()\n",
    "    with torch.no_grad():\n",
    "        correct = 0\n",
    "        total = 0\n",
    "        for images, labels in test_loader:\n",
    "            outputs = model(images)\n",
    "            _, predicted = torch.max(outputs.data, 1)\n",
    "            correct += (predicted==labels).sum().item()\n",
    "            total += labels.size(0)\n",
    "\n",
    "        print('Test Accuracy of the model on the 10000 test images: {} %'.format((correct / total) * 100))"
   ]
  },
  {
   "cell_type": "markdown",
   "metadata": {},
   "source": [
    "The following few functions are mostly functions for testing variance"
   ]
  },
  {
   "cell_type": "code",
   "execution_count": null,
   "metadata": {
    "ExecuteTime": {
     "end_time": "2019-01-08T03:16:18.032244Z",
     "start_time": "2019-01-08T03:16:16.760Z"
    },
    "init_cell": true
   },
   "outputs": [],
   "source": [
    "def varModel(model, loader):\n",
    "    ''' Returns the variance of model over samples as a PyTorch tensor.\n",
    "    \n",
    "        Inputs:\n",
    "        model: a PyTorch Neural Network.\n",
    "        samples: a PyTorch Data Loader of the samples to test (usually test_loader)'''\n",
    "    \n",
    "    model.eval()\n",
    "    results = []\n",
    "    \n",
    "    with torch.no_grad():\n",
    "        for images, labels in loader:\n",
    "            outputs = model(images)\n",
    "            _, predicted = torch.max(outputs.data, 1)\n",
    "            results.append(predicted)\n",
    "\n",
    "    results = torch.cat(results).float() \n",
    "    std = results.std()/(results.max()-results.min())\n",
    "    return std**2"
   ]
  },
  {
   "cell_type": "code",
   "execution_count": null,
   "metadata": {
    "ExecuteTime": {
     "end_time": "2019-01-08T03:16:18.033904Z",
     "start_time": "2019-01-08T03:16:16.762Z"
    },
    "init_cell": true
   },
   "outputs": [],
   "source": [
    "def addNoise(inp, sigma, clamp = True): \n",
    "    ''' Adds Gaussian noise N(0, sigma) to a ndarray or tensor inp.\n",
    "        Clamps values to [0, 255]\n",
    "        Returns a FloatTensor with noise added.'''\n",
    "    if type(inp) != torch.Tensor:\n",
    "        try:\n",
    "            inp =  torch.Tensor(inp)\n",
    "        except:\n",
    "            print(\"Error: Input of type {} couldn't be converted to PyTorch tensor!\".format(type(inp)))\n",
    "            raise\n",
    "    inp = inp.type(torch.FloatTensor)\n",
    "    shape = inp.shape \n",
    "    noise = torch.tensor(np.random.normal(0, sigma, size = shape)).type(torch.FloatTensor)\n",
    "    result = noise+inp\n",
    "    lo, hi = torch.min(result), torch.max(result)\n",
    "    result = (result-lo)*255//(hi-lo)\n",
    "    return result if clamp else noise+inp\n",
    "    return torch.clamp(noise+inp, 0, 255) if clamp else noise+inp #to clamp or not to clamp? "
   ]
  },
  {
   "cell_type": "code",
   "execution_count": null,
   "metadata": {
    "ExecuteTime": {
     "end_time": "2019-01-08T03:16:18.035945Z",
     "start_time": "2019-01-08T03:16:16.763Z"
    },
    "init_cell": true
   },
   "outputs": [],
   "source": [
    "# Main function\n",
    "def varianceTest(model, sigmas, dataset, epochs = 5):\n",
    "    ''' Finds the variance of model over X+e, where e = N(0, sigma) is Gaussian noise. \n",
    "        Each hyperparameter is run over epochs iterations. \n",
    "        \n",
    "        Dataset is either 'mnist' or 'cifar10'\n",
    "    \n",
    "        Returns the average and s.d. of var(model(X+e)) where e = N(0, sigma) for each \n",
    "        sigma in sigmas over epochs number of iterations.'''\n",
    "    if dataset not in ['mnist', 'cifar10']:\n",
    "        print('Dataset {} not found!'.format(dataset))\n",
    "        return \n",
    "    if dataset == 'mnist':\n",
    "        trans = transforms.Compose([transforms.ToTensor(), \n",
    "                                transforms.Normalize((0.1307,), (0.3081,))])\n",
    "    elif dataset == 'cifar10':\n",
    "        trans = transforms.Compose([transforms.ToTensor(), \n",
    "                            transforms.Normalize(mean=(0.485, 0.456, 0.406), std = (0.229, 0.224, 0.225))])\n",
    "    outputVariance = []\n",
    "    outputVarianceSTD = []\n",
    "    for sigma in sigmas:\n",
    "        print(\"Computing variance of f(Y) where noise has sigma =\", sigma)\n",
    "        tot = []\n",
    "        for epoch in range(epochs): \n",
    "            print(\"Epoch {} of {}\".format(epoch+1, epochs))\n",
    "            if dataset == 'mnist':\n",
    "                noisy_test_dataset = torchvision.datasets.MNIST(root=DATA_PATH, train=False, \\\n",
    "                                                            transform=trans,download=False)\n",
    "            elif dataset == 'cifar10':\n",
    "                noisy_test_dataset = torchvision.datasets.CIFAR10(root=DATA_PATH, train=False, \\\n",
    "                                                            transform=trans,download=False)\n",
    "            for i in range(len(noisy_test_dataset.test_data)):\n",
    "                noisy_test_dataset.test_data[i] = addNoise(noisy_test_dataset.test_data[i], sigma)\n",
    "            test_loader = DataLoader(dataset = noisy_test_dataset, batch_size=BATCH_SIZE, shuffle = False)\n",
    "            tot.append(varModel(model, test_loader).item())\n",
    "        tot = np.array(tot)\n",
    "        outputVariance.append(tot.mean())\n",
    "        outputVarianceSTD.append(tot.std())\n",
    "        print(\"Variance with noise std {} is {}. STD is {}\".format(sigma, outputVariance[-1], outputVarianceSTD[-1]))\n",
    "    return outputVariance, outputVarianceSTD"
   ]
  },
  {
   "cell_type": "code",
   "execution_count": null,
   "metadata": {
    "ExecuteTime": {
     "end_time": "2019-01-08T03:16:18.037230Z",
     "start_time": "2019-01-08T03:16:16.764Z"
    },
    "init_cell": true
   },
   "outputs": [],
   "source": [
    "def display(sigmas, results, resultsSTD):\n",
    "    results = np.array(results)\n",
    "    resultsSTD = np.array(resultsSTD)\n",
    "    plt.figure(figsize=(10,6))\n",
    "    plt.fill_between(sigmas, list(results-resultsSTD), list(results+resultsSTD), color='b',alpha=.2)\n",
    "    plt.plot(sigmas, results, lw=2)\n",
    "    plt.xlabel('Sigma', fontsize=12)\n",
    "    plt.ylabel('Variance', fontsize=12)\n",
    "    plt.title('Sigma vs. Variance')\n",
    "    plt.show()"
   ]
  },
  {
   "cell_type": "markdown",
   "metadata": {},
   "source": [
    "# Objective 1"
   ]
  },
  {
   "cell_type": "markdown",
   "metadata": {},
   "source": [
    "Setting up the MNIST Dataset and creating a CNN in PyTorch"
   ]
  },
  {
   "cell_type": "markdown",
   "metadata": {},
   "source": [
    "## Imports, Hyperparameters, and Loading Data"
   ]
  },
  {
   "cell_type": "code",
   "execution_count": 24,
   "metadata": {
    "ExecuteTime": {
     "end_time": "2019-01-05T23:06:22.075181Z",
     "start_time": "2019-01-05T23:06:22.065330Z"
    }
   },
   "outputs": [],
   "source": [
    "import torch\n",
    "import torchvision\n",
    "import torchvision.transforms as transforms\n",
    "import torch.nn as nn\n",
    "import torch.nn.functional as F\n",
    "from torch.utils.data import DataLoader\n",
    "\n",
    "import numpy as np\n",
    "\n",
    "%matplotlib inline\n",
    "import matplotlib.pyplot as plt\n",
    "\n",
    "DATA_PATH = \"./data\"\n",
    "MODEL_PATH = \"./models\""
   ]
  },
  {
   "cell_type": "code",
   "execution_count": 70,
   "metadata": {
    "ExecuteTime": {
     "end_time": "2019-01-06T00:35:04.688279Z",
     "start_time": "2019-01-06T00:35:04.685264Z"
    }
   },
   "outputs": [],
   "source": [
    "# Hyperparameters\n",
    "EPOCHS = 6\n",
    "CLASSES = 10\n",
    "BATCH_SIZE = 100\n",
    "LEARNING_RATE = 0.001"
   ]
  },
  {
   "cell_type": "code",
   "execution_count": 74,
   "metadata": {
    "ExecuteTime": {
     "end_time": "2019-01-06T00:35:24.553761Z",
     "start_time": "2019-01-06T00:35:24.510306Z"
    }
   },
   "outputs": [],
   "source": [
    "# a transform to apply to data (convert to Tensor, then normalize w/ MNIST's mean & sd)\n",
    "trans = transforms.Compose([transforms.ToTensor(), transforms.Normalize((0.1307,), (0.3081,))])\n",
    "\n",
    "# MNIST\n",
    "train_dataset = torchvision.datasets.MNIST(root=DATA_PATH, train=True, download=True, transform=trans)\n",
    "test_dataset = torchvision.datasets.MNIST(root=DATA_PATH, train=False, transform=trans)"
   ]
  },
  {
   "cell_type": "code",
   "execution_count": 75,
   "metadata": {
    "ExecuteTime": {
     "end_time": "2019-01-06T00:35:24.924916Z",
     "start_time": "2019-01-06T00:35:24.911964Z"
    }
   },
   "outputs": [],
   "source": [
    "train_loader = DataLoader(dataset = train_dataset, batch_size=BATCH_SIZE, shuffle = True)\n",
    "test_loader = DataLoader(dataset = test_dataset, batch_size=BATCH_SIZE, shuffle = False)"
   ]
  },
  {
   "cell_type": "code",
   "execution_count": 10,
   "metadata": {
    "ExecuteTime": {
     "end_time": "2018-10-17T22:25:57.211867Z",
     "start_time": "2018-10-17T22:25:56.991760Z"
    }
   },
   "outputs": [
    {
     "data": {
      "image/png": "[encoded data removed]",
      "text/plain": [
       "<Figure size 432x288 with 1 Axes>"
      ]
     },
     "metadata": {},
     "output_type": "display_data"
    }
   ],
   "source": [
    "plt.imshow(train_dataset.train_data[0])\n",
    "plt.show()"
   ]
  },
  {
   "cell_type": "markdown",
   "metadata": {},
   "source": [
    "To load the model:"
   ]
  },
  {
   "cell_type": "code",
   "execution_count": 26,
   "metadata": {
    "ExecuteTime": {
     "end_time": "2019-01-05T23:06:30.402563Z",
     "start_time": "2019-01-05T23:06:30.362257Z"
    }
   },
   "outputs": [],
   "source": [
    "model = MNISTConvNet()\n",
    "model.load_state_dict(torch.load(os.path.join(MODEL_PATH,'conv_net_1(conv)_2_model.ckpt')))"
   ]
  },
  {
   "cell_type": "markdown",
   "metadata": {},
   "source": [
    "## Training a Good Convolutional Neural Network "
   ]
  },
  {
   "cell_type": "markdown",
   "metadata": {},
   "source": [
    "The ConvNet I chose has the following layers:\n",
    "   * Layer 1 (Convolutional): 32 5x5 convolutional filters --> ReLU nonlinearity --> 2x2 Maxpool\n",
    "   * Dropout \n",
    "   * Layer 2 (Linear): 14x14x32 --> 1000 Fully Connected layer\n",
    "   * Layer 3 (Output): 1000 --> 10 Fully Connected Layer \n",
    "   * SoftMax included in nn.CrossEntropyLoss()"
   ]
  },
  {
   "cell_type": "code",
   "execution_count": 71,
   "metadata": {
    "ExecuteTime": {
     "end_time": "2019-01-06T00:35:13.933631Z",
     "start_time": "2019-01-06T00:35:13.928317Z"
    }
   },
   "outputs": [],
   "source": [
    "class MNISTConvNet(nn.Module):\n",
    "    def __init__(self):\n",
    "        super(MNISTConvNet, self).__init__()\n",
    "        \n",
    "        self.layer1 = nn.Sequential(\n",
    "            nn.Conv2d(1, 32, kernel_size=5, stride=1, padding=2),\n",
    "            nn.ReLU(),\n",
    "            nn.MaxPool2d(kernel_size=2, stride=2)\n",
    "            )\n",
    "#       self.layer2 = nn.Sequential(\n",
    "#           nn.Conv2d(32, 64, kernel_size=5, stride=1, padding=2),\n",
    "#           nn.ReLU(),\n",
    "#           nn.MaxPool2d(kernel_size=2, stride=2)\n",
    "#           )\n",
    "        self.drop_out = nn.Dropout()\n",
    "        self.fc1 = nn.Linear(14 * 14 * 32, 1000)\n",
    "        self.fc2 = nn.Linear(1000, 10)\n",
    "    \n",
    "    def forward(self, x):\n",
    "        out = self.layer1(x)\n",
    "#        out = self.layer2(out)\n",
    "        out = out.reshape(out.size(0), -1)\n",
    "        out = self.drop_out(out)\n",
    "        out = self.fc1(out)\n",
    "        out = self.fc2(out)\n",
    "        return out "
   ]
  },
  {
   "cell_type": "code",
   "execution_count": 72,
   "metadata": {
    "ExecuteTime": {
     "end_time": "2019-01-06T00:35:15.391049Z",
     "start_time": "2019-01-06T00:35:15.341525Z"
    }
   },
   "outputs": [],
   "source": [
    "model = MNISTConvNet()\n",
    "\n",
    "# Loss and Optimizer\n",
    "criterion = nn.CrossEntropyLoss()\n",
    "optimizer = torch.optim.Adam(model.parameters(), lr=LEARNING_RATE)"
   ]
  },
  {
   "cell_type": "code",
   "execution_count": 76,
   "metadata": {
    "ExecuteTime": {
     "end_time": "2019-01-06T00:45:08.649864Z",
     "start_time": "2019-01-06T00:35:28.902730Z"
    }
   },
   "outputs": [
    {
     "name": "stdout",
     "output_type": "stream",
     "text": [
      "Epoch [1/8], Step [100/600], Loss: 0.2443, Accuracy: 89.00%\n",
      "Epoch [1/8], Step [200/600], Loss: 0.2580, Accuracy: 92.00%\n",
      "Epoch [1/8], Step [300/600], Loss: 0.2750, Accuracy: 91.00%\n",
      "Epoch [1/8], Step [400/600], Loss: 0.2282, Accuracy: 94.00%\n",
      "Epoch [1/8], Step [500/600], Loss: 0.2843, Accuracy: 93.00%\n",
      "Epoch [1/8], Step [600/600], Loss: 0.2317, Accuracy: 94.00%\n",
      "Epoch [2/8], Step [100/600], Loss: 0.0868, Accuracy: 97.00%\n",
      "Epoch [2/8], Step [200/600], Loss: 0.0966, Accuracy: 96.00%\n",
      "Epoch [2/8], Step [300/600], Loss: 0.0300, Accuracy: 99.00%\n",
      "Epoch [2/8], Step [400/600], Loss: 0.0601, Accuracy: 97.00%\n",
      "Epoch [2/8], Step [500/600], Loss: 0.2003, Accuracy: 96.00%\n",
      "Epoch [2/8], Step [600/600], Loss: 0.0292, Accuracy: 100.00%\n",
      "Epoch [3/8], Step [100/600], Loss: 0.1290, Accuracy: 97.00%\n",
      "Epoch [3/8], Step [200/600], Loss: 0.1706, Accuracy: 96.00%\n",
      "Epoch [3/8], Step [300/600], Loss: 0.0772, Accuracy: 95.00%\n",
      "Epoch [3/8], Step [400/600], Loss: 0.0505, Accuracy: 98.00%\n",
      "Epoch [3/8], Step [500/600], Loss: 0.0643, Accuracy: 98.00%\n",
      "Epoch [3/8], Step [600/600], Loss: 0.1058, Accuracy: 96.00%\n",
      "Epoch [4/8], Step [100/600], Loss: 0.0223, Accuracy: 99.00%\n",
      "Epoch [4/8], Step [200/600], Loss: 0.0679, Accuracy: 96.00%\n",
      "Epoch [4/8], Step [300/600], Loss: 0.0875, Accuracy: 96.00%\n",
      "Epoch [4/8], Step [400/600], Loss: 0.1820, Accuracy: 93.00%\n",
      "Epoch [4/8], Step [500/600], Loss: 0.0459, Accuracy: 98.00%\n",
      "Epoch [4/8], Step [600/600], Loss: 0.1148, Accuracy: 98.00%\n",
      "Epoch [5/8], Step [100/600], Loss: 0.0342, Accuracy: 99.00%\n",
      "Epoch [5/8], Step [200/600], Loss: 0.0659, Accuracy: 98.00%\n",
      "Epoch [5/8], Step [300/600], Loss: 0.0224, Accuracy: 98.00%\n",
      "Epoch [5/8], Step [400/600], Loss: 0.0059, Accuracy: 100.00%\n",
      "Epoch [5/8], Step [500/600], Loss: 0.0419, Accuracy: 99.00%\n",
      "Epoch [5/8], Step [600/600], Loss: 0.0270, Accuracy: 99.00%\n",
      "Epoch [6/8], Step [100/600], Loss: 0.0882, Accuracy: 99.00%\n",
      "Epoch [6/8], Step [200/600], Loss: 0.0226, Accuracy: 99.00%\n",
      "Epoch [6/8], Step [300/600], Loss: 0.0656, Accuracy: 98.00%\n",
      "Epoch [6/8], Step [400/600], Loss: 0.1231, Accuracy: 97.00%\n",
      "Epoch [6/8], Step [500/600], Loss: 0.0198, Accuracy: 99.00%\n",
      "Epoch [6/8], Step [600/600], Loss: 0.0173, Accuracy: 100.00%\n",
      "Epoch [7/8], Step [100/600], Loss: 0.1034, Accuracy: 98.00%\n",
      "Epoch [7/8], Step [200/600], Loss: 0.0670, Accuracy: 98.00%\n",
      "Epoch [7/8], Step [300/600], Loss: 0.0622, Accuracy: 98.00%\n",
      "Epoch [7/8], Step [400/600], Loss: 0.0142, Accuracy: 100.00%\n",
      "Epoch [7/8], Step [500/600], Loss: 0.0696, Accuracy: 97.00%\n",
      "Epoch [7/8], Step [600/600], Loss: 0.0697, Accuracy: 98.00%\n",
      "Epoch [8/8], Step [100/600], Loss: 0.0304, Accuracy: 99.00%\n",
      "Epoch [8/8], Step [200/600], Loss: 0.0138, Accuracy: 100.00%\n",
      "Epoch [8/8], Step [300/600], Loss: 0.0330, Accuracy: 99.00%\n",
      "Epoch [8/8], Step [400/600], Loss: 0.0840, Accuracy: 97.00%\n",
      "Epoch [8/8], Step [500/600], Loss: 0.1215, Accuracy: 94.00%\n",
      "Epoch [8/8], Step [600/600], Loss: 0.0501, Accuracy: 99.00%\n"
     ]
    }
   ],
   "source": [
    "# Training the model\n",
    "total_step = len(train_loader)\n",
    "loss_list = []\n",
    "acc_list = []\n",
    "\n",
    "for epoch in range(EPOCHS):\n",
    "    for i, (images, labels) in enumerate(train_loader):\n",
    "        # Run forward pass \n",
    "        outputs = model(images)\n",
    "        loss = criterion(outputs, labels)\n",
    "        loss_list.append(loss.item())\n",
    "        \n",
    "        # Now backpropogate and apply Adam\n",
    "        optimizer.zero_grad()\n",
    "        loss.backward()\n",
    "        optimizer.step()\n",
    "        \n",
    "        # Track accuracy\n",
    "        total = labels.size(0)\n",
    "        _, predicted = torch.max(outputs.data, 1)\n",
    "        correct = (predicted==labels).sum().item()\n",
    "        acc_list.append(correct / total)\n",
    "        \n",
    "        if (i+1) % 100 == 0:\n",
    "             print('Epoch [{}/{}], Step [{}/{}], Loss: {:.4f}, Accuracy: {:.2f}%'\n",
    "                  .format(epoch + 1, EPOCHS, i + 1, total_step, loss.item(),\n",
    "                          (correct / total) * 100))"
   ]
  },
  {
   "cell_type": "markdown",
   "metadata": {},
   "source": [
    "## Testing the accuracy"
   ]
  },
  {
   "cell_type": "code",
   "execution_count": 81,
   "metadata": {
    "ExecuteTime": {
     "end_time": "2019-01-06T01:05:57.095823Z",
     "start_time": "2019-01-06T01:05:53.128145Z"
    }
   },
   "outputs": [
    {
     "name": "stdout",
     "output_type": "stream",
     "text": [
      "Test Accuracy of the model on the 10000 test images: 98.35000000000001 %\n"
     ]
    }
   ],
   "source": [
    "model.eval()\n",
    "with torch.no_grad():\n",
    "    correct = 0\n",
    "    total = 0\n",
    "    for images, labels in test_loader:\n",
    "        outputs = model(images)\n",
    "        _, predicted = torch.max(outputs.data, 1)\n",
    "        correct += (predicted==labels).sum().item()\n",
    "        total += labels.size(0)\n",
    "    \n",
    "    print('Test Accuracy of the model on the 10000 test images: {} %'.format((correct / total) * 100))\n",
    "    \n",
    "# Save the model and plot\n",
    "torch.save(model.state_dict(), os.path.join(MODEL_PATH, 'mnist_conv1_fc2_model_new.ckpt'))"
   ]
  },
  {
   "cell_type": "markdown",
   "metadata": {},
   "source": [
    "Now we find the variance of the output of our model"
   ]
  },
  {
   "cell_type": "code",
   "execution_count": 30,
   "metadata": {
    "ExecuteTime": {
     "end_time": "2019-01-05T23:14:12.343963Z",
     "start_time": "2019-01-05T23:14:08.977371Z"
    }
   },
   "outputs": [
    {
     "name": "stdout",
     "output_type": "stream",
     "text": [
      "tensor(0.1040)\n"
     ]
    }
   ],
   "source": [
    "model.eval()\n",
    "\n",
    "results = []\n",
    "\n",
    "with torch.no_grad():\n",
    "    for images, labels in test_loader:\n",
    "        outputs = model(images)\n",
    "        _, predicted = torch.max(outputs.data, 1)\n",
    "        results.append(predicted)\n",
    "    \n",
    "results = torch.cat(results) \n",
    "variance = (results.float().std()/9)**2\n",
    "print(variance)"
   ]
  },
  {
   "cell_type": "code",
   "execution_count": 31,
   "metadata": {
    "ExecuteTime": {
     "end_time": "2019-01-05T23:14:15.373941Z",
     "start_time": "2019-01-05T23:14:15.365093Z"
    }
   },
   "outputs": [
    {
     "data": {
      "text/plain": [
       "tensor(0.1035)"
      ]
     },
     "execution_count": 31,
     "metadata": {},
     "output_type": "execute_result"
    }
   ],
   "source": [
    "# Compare to the pre-sample variance\n",
    "(test_dataset.test_labels.float().std()/9)**2"
   ]
  },
  {
   "cell_type": "markdown",
   "metadata": {},
   "source": [
    "### Plot accuracy and loss"
   ]
  },
  {
   "cell_type": "code",
   "execution_count": 75,
   "metadata": {
    "ExecuteTime": {
     "end_time": "2018-09-26T21:32:25.057808Z",
     "start_time": "2018-09-26T21:32:23.085037Z"
    }
   },
   "outputs": [
    {
     "data": {
      "text/html": [
       "\n",
       "    <div class=\"bk-root\">\n",
       "        <a href=\"https://bokeh.pydata.org\" target=\"_blank\" class=\"bk-logo bk-logo-small bk-logo-notebook\"></a>\n",
       "        <span id=\"bc0681eb-dc5d-45d1-b843-a6f3dda03833\">Loading BokehJS ...</span>\n",
       "    </div>"
      ]
     },
     "metadata": {},
     "output_type": "display_data"
    },
    {
     "data": {
      "application/javascript": [
       "\n",
       "(function(root) {\n",
       "  function now() {\n",
       "    return new Date();\n",
       "  }\n",
       "\n",
       "  var force = true;\n",
       "\n",
       "  if (typeof (root._bokeh_onload_callbacks) === \"undefined\" || force === true) {\n",
       "    root._bokeh_onload_callbacks = [];\n",
       "    root._bokeh_is_loading = undefined;\n",
       "  }\n",
       "\n",
       "  var JS_MIME_TYPE = 'application/javascript';\n",
       "  var HTML_MIME_TYPE = 'text/html';\n",
       "  var EXEC_MIME_TYPE = 'application/vnd.bokehjs_exec.v0+json';\n",
       "  var CLASS_NAME = 'output_bokeh rendered_html';\n",
       "\n",
       "  /**\n",
       "   * Render data to the DOM node\n",
       "   */\n",
       "  function render(props, node) {\n",
       "    var script = document.createElement(\"script\");\n",
       "    node.appendChild(script);\n",
       "  }\n",
       "\n",
       "  /**\n",
       "   * Handle when an output is cleared or removed\n",
       "   */\n",
       "  function handleClearOutput(event, handle) {\n",
       "    var cell = handle.cell;\n",
       "\n",
       "    var id = cell.output_area._bokeh_element_id;\n",
       "    var server_id = cell.output_area._bokeh_server_id;\n",
       "    // Clean up Bokeh references\n",
       "    if (id !== undefined) {\n",
       "      Bokeh.index[id].model.document.clear();\n",
       "      delete Bokeh.index[id];\n",
       "    }\n",
       "\n",
       "    if (server_id !== undefined) {\n",
       "      // Clean up Bokeh references\n",
       "      var cmd = \"from bokeh.io.state import curstate; print(curstate().uuid_to_server['\" + server_id + \"'].get_sessions()[0].document.roots[0]._id)\";\n",
       "      cell.notebook.kernel.execute(cmd, {\n",
       "        iopub: {\n",
       "          output: function(msg) {\n",
       "            var element_id = msg.content.text.trim();\n",
       "            Bokeh.index[element_id].model.document.clear();\n",
       "            delete Bokeh.index[element_id];\n",
       "          }\n",
       "        }\n",
       "      });\n",
       "      // Destroy server and session\n",
       "      var cmd = \"import bokeh.io.notebook as ion; ion.destroy_server('\" + server_id + \"')\";\n",
       "      cell.notebook.kernel.execute(cmd);\n",
       "    }\n",
       "  }\n",
       "\n",
       "  /**\n",
       "   * Handle when a new output is added\n",
       "   */\n",
       "  function handleAddOutput(event, handle) {\n",
       "    var output_area = handle.output_area;\n",
       "    var output = handle.output;\n",
       "\n",
       "    // limit handleAddOutput to display_data with EXEC_MIME_TYPE content only\n",
       "    if ((output.output_type != \"display_data\") || (!output.data.hasOwnProperty(EXEC_MIME_TYPE))) {\n",
       "      return\n",
       "    }\n",
       "\n",
       "    var toinsert = output_area.element.find(\".\" + CLASS_NAME.split(' ')[0]);\n",
       "\n",
       "    if (output.metadata[EXEC_MIME_TYPE][\"id\"] !== undefined) {\n",
       "      toinsert[toinsert.length - 1].firstChild.textContent = output.data[JS_MIME_TYPE];\n",
       "      // store reference to embed id on output_area\n",
       "      output_area._bokeh_element_id = output.metadata[EXEC_MIME_TYPE][\"id\"];\n",
       "    }\n",
       "    if (output.metadata[EXEC_MIME_TYPE][\"server_id\"] !== undefined) {\n",
       "      var bk_div = document.createElement(\"div\");\n",
       "      bk_div.innerHTML = output.data[HTML_MIME_TYPE];\n",
       "      var script_attrs = bk_div.children[0].attributes;\n",
       "      for (var i = 0; i < script_attrs.length; i++) {\n",
       "        toinsert[toinsert.length - 1].firstChild.setAttribute(script_attrs[i].name, script_attrs[i].value);\n",
       "      }\n",
       "      // store reference to server id on output_area\n",
       "      output_area._bokeh_server_id = output.metadata[EXEC_MIME_TYPE][\"server_id\"];\n",
       "    }\n",
       "  }\n",
       "\n",
       "  function register_renderer(events, OutputArea) {\n",
       "\n",
       "    function append_mime(data, metadata, element) {\n",
       "      // create a DOM node to render to\n",
       "      var toinsert = this.create_output_subarea(\n",
       "        metadata,\n",
       "        CLASS_NAME,\n",
       "        EXEC_MIME_TYPE\n",
       "      );\n",
       "      this.keyboard_manager.register_events(toinsert);\n",
       "      // Render to node\n",
       "      var props = {data: data, metadata: metadata[EXEC_MIME_TYPE]};\n",
       "      render(props, toinsert[toinsert.length - 1]);\n",
       "      element.append(toinsert);\n",
       "      return toinsert\n",
       "    }\n",
       "\n",
       "    /* Handle when an output is cleared or removed */\n",
       "    events.on('clear_output.CodeCell', handleClearOutput);\n",
       "    events.on('delete.Cell', handleClearOutput);\n",
       "\n",
       "    /* Handle when a new output is added */\n",
       "    events.on('output_added.OutputArea', handleAddOutput);\n",
       "\n",
       "    /**\n",
       "     * Register the mime type and append_mime function with output_area\n",
       "     */\n",
       "    OutputArea.prototype.register_mime_type(EXEC_MIME_TYPE, append_mime, {\n",
       "      /* Is output safe? */\n",
       "      safe: true,\n",
       "      /* Index of renderer in `output_area.display_order` */\n",
       "      index: 0\n",
       "    });\n",
       "  }\n",
       "\n",
       "  // register the mime type if in Jupyter Notebook environment and previously unregistered\n",
       "  if (root.Jupyter !== undefined) {\n",
       "    var events = require('base/js/events');\n",
       "    var OutputArea = require('notebook/js/outputarea').OutputArea;\n",
       "\n",
       "    if (OutputArea.prototype.mime_types().indexOf(EXEC_MIME_TYPE) == -1) {\n",
       "      register_renderer(events, OutputArea);\n",
       "    }\n",
       "  }\n",
       "\n",
       "  \n",
       "  if (typeof (root._bokeh_timeout) === \"undefined\" || force === true) {\n",
       "    root._bokeh_timeout = Date.now() + 5000;\n",
       "    root._bokeh_failed_load = false;\n",
       "  }\n",
       "\n",
       "  var NB_LOAD_WARNING = {'data': {'text/html':\n",
       "     \"<div style='background-color: #fdd'>\\n\"+\n",
       "     \"<p>\\n\"+\n",
       "     \"BokehJS does not appear to have successfully loaded. If loading BokehJS from CDN, this \\n\"+\n",
       "     \"may be due to a slow or bad network connection. Possible fixes:\\n\"+\n",
       "     \"</p>\\n\"+\n",
       "     \"<ul>\\n\"+\n",
       "     \"<li>re-rerun `output_notebook()` to attempt to load from CDN again, or</li>\\n\"+\n",
       "     \"<li>use INLINE resources instead, as so:</li>\\n\"+\n",
       "     \"</ul>\\n\"+\n",
       "     \"<code>\\n\"+\n",
       "     \"from bokeh.resources import INLINE\\n\"+\n",
       "     \"output_notebook(resources=INLINE)\\n\"+\n",
       "     \"</code>\\n\"+\n",
       "     \"</div>\"}};\n",
       "\n",
       "  function display_loaded() {\n",
       "    var el = document.getElementById(\"bc0681eb-dc5d-45d1-b843-a6f3dda03833\");\n",
       "    if (el != null) {\n",
       "      el.textContent = \"BokehJS is loading...\";\n",
       "    }\n",
       "    if (root.Bokeh !== undefined) {\n",
       "      if (el != null) {\n",
       "        el.textContent = \"BokehJS \" + root.Bokeh.version + \" successfully loaded.\";\n",
       "      }\n",
       "    } else if (Date.now() < root._bokeh_timeout) {\n",
       "      setTimeout(display_loaded, 100)\n",
       "    }\n",
       "  }\n",
       "\n",
       "\n",
       "  function run_callbacks() {\n",
       "    try {\n",
       "      root._bokeh_onload_callbacks.forEach(function(callback) { callback() });\n",
       "    }\n",
       "    finally {\n",
       "      delete root._bokeh_onload_callbacks\n",
       "    }\n",
       "    console.info(\"Bokeh: all callbacks have finished\");\n",
       "  }\n",
       "\n",
       "  function load_libs(js_urls, callback) {\n",
       "    root._bokeh_onload_callbacks.push(callback);\n",
       "    if (root._bokeh_is_loading > 0) {\n",
       "      console.log(\"Bokeh: BokehJS is being loaded, scheduling callback at\", now());\n",
       "      return null;\n",
       "    }\n",
       "    if (js_urls == null || js_urls.length === 0) {\n",
       "      run_callbacks();\n",
       "      return null;\n",
       "    }\n",
       "    console.log(\"Bokeh: BokehJS not loaded, scheduling load and callback at\", now());\n",
       "    root._bokeh_is_loading = js_urls.length;\n",
       "    for (var i = 0; i < js_urls.length; i++) {\n",
       "      var url = js_urls[i];\n",
       "      var s = document.createElement('script');\n",
       "      s.src = url;\n",
       "      s.async = false;\n",
       "      s.onreadystatechange = s.onload = function() {\n",
       "        root._bokeh_is_loading--;\n",
       "        if (root._bokeh_is_loading === 0) {\n",
       "          console.log(\"Bokeh: all BokehJS libraries loaded\");\n",
       "          run_callbacks()\n",
       "        }\n",
       "      };\n",
       "      s.onerror = function() {\n",
       "        console.warn(\"failed to load library \" + url);\n",
       "      };\n",
       "      console.log(\"Bokeh: injecting script tag for BokehJS library: \", url);\n",
       "      document.getElementsByTagName(\"head\")[0].appendChild(s);\n",
       "    }\n",
       "  };var element = document.getElementById(\"bc0681eb-dc5d-45d1-b843-a6f3dda03833\");\n",
       "  if (element == null) {\n",
       "    console.log(\"Bokeh: ERROR: autoload.js configured with elementid 'bc0681eb-dc5d-45d1-b843-a6f3dda03833' but no matching script tag was found. \")\n",
       "    return false;\n",
       "  }\n",
       "\n",
       "  var js_urls = [\"https://cdn.pydata.org/bokeh/release/bokeh-0.12.16.min.js\", \"https://cdn.pydata.org/bokeh/release/bokeh-widgets-0.12.16.min.js\", \"https://cdn.pydata.org/bokeh/release/bokeh-tables-0.12.16.min.js\", \"https://cdn.pydata.org/bokeh/release/bokeh-gl-0.12.16.min.js\"];\n",
       "\n",
       "  var inline_js = [\n",
       "    function(Bokeh) {\n",
       "      Bokeh.set_log_level(\"info\");\n",
       "    },\n",
       "    \n",
       "    function(Bokeh) {\n",
       "      \n",
       "    },\n",
       "    function(Bokeh) {\n",
       "      console.log(\"Bokeh: injecting CSS: https://cdn.pydata.org/bokeh/release/bokeh-0.12.16.min.css\");\n",
       "      Bokeh.embed.inject_css(\"https://cdn.pydata.org/bokeh/release/bokeh-0.12.16.min.css\");\n",
       "      console.log(\"Bokeh: injecting CSS: https://cdn.pydata.org/bokeh/release/bokeh-widgets-0.12.16.min.css\");\n",
       "      Bokeh.embed.inject_css(\"https://cdn.pydata.org/bokeh/release/bokeh-widgets-0.12.16.min.css\");\n",
       "      console.log(\"Bokeh: injecting CSS: https://cdn.pydata.org/bokeh/release/bokeh-tables-0.12.16.min.css\");\n",
       "      Bokeh.embed.inject_css(\"https://cdn.pydata.org/bokeh/release/bokeh-tables-0.12.16.min.css\");\n",
       "    }\n",
       "  ];\n",
       "\n",
       "  function run_inline_js() {\n",
       "    \n",
       "    if ((root.Bokeh !== undefined) || (force === true)) {\n",
       "      for (var i = 0; i < inline_js.length; i++) {\n",
       "        inline_js[i].call(root, root.Bokeh);\n",
       "      }if (force === true) {\n",
       "        display_loaded();\n",
       "      }} else if (Date.now() < root._bokeh_timeout) {\n",
       "      setTimeout(run_inline_js, 100);\n",
       "    } else if (!root._bokeh_failed_load) {\n",
       "      console.log(\"Bokeh: BokehJS failed to load within specified timeout.\");\n",
       "      root._bokeh_failed_load = true;\n",
       "    } else if (force !== true) {\n",
       "      var cell = $(document.getElementById(\"bc0681eb-dc5d-45d1-b843-a6f3dda03833\")).parents('.cell').data().cell;\n",
       "      cell.output_area.append_execute_result(NB_LOAD_WARNING)\n",
       "    }\n",
       "\n",
       "  }\n",
       "\n",
       "  if (root._bokeh_is_loading === 0) {\n",
       "    console.log(\"Bokeh: BokehJS loaded, going straight to plotting\");\n",
       "    run_inline_js();\n",
       "  } else {\n",
       "    load_libs(js_urls, function() {\n",
       "      console.log(\"Bokeh: BokehJS plotting callback run at\", now());\n",
       "      run_inline_js();\n",
       "    });\n",
       "  }\n",
       "}(window));"
      ],
      "application/vnd.bokehjs_load.v0+json": "\n(function(root) {\n  function now() {\n    return new Date();\n  }\n\n  var force = true;\n\n  if (typeof (root._bokeh_onload_callbacks) === \"undefined\" || force === true) {\n    root._bokeh_onload_callbacks = [];\n    root._bokeh_is_loading = undefined;\n  }\n\n  \n\n  \n  if (typeof (root._bokeh_timeout) === \"undefined\" || force === true) {\n    root._bokeh_timeout = Date.now() + 5000;\n    root._bokeh_failed_load = false;\n  }\n\n  var NB_LOAD_WARNING = {'data': {'text/html':\n     \"<div style='background-color: #fdd'>\\n\"+\n     \"<p>\\n\"+\n     \"BokehJS does not appear to have successfully loaded. If loading BokehJS from CDN, this \\n\"+\n     \"may be due to a slow or bad network connection. Possible fixes:\\n\"+\n     \"</p>\\n\"+\n     \"<ul>\\n\"+\n     \"<li>re-rerun `output_notebook()` to attempt to load from CDN again, or</li>\\n\"+\n     \"<li>use INLINE resources instead, as so:</li>\\n\"+\n     \"</ul>\\n\"+\n     \"<code>\\n\"+\n     \"from bokeh.resources import INLINE\\n\"+\n     \"output_notebook(resources=INLINE)\\n\"+\n     \"</code>\\n\"+\n     \"</div>\"}};\n\n  function display_loaded() {\n    var el = document.getElementById(\"bc0681eb-dc5d-45d1-b843-a6f3dda03833\");\n    if (el != null) {\n      el.textContent = \"BokehJS is loading...\";\n    }\n    if (root.Bokeh !== undefined) {\n      if (el != null) {\n        el.textContent = \"BokehJS \" + root.Bokeh.version + \" successfully loaded.\";\n      }\n    } else if (Date.now() < root._bokeh_timeout) {\n      setTimeout(display_loaded, 100)\n    }\n  }\n\n\n  function run_callbacks() {\n    try {\n      root._bokeh_onload_callbacks.forEach(function(callback) { callback() });\n    }\n    finally {\n      delete root._bokeh_onload_callbacks\n    }\n    console.info(\"Bokeh: all callbacks have finished\");\n  }\n\n  function load_libs(js_urls, callback) {\n    root._bokeh_onload_callbacks.push(callback);\n    if (root._bokeh_is_loading > 0) {\n      console.log(\"Bokeh: BokehJS is being loaded, scheduling callback at\", now());\n      return null;\n    }\n    if (js_urls == null || js_urls.length === 0) {\n      run_callbacks();\n      return null;\n    }\n    console.log(\"Bokeh: BokehJS not loaded, scheduling load and callback at\", now());\n    root._bokeh_is_loading = js_urls.length;\n    for (var i = 0; i < js_urls.length; i++) {\n      var url = js_urls[i];\n      var s = document.createElement('script');\n      s.src = url;\n      s.async = false;\n      s.onreadystatechange = s.onload = function() {\n        root._bokeh_is_loading--;\n        if (root._bokeh_is_loading === 0) {\n          console.log(\"Bokeh: all BokehJS libraries loaded\");\n          run_callbacks()\n        }\n      };\n      s.onerror = function() {\n        console.warn(\"failed to load library \" + url);\n      };\n      console.log(\"Bokeh: injecting script tag for BokehJS library: \", url);\n      document.getElementsByTagName(\"head\")[0].appendChild(s);\n    }\n  };var element = document.getElementById(\"bc0681eb-dc5d-45d1-b843-a6f3dda03833\");\n  if (element == null) {\n    console.log(\"Bokeh: ERROR: autoload.js configured with elementid 'bc0681eb-dc5d-45d1-b843-a6f3dda03833' but no matching script tag was found. \")\n    return false;\n  }\n\n  var js_urls = [\"https://cdn.pydata.org/bokeh/release/bokeh-0.12.16.min.js\", \"https://cdn.pydata.org/bokeh/release/bokeh-widgets-0.12.16.min.js\", \"https://cdn.pydata.org/bokeh/release/bokeh-tables-0.12.16.min.js\", \"https://cdn.pydata.org/bokeh/release/bokeh-gl-0.12.16.min.js\"];\n\n  var inline_js = [\n    function(Bokeh) {\n      Bokeh.set_log_level(\"info\");\n    },\n    \n    function(Bokeh) {\n      \n    },\n    function(Bokeh) {\n      console.log(\"Bokeh: injecting CSS: https://cdn.pydata.org/bokeh/release/bokeh-0.12.16.min.css\");\n      Bokeh.embed.inject_css(\"https://cdn.pydata.org/bokeh/release/bokeh-0.12.16.min.css\");\n      console.log(\"Bokeh: injecting CSS: https://cdn.pydata.org/bokeh/release/bokeh-widgets-0.12.16.min.css\");\n      Bokeh.embed.inject_css(\"https://cdn.pydata.org/bokeh/release/bokeh-widgets-0.12.16.min.css\");\n      console.log(\"Bokeh: injecting CSS: https://cdn.pydata.org/bokeh/release/bokeh-tables-0.12.16.min.css\");\n      Bokeh.embed.inject_css(\"https://cdn.pydata.org/bokeh/release/bokeh-tables-0.12.16.min.css\");\n    }\n  ];\n\n  function run_inline_js() {\n    \n    if ((root.Bokeh !== undefined) || (force === true)) {\n      for (var i = 0; i < inline_js.length; i++) {\n        inline_js[i].call(root, root.Bokeh);\n      }if (force === true) {\n        display_loaded();\n      }} else if (Date.now() < root._bokeh_timeout) {\n      setTimeout(run_inline_js, 100);\n    } else if (!root._bokeh_failed_load) {\n      console.log(\"Bokeh: BokehJS failed to load within specified timeout.\");\n      root._bokeh_failed_load = true;\n    } else if (force !== true) {\n      var cell = $(document.getElementById(\"bc0681eb-dc5d-45d1-b843-a6f3dda03833\")).parents('.cell').data().cell;\n      cell.output_area.append_execute_result(NB_LOAD_WARNING)\n    }\n\n  }\n\n  if (root._bokeh_is_loading === 0) {\n    console.log(\"Bokeh: BokehJS loaded, going straight to plotting\");\n    run_inline_js();\n  } else {\n    load_libs(js_urls, function() {\n      console.log(\"Bokeh: BokehJS plotting callback run at\", now());\n      run_inline_js();\n    });\n  }\n}(window));"
     },
     "metadata": {},
     "output_type": "display_data"
    },
    {
     "data": {
      "text/plain": [
       "'/Users/tylerzhu/Desktop/tyleryzhu/pallas-starter-project/ConvNetAccLoss.png'"
      ]
     },
     "execution_count": 75,
     "metadata": {},
     "output_type": "execute_result"
    }
   ],
   "source": [
    "from bokeh.plotting import figure\n",
    "from bokeh.io import show, output_notebook, export_png\n",
    "from bokeh.models import LinearAxis, Range1d\n",
    "import numpy as np\n",
    "\n",
    "output_notebook() # for printing in jupyter\n",
    "\n",
    "p = figure(y_axis_label='Loss', width=850, y_range=(0,1), title='PyTorch ConvNet Results')\n",
    "p.extra_y_ranges = {'Accuracy': Range1d(start=0,end=100)}\n",
    "p.add_layout(LinearAxis(y_range_name='Accuracy', axis_label='Accuracy (%)'), 'right')\n",
    "p.line(np.arange(len(loss_list)), loss_list)\n",
    "p.line(np.arange(len(acc_list)), acc_list, color='red')\n",
    "export_png(p, filename='ConvNetAccLoss.png')"
   ]
  },
  {
   "cell_type": "code",
   "execution_count": 81,
   "metadata": {
    "ExecuteTime": {
     "end_time": "2018-09-26T21:38:20.795432Z",
     "start_time": "2018-09-26T21:38:20.787249Z"
    }
   },
   "outputs": [
    {
     "data": {
      "image/png": "[encoded data removed]",
      "text/plain": [
       "<IPython.core.display.Image object>"
      ]
     },
     "execution_count": 81,
     "metadata": {},
     "output_type": "execute_result"
    }
   ],
   "source": [
    "from IPython.display import Image\n",
    "Image('./ConvNetAccLoss.png')"
   ]
  },
  {
   "cell_type": "markdown",
   "metadata": {},
   "source": [
    "## Creating samples with noise"
   ]
  },
  {
   "cell_type": "markdown",
   "metadata": {},
   "source": [
    "TODO: Multithread the functions here so it runs faster"
   ]
  },
  {
   "cell_type": "code",
   "execution_count": null,
   "metadata": {
    "ExecuteTime": {
     "end_time": "2019-01-08T03:16:18.038544Z",
     "start_time": "2019-01-08T03:16:16.765Z"
    },
    "init_cell": true
   },
   "outputs": [],
   "source": [
    "def addNoise(inp, sigma, clamp = True): \n",
    "    ''' Adds Gaussian noise N(0, sigma) to a ndarray or tensor inp.\n",
    "        Clamps values to [0, 255]\n",
    "        Returns a FloatTensor with noise added.'''\n",
    "    if type(inp) != torch.Tensor:\n",
    "        try:\n",
    "            inp =  torch.Tensor(inp)\n",
    "        except:\n",
    "            print(\"Error: Input of type {} couldn't be converted to PyTorch tensor!\".format(type(inp)))\n",
    "            raise\n",
    "    inp = inp.type(torch.FloatTensor)\n",
    "    shape = inp.shape \n",
    "    noise = torch.tensor(np.random.normal(0, sigma, size = shape)).type(torch.FloatTensor)\n",
    "    return torch.clamp(noise+inp, 0, 255) if clamp else noise+inp #to clamp or not to clamp? "
   ]
  },
  {
   "cell_type": "code",
   "execution_count": 18,
   "metadata": {
    "ExecuteTime": {
     "end_time": "2018-11-02T09:27:28.995140Z",
     "start_time": "2018-11-02T09:27:28.979760Z"
    }
   },
   "outputs": [],
   "source": [
    "trans = transforms.Compose([transforms.ToTensor(), \n",
    "                            transforms.Normalize((0.1307,), (0.3081,))])\n",
    "test_dataset = torchvision.datasets.MNIST(root=DATA_PATH, train=False, transform=trans, download=False)\n",
    "test_loader = DataLoader(dataset = test_dataset, batch_size=BATCH_SIZE, shuffle = False)"
   ]
  },
  {
   "cell_type": "markdown",
   "metadata": {},
   "source": [
    "Here I'm just plotting the images to see what kind of noise I'm getting. I also clamped the values to the range [0,255] for more consistent performance. "
   ]
  },
  {
   "cell_type": "code",
   "execution_count": 49,
   "metadata": {
    "ExecuteTime": {
     "end_time": "2018-11-02T09:38:39.947795Z",
     "start_time": "2018-11-02T09:38:39.944102Z"
    }
   },
   "outputs": [],
   "source": [
    "t = test_dataset.test_data[0]"
   ]
  },
  {
   "cell_type": "code",
   "execution_count": 20,
   "metadata": {
    "ExecuteTime": {
     "end_time": "2018-11-02T09:27:33.449353Z",
     "start_time": "2018-11-02T09:27:33.443779Z"
    }
   },
   "outputs": [
    {
     "data": {
      "text/plain": [
       "True"
      ]
     },
     "execution_count": 20,
     "metadata": {},
     "output_type": "execute_result"
    }
   ],
   "source": [
    "type(t) == torch.Tensor"
   ]
  },
  {
   "cell_type": "code",
   "execution_count": 55,
   "metadata": {
    "ExecuteTime": {
     "end_time": "2018-11-02T09:39:14.591249Z",
     "start_time": "2018-11-02T09:39:14.583537Z"
    }
   },
   "outputs": [
    {
     "data": {
      "text/plain": [
       "tensor([[ 13.,  14.,  29.,  20.,  21.,  29.,  22.,  24.,  23.,  47.,  13.,  21.,\n",
       "           9.,  47.,  27.,  21.,  28.,  16.,  35.,  29.,  20.,  10.,  25.,  22.,\n",
       "          24.,  21.,  42.,  25.],\n",
       "        [ 20.,  27.,  29.,  39.,  34.,  26.,  15.,  32.,  25.,  20.,  28.,  15.,\n",
       "          29.,  36.,  30.,  40.,  21.,  23.,  30.,  27.,  11.,  17.,  10.,  19.,\n",
       "          20.,  31.,  19.,  32.],\n",
       "        [ 16.,  19.,  30.,  39.,  17.,   9.,  20.,  19.,  13.,  28.,  36.,   8.,\n",
       "          21.,  33.,  47.,  19.,  33.,  27.,  29.,  23.,  35.,  31.,  34.,  10.,\n",
       "          24.,  24.,  39.,  43.],\n",
       "        [ 20.,  25.,  22.,   9.,  25.,  38.,  26.,  30.,  31.,  25.,  12.,  15.,\n",
       "          44.,  23.,  22.,  29.,  28.,  11.,  28.,  33.,  34.,   9.,  19.,  22.,\n",
       "          14.,  26.,  19.,  39.],\n",
       "        [ 31.,  32.,  26.,  15.,  20.,  14.,  22.,  31.,  31.,  17.,  12.,  14.,\n",
       "          17.,  21.,  34.,  30.,  23.,  20.,  31.,   6.,  17.,  38.,  35.,  28.,\n",
       "          22.,  23.,  29.,  13.],\n",
       "        [ 12.,  13.,  19.,  39.,  24.,  34.,  25.,  28.,  37.,  18.,  19.,  28.,\n",
       "          31.,  21.,  28.,  26.,  21.,  19.,  23.,  16.,  35.,  28.,  34.,  18.,\n",
       "          16.,  28.,  24.,  23.],\n",
       "        [ 30.,  17.,  38.,  11.,  13.,  20.,  13.,  31.,  26.,  25.,  15.,  20.,\n",
       "          31.,  37.,  34.,  30.,  34.,  20.,  26.,  30.,  22.,  17.,  22.,  28.,\n",
       "          22.,  37.,  30.,   7.],\n",
       "        [ 26.,  26.,  15.,  26.,  21.,  32.,  97., 183., 158., 139.,  69.,  47.,\n",
       "          29.,  25.,  21.,  22.,  24.,  18.,  12.,  18.,  32.,  42.,  31.,  31.,\n",
       "          18.,  15.,  16.,  23.],\n",
       "        [ 25.,  17.,  40.,  22.,  21.,  26., 214., 255., 231., 235., 233., 229.,\n",
       "         192., 189., 190., 193., 187., 178., 189., 188., 164.,  60.,  33.,  36.,\n",
       "          29.,  36.,  23.,  15.],\n",
       "        [ 14.,  27.,  17.,  32.,  36.,  27.,  86., 119.,  87., 123., 148., 213.,\n",
       "         230., 215., 245., 217., 230., 221., 212., 228., 227., 142.,  10.,  18.,\n",
       "          23.,  21.,  34.,  25.],\n",
       "        [ 28.,  11.,  20.,  32.,  32.,  26.,  26.,  28.,  26.,  40.,  31.,  38.,\n",
       "          99.,  42.,  80.,  54.,  87.,  85.,  42., 229., 235.,  99.,  19.,  39.,\n",
       "          22.,  22.,  30.,  30.],\n",
       "        [ 23.,  28.,  16.,  17.,  28.,  33.,  29.,  28.,  33.,  24.,  28.,  37.,\n",
       "          24.,  34.,  31.,  36.,  37.,  13.,  95., 244., 187.,  34.,  27.,  21.,\n",
       "          39.,  29.,  27.,  23.],\n",
       "        [ 17.,  33.,  12.,  27.,  22.,  27.,  31.,  13.,  18.,  28.,  30.,  27.,\n",
       "          24.,  13.,  31.,  37.,  29.,  30., 211., 222., 111.,  24.,  11.,  23.,\n",
       "          28.,  23.,  13.,  14.],\n",
       "        [ 10.,  28.,  26.,  18.,  35.,  38.,  21.,  29.,  19.,  32.,  29.,  32.,\n",
       "          22.,  14.,  11.,  21.,  26., 127., 229., 221.,  62.,  28.,  27.,  18.,\n",
       "          21.,   0.,  22.,  33.],\n",
       "        [ 21.,  15.,  24.,  30.,  27.,  43.,  33.,  27.,  33.,  22.,  24.,  21.,\n",
       "          32.,  29.,  21.,  29.,  76., 213., 236.,  75.,  29.,  16.,  20.,  13.,\n",
       "          27.,  37.,  29.,  17.],\n",
       "        [ 23.,  31.,  26.,  41.,  13.,  10.,  26.,  37.,  21.,  26.,  26.,  35.,\n",
       "          22.,  16.,  17.,  37., 139., 226., 184.,  33.,  29.,  19.,  28.,  30.,\n",
       "          25.,  24.,  22.,  16.],\n",
       "        [ 23.,  28.,  29.,  22.,  38.,  23.,  37.,  39.,  31.,  24.,  34.,  18.,\n",
       "          25.,  33.,  32.,  31., 212., 238.,  75.,  20.,  16.,  18.,  27.,  23.,\n",
       "          13.,  36.,  38.,  23.],\n",
       "        [ 18.,  20.,  43.,  16.,  28.,   7.,  27.,  29.,  23.,  26.,  35.,  16.,\n",
       "          25.,  32.,  16., 126., 231., 167.,  29.,  26.,  30.,  33.,  29.,  25.,\n",
       "          35.,  24.,  26.,  21.],\n",
       "        [ 34.,  36.,  30.,  13.,  24.,  19.,  30.,  15.,  32.,  33.,  20.,  40.,\n",
       "          14.,  18.,  85., 218., 223.,  71.,  24.,  35.,  19.,   7.,  19.,  12.,\n",
       "          26.,  24.,  35.,  40.],\n",
       "        [ 26.,  29.,  30.,  26.,  28.,  19.,  25.,  18.,  22.,  16.,  25.,  24.,\n",
       "          35.,  57., 197., 237., 165.,  33.,  20.,  17.,  18.,  14.,  38.,  29.,\n",
       "          24.,  30.,  35.,  28.],\n",
       "        [ 31.,  20.,  24.,  22.,  12.,  26.,  21.,  24.,  21.,  12.,  34.,  18.,\n",
       "          21., 182., 241., 208.,  71.,  37.,  34.,  30.,  22.,  25.,  26.,  27.,\n",
       "          31.,  32.,  35.,  15.],\n",
       "        [ 27.,  18.,  24.,  33.,  17.,  24.,  25.,  27.,  31.,  33.,  37.,  27.,\n",
       "          56., 229., 222.,  75.,  27.,  31.,  41.,  17.,  29.,  14.,  29.,  25.,\n",
       "          30.,  32.,  38.,  11.],\n",
       "        [ 22.,  25.,  37.,  23.,  14.,  18.,  22.,  24.,  39.,  32.,  35.,  48.,\n",
       "         194., 235., 132.,  15.,  35.,  26.,  20.,  17.,  16.,  27.,  28.,  33.,\n",
       "          28.,  15.,   1.,  20.],\n",
       "        [ 24.,  27.,  39.,  21.,  16.,  18.,  22.,  16.,  25.,  38.,  30., 134.,\n",
       "         232., 239.,  67.,  22.,  45.,  43.,  28.,  15.,  37.,  22.,  22.,  23.,\n",
       "          29.,  28.,  25.,  28.],\n",
       "        [ 15.,  35.,  30.,  26.,  15.,  10.,  11.,  30.,  31.,  31.,  76., 230.,\n",
       "         232., 232.,  79.,  36.,  18.,  24.,  27.,  39.,  21.,  13.,  30.,  25.,\n",
       "          37.,  18.,  14.,  20.],\n",
       "        [ 39.,  25.,   5.,  44.,  37.,  14.,  38.,  22.,  31.,  26., 129., 226.,\n",
       "         246., 210.,  57.,  29.,  32.,  32.,  36.,  19.,  26.,  31.,  20.,  30.,\n",
       "          34.,  26.,  53.,  37.],\n",
       "        [ 19.,  24.,  14.,  27.,  31.,  27.,  24.,  21.,  27.,  21., 136., 227.,\n",
       "         207.,  32.,  51.,  26.,  31.,  18.,  27.,  23.,  23.,  26.,  19.,  11.,\n",
       "          26.,  22.,  16.,  10.],\n",
       "        [  2.,  14.,  23.,  18.,   5.,  27.,  27.,  25.,  26.,  24.,  25.,  13.,\n",
       "          19.,  34.,  34.,  41.,  23.,  21.,  36.,  35.,  23.,  19.,  14.,  26.,\n",
       "          49.,  30.,  17.,  21.]])"
      ]
     },
     "execution_count": 55,
     "metadata": {},
     "output_type": "execute_result"
    }
   ],
   "source": [
    "u = addNoise(t, 10)\n",
    "u"
   ]
  },
  {
   "cell_type": "code",
   "execution_count": 56,
   "metadata": {
    "ExecuteTime": {
     "end_time": "2018-11-02T09:39:18.700300Z",
     "start_time": "2018-11-02T09:39:18.543937Z"
    }
   },
   "outputs": [
    {
     "data": {
      "text/plain": [
       "<matplotlib.image.AxesImage at 0x1264f8b70>"
      ]
     },
     "execution_count": 56,
     "metadata": {},
     "output_type": "execute_result"
    },
    {
     "data": {
      "image/png": "[encoded data removed]",
      "text/plain": [
       "<Figure size 432x288 with 1 Axes>"
      ]
     },
     "metadata": {},
     "output_type": "display_data"
    }
   ],
   "source": [
    "#plt.imshow(t, cmap='Greys')\n",
    "plt.imshow(u, cmap='Greys')"
   ]
  },
  {
   "cell_type": "code",
   "execution_count": 71,
   "metadata": {
    "ExecuteTime": {
     "end_time": "2018-11-02T09:41:11.760345Z",
     "start_time": "2018-11-02T09:41:11.663501Z"
    }
   },
   "outputs": [
    {
     "data": {
      "text/plain": [
       "<matplotlib.image.AxesImage at 0x11d2c50b8>"
      ]
     },
     "execution_count": 71,
     "metadata": {},
     "output_type": "execute_result"
    },
    {
     "data": {
      "image/png": "[encoded data removed]",
      "text/plain": [
       "<Figure size 432x288 with 1 Axes>"
      ]
     },
     "metadata": {},
     "output_type": "display_data"
    }
   ],
   "source": [
    "n = addNoise(t,80, False)\n",
    "plt.imshow(n.type(torch.IntTensor), cmap='Greys')"
   ]
  },
  {
   "cell_type": "code",
   "execution_count": 73,
   "metadata": {
    "ExecuteTime": {
     "end_time": "2018-11-02T09:41:14.643798Z",
     "start_time": "2018-11-02T09:41:14.537431Z"
    }
   },
   "outputs": [
    {
     "data": {
      "text/plain": [
       "<matplotlib.image.AxesImage at 0x11d40a048>"
      ]
     },
     "execution_count": 73,
     "metadata": {},
     "output_type": "execute_result"
    },
    {
     "data": {
      "image/png": "[encoded data removed]",
      "text/plain": [
       "<Figure size 432x288 with 1 Axes>"
      ]
     },
     "metadata": {},
     "output_type": "display_data"
    }
   ],
   "source": [
    "n = addNoise(t,80, True)\n",
    "plt.imshow(n.type(torch.IntTensor), cmap='Greys')"
   ]
  },
  {
   "cell_type": "code",
   "execution_count": 68,
   "metadata": {
    "ExecuteTime": {
     "end_time": "2018-10-17T22:51:45.765599Z",
     "start_time": "2018-10-17T22:51:45.620033Z"
    }
   },
   "outputs": [
    {
     "data": {
      "text/plain": [
       "<matplotlib.image.AxesImage at 0x12adbb320>"
      ]
     },
     "execution_count": 68,
     "metadata": {},
     "output_type": "execute_result"
    },
    {
     "data": {
      "image/png": "[encoded data removed]",
      "text/plain": [
       "<Figure size 432x288 with 1 Axes>"
      ]
     },
     "metadata": {},
     "output_type": "display_data"
    }
   ],
   "source": [
    "plt.imshow(torch.clamp(n.type(torch.IntTensor), 0, 255), cmap='Greys')"
   ]
  },
  {
   "cell_type": "markdown",
   "metadata": {},
   "source": [
    "## Measuring variance "
   ]
  },
  {
   "cell_type": "code",
   "execution_count": null,
   "metadata": {
    "ExecuteTime": {
     "end_time": "2019-01-08T03:16:18.039873Z",
     "start_time": "2019-01-08T03:16:16.767Z"
    },
    "init_cell": true
   },
   "outputs": [],
   "source": [
    "def varModel(model, loader):\n",
    "    ''' Returns the variance of model over samples as a PyTorch tensor.\n",
    "    \n",
    "        Inputs:\n",
    "        model: a PyTorch Neural Network.\n",
    "        samples: a PyTorch Data Loader of the samples to test (usually test_loader)'''\n",
    "    \n",
    "    model.eval()\n",
    "    results = []\n",
    "    \n",
    "    with torch.no_grad():\n",
    "        for images, labels in loader:\n",
    "            outputs = model(images)\n",
    "            _, predicted = torch.max(outputs.data, 1)\n",
    "            results.append(predicted)\n",
    "\n",
    "    results = torch.cat(results).float() \n",
    "    std = results.std()/(results.max()-results.min())\n",
    "    return std**2"
   ]
  },
  {
   "cell_type": "code",
   "execution_count": 33,
   "metadata": {
    "ExecuteTime": {
     "end_time": "2019-01-05T23:14:33.189768Z",
     "start_time": "2019-01-05T23:14:29.454716Z"
    }
   },
   "outputs": [
    {
     "data": {
      "text/plain": [
       "0.1039806380867958"
      ]
     },
     "execution_count": 33,
     "metadata": {},
     "output_type": "execute_result"
    }
   ],
   "source": [
    "varModel(model, test_loader).item()"
   ]
  },
  {
   "cell_type": "code",
   "execution_count": null,
   "metadata": {
    "ExecuteTime": {
     "end_time": "2019-01-08T03:16:18.041609Z",
     "start_time": "2019-01-08T03:16:16.769Z"
    },
    "init_cell": true
   },
   "outputs": [],
   "source": [
    "def varianceTest(model, sigmas, dataset, epochs = 5):\n",
    "    ''' Finds the variance of model over X+e, where e = N(0, sigma) is Gaussian noise. \n",
    "        Each hyperparameter is run over epochs iterations. \n",
    "        \n",
    "        Dataset is either 'mnist' or 'cifar10'\n",
    "    \n",
    "        Returns the average and s.d. of var(model(X+e)) where e = N(0, sigma) for each \n",
    "        sigma in sigmas over epochs number of iterations.'''\n",
    "    if dataset not in ['mnist', 'cifar10']:\n",
    "        print('Dataset {} not found!'.format(dataset))\n",
    "        return \n",
    "    if dataset == 'mnist':\n",
    "        trans = transforms.Compose([transforms.ToTensor(), \n",
    "                                transforms.Normalize((0.1307,), (0.3081,))])\n",
    "    elif dataset == 'cifar10':\n",
    "        trans = transforms.Compose([transforms.ToTensor(), \n",
    "                            transforms.Normalize(mean=(0.485, 0.456, 0.406), std = (0.229, 0.224, 0.225))])\n",
    "    outputVariance = []\n",
    "    outputVarianceSTD = []\n",
    "    for sigma in sigmas:\n",
    "        print(\"Computing variance of f(Y) where noise has sigma =\", sigma)\n",
    "        tot = []\n",
    "        for epoch in range(epochs): \n",
    "            print(\"Epoch {} of {}\".format(epoch+1, epochs))\n",
    "            if dataset == 'mnist':\n",
    "                noisy_test_dataset = torchvision.datasets.MNIST(root=DATA_PATH, train=False, \\\n",
    "                                                            transform=trans,download=False)\n",
    "            elif dataset == 'cifar10':\n",
    "                noisy_test_dataset = torchvision.datasets.CIFAR10(root=DATA_PATH, train=False, \\\n",
    "                                                            transform=trans,download=False)\n",
    "            for i in range(len(noisy_test_dataset.test_data)):\n",
    "                noisy_test_dataset.test_data[i] = addNoise(noisy_test_dataset.test_data[i], sigma)\n",
    "            test_loader = DataLoader(dataset = noisy_test_dataset, batch_size=BATCH_SIZE, shuffle = False)\n",
    "            tot.append(varModel(model, test_loader).item())\n",
    "        tot = np.array(tot)\n",
    "        outputVariance.append(tot.mean())\n",
    "        outputVarianceSTD.append(tot.std())\n",
    "        print(\"Variance with noise std {} is {}. STD is {}\".format(sigma, outputVariance[-1], outputVarianceSTD[-1]))\n",
    "    return outputVariance, outputVarianceSTD"
   ]
  },
  {
   "cell_type": "code",
   "execution_count": 78,
   "metadata": {
    "ExecuteTime": {
     "end_time": "2019-01-06T00:56:28.612244Z",
     "start_time": "2019-01-06T00:56:28.608335Z"
    }
   },
   "outputs": [
    {
     "name": "stdout",
     "output_type": "stream",
     "text": [
      "[ 0. 10. 20. 30. 40. 50. 60. 70. 80.]\n"
     ]
    }
   ],
   "source": [
    "sigs = np.linspace(0, 80, 9) \n",
    "print(sigs)"
   ]
  },
  {
   "cell_type": "code",
   "execution_count": 80,
   "metadata": {
    "ExecuteTime": {
     "end_time": "2019-01-06T01:00:10.745387Z",
     "start_time": "2019-01-06T00:56:50.494988Z"
    }
   },
   "outputs": [
    {
     "name": "stdout",
     "output_type": "stream",
     "text": [
      "Computing variance of f(Y) where noise has sigma = 0.0\n",
      "Epoch 1 of 5\n",
      "Epoch 2 of 5\n",
      "Epoch 3 of 5\n",
      "Epoch 4 of 5\n",
      "Epoch 5 of 5\n",
      "Variance with noise std 0.0 is 0.1033945083618164. STD is 0.0\n",
      "Computing variance of f(Y) where noise has sigma = 10.0\n",
      "Epoch 1 of 5\n",
      "Epoch 2 of 5\n",
      "Epoch 3 of 5\n",
      "Epoch 4 of 5\n",
      "Epoch 5 of 5\n",
      "Variance with noise std 10.0 is 0.10742429047822952. STD is 0.00016049240308563378\n",
      "Computing variance of f(Y) where noise has sigma = 20.0\n",
      "Epoch 1 of 5\n",
      "Epoch 2 of 5\n",
      "Epoch 3 of 5\n",
      "Epoch 4 of 5\n",
      "Epoch 5 of 5\n",
      "Variance with noise std 20.0 is 0.11583402454853058. STD is 0.00016775111079568174\n",
      "Computing variance of f(Y) where noise has sigma = 30.0\n",
      "Epoch 1 of 5\n",
      "Epoch 2 of 5\n",
      "Epoch 3 of 5\n",
      "Epoch 4 of 5\n",
      "Epoch 5 of 5\n",
      "Variance with noise std 30.0 is 0.12395515888929368. STD is 0.00027282263806567027\n",
      "Computing variance of f(Y) where noise has sigma = 40.0\n",
      "Epoch 1 of 5\n",
      "Epoch 2 of 5\n",
      "Epoch 3 of 5\n",
      "Epoch 4 of 5\n",
      "Epoch 5 of 5\n",
      "Variance with noise std 40.0 is 0.12983012795448304. STD is 0.0003767252093573911\n",
      "Computing variance of f(Y) where noise has sigma = 50.0\n",
      "Epoch 1 of 5\n",
      "Epoch 2 of 5\n",
      "Epoch 3 of 5\n",
      "Epoch 4 of 5\n",
      "Epoch 5 of 5\n",
      "Variance with noise std 50.0 is 0.13336478173732758. STD is 0.0005101616635407036\n",
      "Computing variance of f(Y) where noise has sigma = 60.0\n",
      "Epoch 1 of 5\n",
      "Epoch 2 of 5\n",
      "Epoch 3 of 5\n",
      "Epoch 4 of 5\n",
      "Epoch 5 of 5\n",
      "Variance with noise std 60.0 is 0.1338757872581482. STD is 0.0006014763783680138\n",
      "Computing variance of f(Y) where noise has sigma = 70.0\n",
      "Epoch 1 of 5\n",
      "Epoch 2 of 5\n",
      "Epoch 3 of 5\n",
      "Epoch 4 of 5\n",
      "Epoch 5 of 5\n",
      "Variance with noise std 70.0 is 0.13233716785907745. STD is 0.0005006417467446185\n",
      "Computing variance of f(Y) where noise has sigma = 80.0\n",
      "Epoch 1 of 5\n",
      "Epoch 2 of 5\n",
      "Epoch 3 of 5\n",
      "Epoch 4 of 5\n",
      "Epoch 5 of 5\n",
      "Variance with noise std 80.0 is 0.13134507536888124. STD is 0.0006325837570046606\n"
     ]
    },
    {
     "data": {
      "image/png": "[encoded data removed]",
      "text/plain": [
       "<Figure size 720x432 with 1 Axes>"
      ]
     },
     "metadata": {},
     "output_type": "display_data"
    }
   ],
   "source": [
    "res, resSTD = varianceTest(model, sigs, epochs = 5, dataset='mnist')\n",
    "display(sigs, res, resSTD)"
   ]
  },
  {
   "cell_type": "code",
   "execution_count": 46,
   "metadata": {
    "ExecuteTime": {
     "end_time": "2018-11-02T09:34:56.617302Z",
     "start_time": "2018-11-02T09:31:36.069522Z"
    }
   },
   "outputs": [
    {
     "name": "stdout",
     "output_type": "stream",
     "text": [
      "Computing variance of f(Y) where noise has sigma = 0.0\n",
      "Epoch 1 of 5\n",
      "Epoch 2 of 5\n",
      "Epoch 3 of 5\n",
      "Epoch 4 of 5\n",
      "Epoch 5 of 5\n",
      "Variance with noise std 0.0 is 0.10386093705892563. STD is 0.0\n",
      "Computing variance of f(Y) where noise has sigma = 10.0\n",
      "Epoch 1 of 5\n",
      "Epoch 2 of 5\n",
      "Epoch 3 of 5\n",
      "Epoch 4 of 5\n",
      "Epoch 5 of 5\n",
      "Variance with noise std 10.0 is 0.10689981430768966. STD is 6.70481958612121e-05\n",
      "Computing variance of f(Y) where noise has sigma = 20.0\n",
      "Epoch 1 of 5\n",
      "Epoch 2 of 5\n",
      "Epoch 3 of 5\n",
      "Epoch 4 of 5\n",
      "Epoch 5 of 5\n",
      "Variance with noise std 20.0 is 0.11472281813621521. STD is 0.00015917068297755245\n",
      "Computing variance of f(Y) where noise has sigma = 30.0\n",
      "Epoch 1 of 5\n",
      "Epoch 2 of 5\n",
      "Epoch 3 of 5\n",
      "Epoch 4 of 5\n",
      "Epoch 5 of 5\n",
      "Variance with noise std 30.0 is 0.11004408597946166. STD is 0.0006546056126123039\n",
      "Computing variance of f(Y) where noise has sigma = 40.0\n",
      "Epoch 1 of 5\n",
      "Epoch 2 of 5\n",
      "Epoch 3 of 5\n",
      "Epoch 4 of 5\n",
      "Epoch 5 of 5\n",
      "Variance with noise std 40.0 is 0.08651356399059296. STD is 0.0005009478490754483\n",
      "Computing variance of f(Y) where noise has sigma = 50.0\n",
      "Epoch 1 of 5\n",
      "Epoch 2 of 5\n",
      "Epoch 3 of 5\n",
      "Epoch 4 of 5\n",
      "Epoch 5 of 5\n",
      "Variance with noise std 50.0 is 0.05741642564535141. STD is 0.0010713504841782424\n",
      "Computing variance of f(Y) where noise has sigma = 60.0\n",
      "Epoch 1 of 5\n",
      "Epoch 2 of 5\n",
      "Epoch 3 of 5\n",
      "Epoch 4 of 5\n",
      "Epoch 5 of 5\n",
      "Variance with noise std 60.0 is 0.03588617816567421. STD is 0.001288019394664656\n",
      "Computing variance of f(Y) where noise has sigma = 70.0\n",
      "Epoch 1 of 5\n",
      "Epoch 2 of 5\n",
      "Epoch 3 of 5\n",
      "Epoch 4 of 5\n",
      "Epoch 5 of 5\n",
      "Variance with noise std 70.0 is 0.03031807206571102. STD is 0.0013195649363394234\n",
      "Computing variance of f(Y) where noise has sigma = 80.0\n",
      "Epoch 1 of 5\n",
      "Epoch 2 of 5\n",
      "Epoch 3 of 5\n",
      "Epoch 4 of 5\n",
      "Epoch 5 of 5\n",
      "Variance with noise std 80.0 is 0.03253704085946083. STD is 0.0006031489088646565\n"
     ]
    }
   ],
   "source": [
    "res, resSTD = varianceTest(modelMNIST, sigs, epochs = 5, dataset='mnist') #old one"
   ]
  },
  {
   "cell_type": "code",
   "execution_count": 47,
   "metadata": {
    "ExecuteTime": {
     "end_time": "2018-11-02T09:36:17.593349Z",
     "start_time": "2018-11-02T09:36:17.459963Z"
    }
   },
   "outputs": [
    {
     "data": {
      "image/png": "[encoded data removed]",
      "text/plain": [
       "<Figure size 720x432 with 1 Axes>"
      ]
     },
     "metadata": {},
     "output_type": "display_data"
    }
   ],
   "source": [
    "display(sigs, res, resSTD)"
   ]
  },
  {
   "cell_type": "code",
   "execution_count": 223,
   "metadata": {
    "ExecuteTime": {
     "end_time": "2018-10-18T00:54:28.218532Z",
     "start_time": "2018-10-18T00:51:11.627748Z"
    },
    "scrolled": true
   },
   "outputs": [
    {
     "name": "stdout",
     "output_type": "stream",
     "text": [
      "Computing variance of f(Y) where noise has sigma = 0.0\n",
      "Epoch 1 of 5\n",
      "Epoch 2 of 5\n",
      "Epoch 3 of 5\n",
      "Epoch 4 of 5\n",
      "Epoch 5 of 5\n",
      "Variance with noise std 0.0 is 0.10386093705892563. STD is 0.0\n",
      "Computing variance of f(Y) where noise has sigma = 10.0\n",
      "Epoch 1 of 5\n",
      "Epoch 2 of 5\n",
      "Epoch 3 of 5\n",
      "Epoch 4 of 5\n",
      "Epoch 5 of 5\n",
      "Variance with noise std 10.0 is 0.10394573360681533. STD is 3.667211929617332e-05\n",
      "Computing variance of f(Y) where noise has sigma = 20.0\n",
      "Epoch 1 of 5\n",
      "Epoch 2 of 5\n",
      "Epoch 3 of 5\n",
      "Epoch 4 of 5\n",
      "Epoch 5 of 5\n",
      "Variance with noise std 20.0 is 0.1038870245218277. STD is 3.676458343785538e-05\n",
      "Computing variance of f(Y) where noise has sigma = 30.0\n",
      "Epoch 1 of 5\n",
      "Epoch 2 of 5\n",
      "Epoch 3 of 5\n",
      "Epoch 4 of 5\n",
      "Epoch 5 of 5\n",
      "Variance with noise std 30.0 is 0.10375198870897293. STD is 8.672893644067376e-05\n",
      "Computing variance of f(Y) where noise has sigma = 40.0\n",
      "Epoch 1 of 5\n",
      "Epoch 2 of 5\n",
      "Epoch 3 of 5\n",
      "Epoch 4 of 5\n",
      "Epoch 5 of 5\n",
      "Variance with noise std 40.0 is 0.10337993949651718. STD is 0.00018889814023540202\n",
      "Computing variance of f(Y) where noise has sigma = 50.0\n",
      "Epoch 1 of 5\n",
      "Epoch 2 of 5\n",
      "Epoch 3 of 5\n",
      "Epoch 4 of 5\n",
      "Epoch 5 of 5\n",
      "Variance with noise std 50.0 is 0.10244357734918594. STD is 0.0002073475135512595\n",
      "Computing variance of f(Y) where noise has sigma = 60.0\n",
      "Epoch 1 of 5\n",
      "Epoch 2 of 5\n",
      "Epoch 3 of 5\n",
      "Epoch 4 of 5\n",
      "Epoch 5 of 5\n",
      "Variance with noise std 60.0 is 0.10027009844779969. STD is 0.00021453860862502238\n",
      "Computing variance of f(Y) where noise has sigma = 70.0\n",
      "Epoch 1 of 5\n",
      "Epoch 2 of 5\n",
      "Epoch 3 of 5\n",
      "Epoch 4 of 5\n",
      "Epoch 5 of 5\n",
      "Variance with noise std 70.0 is 0.09647775143384933. STD is 0.00032348848043533553\n",
      "Computing variance of f(Y) where noise has sigma = 80.0\n",
      "Epoch 1 of 5\n",
      "Epoch 2 of 5\n",
      "Epoch 3 of 5\n",
      "Epoch 4 of 5\n",
      "Epoch 5 of 5\n",
      "Variance with noise std 80.0 is 0.09316393584012986. STD is 0.00022995408747920746\n"
     ]
    }
   ],
   "source": [
    "res, resSTD = varianceTest(model, sigs, epochs = 5)"
   ]
  },
  {
   "cell_type": "code",
   "execution_count": 72,
   "metadata": {
    "ExecuteTime": {
     "end_time": "2018-10-29T11:18:39.978356Z",
     "start_time": "2018-10-29T11:18:39.972645Z"
    }
   },
   "outputs": [],
   "source": [
    "def display(sigmas, results, resultsSTD):\n",
    "    results = np.array(results)\n",
    "    resultsSTD = np.array(resultsSTD)\n",
    "    plt.figure(figsize=(10,6))\n",
    "    plt.fill_between(sigmas, list(results-resultsSTD), list(results+resultsSTD), color='b',alpha=.2)\n",
    "    plt.plot(sigmas, results, lw=2)\n",
    "    plt.xlabel('Sigma', fontsize=12)\n",
    "    plt.ylabel('Variance', fontsize=12)\n",
    "    plt.title('Sigma vs. Variance')\n",
    "    plt.show()"
   ]
  },
  {
   "cell_type": "code",
   "execution_count": 239,
   "metadata": {
    "ExecuteTime": {
     "end_time": "2018-10-18T00:56:17.026089Z",
     "start_time": "2018-10-18T00:56:16.891933Z"
    },
    "scrolled": false
   },
   "outputs": [
    {
     "data": {
      "image/png": "[encoded data removed]",
      "text/plain": [
       "<Figure size 720x432 with 1 Axes>"
      ]
     },
     "metadata": {},
     "output_type": "display_data"
    }
   ],
   "source": [
    "display(sigs, res, resSTD)"
   ]
  },
  {
   "cell_type": "code",
   "execution_count": 168,
   "metadata": {
    "ExecuteTime": {
     "end_time": "2018-10-18T00:13:55.808412Z",
     "start_time": "2018-10-18T00:13:55.657695Z"
    }
   },
   "outputs": [
    {
     "data": {
      "image/png": "[encoded data removed]",
      "text/plain": [
       "<Figure size 432x288 with 1 Axes>"
      ]
     },
     "metadata": {},
     "output_type": "display_data"
    }
   ],
   "source": [
    "display(sigs, result)"
   ]
  },
  {
   "cell_type": "code",
   "execution_count": 175,
   "metadata": {
    "ExecuteTime": {
     "end_time": "2018-10-18T00:20:54.338125Z",
     "start_time": "2018-10-18T00:20:54.150245Z"
    }
   },
   "outputs": [
    {
     "data": {
      "image/png": "[encoded data removed]",
      "text/plain": [
       "<Figure size 432x288 with 1 Axes>"
      ]
     },
     "metadata": {},
     "output_type": "display_data"
    }
   ],
   "source": [
    "display(sigs, result)"
   ]
  },
  {
   "cell_type": "code",
   "execution_count": 188,
   "metadata": {
    "ExecuteTime": {
     "end_time": "2018-10-18T00:33:09.930898Z",
     "start_time": "2018-10-18T00:33:09.825094Z"
    }
   },
   "outputs": [
    {
     "data": {
      "image/png": "[encoded data removed]",
      "text/plain": [
       "<Figure size 432x288 with 1 Axes>"
      ]
     },
     "metadata": {},
     "output_type": "display_data"
    }
   ],
   "source": [
    "display(sigs, result)"
   ]
  },
  {
   "cell_type": "markdown",
   "metadata": {},
   "source": [
    "# Objective 2"
   ]
  },
  {
   "cell_type": "markdown",
   "metadata": {},
   "source": [
    "Do the same as above but with the CNN using a shiftresnet layer"
   ]
  },
  {
   "cell_type": "markdown",
   "metadata": {},
   "source": [
    "Here's me toying around with getting a single kernel to work on a 5x5 image with one channel"
   ]
  },
  {
   "cell_type": "code",
   "execution_count": 101,
   "metadata": {
    "ExecuteTime": {
     "end_time": "2019-01-06T01:22:53.447805Z",
     "start_time": "2019-01-06T01:22:53.441607Z"
    }
   },
   "outputs": [
    {
     "data": {
      "text/plain": [
       "torch.Size([1, 1, 3, 3])"
      ]
     },
     "execution_count": 101,
     "metadata": {},
     "output_type": "execute_result"
    }
   ],
   "source": [
    "conv_filter = torch.zeros(3,3)\n",
    "conv_filter[0][1] = 1 \n",
    "x = torch.randn(1, 1, 5, 5) # batch of 1 5x5 image w/ 1 channel\n",
    "conv_filter = conv_filter.unsqueeze(0).unsqueeze(0)\n",
    "conv_filter.size()"
   ]
  },
  {
   "cell_type": "code",
   "execution_count": 96,
   "metadata": {
    "ExecuteTime": {
     "end_time": "2019-01-06T01:20:45.420434Z",
     "start_time": "2019-01-06T01:20:45.417289Z"
    }
   },
   "outputs": [],
   "source": [
    "output = F.conv2d(x, conv_filter, padding = 1)"
   ]
  },
  {
   "cell_type": "code",
   "execution_count": 98,
   "metadata": {
    "ExecuteTime": {
     "end_time": "2019-01-06T01:20:51.713487Z",
     "start_time": "2019-01-06T01:20:51.708342Z"
    }
   },
   "outputs": [
    {
     "data": {
      "text/plain": [
       "tensor([[[[-0.1891,  0.2041, -0.7315,  0.4882, -0.9014],\n",
       "          [-0.1818, -0.3181, -1.2614, -2.3275, -0.0823],\n",
       "          [ 2.5264,  0.3269,  0.2228,  0.5010, -1.2667],\n",
       "          [-1.0320, -0.3863, -1.2166, -0.4680,  1.0364],\n",
       "          [ 0.1225, -0.5095,  0.6704,  0.1047,  0.9392]]]])"
      ]
     },
     "execution_count": 98,
     "metadata": {},
     "output_type": "execute_result"
    }
   ],
   "source": [
    "x"
   ]
  },
  {
   "cell_type": "code",
   "execution_count": 97,
   "metadata": {
    "ExecuteTime": {
     "end_time": "2019-01-06T01:20:49.442478Z",
     "start_time": "2019-01-06T01:20:49.438023Z"
    }
   },
   "outputs": [
    {
     "data": {
      "text/plain": [
       "tensor([[[[ 0.0000,  0.0000,  0.0000,  0.0000,  0.0000],\n",
       "          [-0.1891,  0.2041, -0.7315,  0.4882, -0.9014],\n",
       "          [-0.1818, -0.3181, -1.2614, -2.3275, -0.0823],\n",
       "          [ 2.5264,  0.3269,  0.2228,  0.5010, -1.2667],\n",
       "          [-1.0320, -0.3863, -1.2166, -0.4680,  1.0364]]]])"
      ]
     },
     "execution_count": 97,
     "metadata": {},
     "output_type": "execute_result"
    }
   ],
   "source": [
    "output"
   ]
  },
  {
   "cell_type": "code",
   "execution_count": 102,
   "metadata": {
    "ExecuteTime": {
     "end_time": "2019-01-06T01:23:15.209761Z",
     "start_time": "2019-01-06T01:23:15.206536Z"
    }
   },
   "outputs": [],
   "source": [
    "conv_filter = torch.zeros(9, 1, 3, 3)"
   ]
  },
  {
   "cell_type": "code",
   "execution_count": 107,
   "metadata": {
    "ExecuteTime": {
     "end_time": "2019-01-06T01:27:35.521037Z",
     "start_time": "2019-01-06T01:27:35.515098Z"
    },
    "scrolled": true
   },
   "outputs": [
    {
     "name": "stdout",
     "output_type": "stream",
     "text": [
      "[7 1 5 0 8 2 4 3 6]\n",
      "tensor([[[[0., 0., 0.],\n",
      "          [0., 0., 0.],\n",
      "          [0., 1., 0.]]],\n",
      "\n",
      "\n",
      "        [[[0., 1., 0.],\n",
      "          [0., 0., 0.],\n",
      "          [0., 0., 0.]]],\n",
      "\n",
      "\n",
      "        [[[0., 0., 0.],\n",
      "          [0., 0., 1.],\n",
      "          [0., 0., 0.]]],\n",
      "\n",
      "\n",
      "        [[[1., 0., 0.],\n",
      "          [0., 0., 0.],\n",
      "          [0., 0., 0.]]],\n",
      "\n",
      "\n",
      "        [[[0., 0., 0.],\n",
      "          [0., 0., 0.],\n",
      "          [0., 0., 1.]]],\n",
      "\n",
      "\n",
      "        [[[0., 0., 1.],\n",
      "          [0., 0., 0.],\n",
      "          [0., 0., 0.]]],\n",
      "\n",
      "\n",
      "        [[[0., 0., 0.],\n",
      "          [0., 1., 0.],\n",
      "          [0., 0., 0.]]],\n",
      "\n",
      "\n",
      "        [[[0., 0., 0.],\n",
      "          [1., 0., 0.],\n",
      "          [0., 0., 0.]]],\n",
      "\n",
      "\n",
      "        [[[0., 0., 0.],\n",
      "          [0., 0., 0.],\n",
      "          [1., 0., 0.]]]])\n"
     ]
    }
   ],
   "source": [
    "np.random.seed(42)\n",
    "ind = np.arange(9)\n",
    "np.random.shuffle(ind)\n",
    "print(ind)\n",
    "for i in range(len(conv_filter)):\n",
    "    conv_filter[i][0][ind[i]//3][ind[i]%3] = 1\n",
    "print(conv_filter)"
   ]
  },
  {
   "cell_type": "code",
   "execution_count": 111,
   "metadata": {
    "ExecuteTime": {
     "end_time": "2019-01-06T01:28:20.470601Z",
     "start_time": "2019-01-06T01:28:20.466770Z"
    }
   },
   "outputs": [
    {
     "name": "stdout",
     "output_type": "stream",
     "text": [
      "tensor([[[[ 1.4164, -0.3392,  0.6516, -1.6113, -1.2294],\n",
      "          [ 0.3423,  0.2105,  0.0591, -0.3411,  1.3928],\n",
      "          [-0.1062,  0.3385,  0.3277, -0.3282, -0.2298],\n",
      "          [ 1.1247,  1.4374, -0.8443,  1.1783,  0.1931],\n",
      "          [-0.9160, -0.3821, -0.1675, -0.2039,  0.1200]]]])\n"
     ]
    }
   ],
   "source": [
    "x = torch.randn(1, 1, 5, 5)\n",
    "print(x)"
   ]
  },
  {
   "cell_type": "code",
   "execution_count": 113,
   "metadata": {
    "ExecuteTime": {
     "end_time": "2019-01-06T01:29:14.402270Z",
     "start_time": "2019-01-06T01:29:14.396987Z"
    },
    "scrolled": true
   },
   "outputs": [
    {
     "name": "stdout",
     "output_type": "stream",
     "text": [
      "tensor([[[[ 0.3423,  0.2105,  0.0591, -0.3411,  1.3928],\n",
      "          [-0.1062,  0.3385,  0.3277, -0.3282, -0.2298],\n",
      "          [ 1.1247,  1.4374, -0.8443,  1.1783,  0.1931],\n",
      "          [-0.9160, -0.3821, -0.1675, -0.2039,  0.1200],\n",
      "          [ 0.0000,  0.0000,  0.0000,  0.0000,  0.0000]],\n",
      "\n",
      "         [[ 0.0000,  0.0000,  0.0000,  0.0000,  0.0000],\n",
      "          [ 1.4164, -0.3392,  0.6516, -1.6113, -1.2294],\n",
      "          [ 0.3423,  0.2105,  0.0591, -0.3411,  1.3928],\n",
      "          [-0.1062,  0.3385,  0.3277, -0.3282, -0.2298],\n",
      "          [ 1.1247,  1.4374, -0.8443,  1.1783,  0.1931]],\n",
      "\n",
      "         [[-0.3392,  0.6516, -1.6113, -1.2294,  0.0000],\n",
      "          [ 0.2105,  0.0591, -0.3411,  1.3928,  0.0000],\n",
      "          [ 0.3385,  0.3277, -0.3282, -0.2298,  0.0000],\n",
      "          [ 1.4374, -0.8443,  1.1783,  0.1931,  0.0000],\n",
      "          [-0.3821, -0.1675, -0.2039,  0.1200,  0.0000]],\n",
      "\n",
      "         [[ 0.0000,  0.0000,  0.0000,  0.0000,  0.0000],\n",
      "          [ 0.0000,  1.4164, -0.3392,  0.6516, -1.6113],\n",
      "          [ 0.0000,  0.3423,  0.2105,  0.0591, -0.3411],\n",
      "          [ 0.0000, -0.1062,  0.3385,  0.3277, -0.3282],\n",
      "          [ 0.0000,  1.1247,  1.4374, -0.8443,  1.1783]],\n",
      "\n",
      "         [[ 0.2105,  0.0591, -0.3411,  1.3928,  0.0000],\n",
      "          [ 0.3385,  0.3277, -0.3282, -0.2298,  0.0000],\n",
      "          [ 1.4374, -0.8443,  1.1783,  0.1931,  0.0000],\n",
      "          [-0.3821, -0.1675, -0.2039,  0.1200,  0.0000],\n",
      "          [ 0.0000,  0.0000,  0.0000,  0.0000,  0.0000]],\n",
      "\n",
      "         [[ 0.0000,  0.0000,  0.0000,  0.0000,  0.0000],\n",
      "          [-0.3392,  0.6516, -1.6113, -1.2294,  0.0000],\n",
      "          [ 0.2105,  0.0591, -0.3411,  1.3928,  0.0000],\n",
      "          [ 0.3385,  0.3277, -0.3282, -0.2298,  0.0000],\n",
      "          [ 1.4374, -0.8443,  1.1783,  0.1931,  0.0000]],\n",
      "\n",
      "         [[ 1.4164, -0.3392,  0.6516, -1.6113, -1.2294],\n",
      "          [ 0.3423,  0.2105,  0.0591, -0.3411,  1.3928],\n",
      "          [-0.1062,  0.3385,  0.3277, -0.3282, -0.2298],\n",
      "          [ 1.1247,  1.4374, -0.8443,  1.1783,  0.1931],\n",
      "          [-0.9160, -0.3821, -0.1675, -0.2039,  0.1200]],\n",
      "\n",
      "         [[ 0.0000,  1.4164, -0.3392,  0.6516, -1.6113],\n",
      "          [ 0.0000,  0.3423,  0.2105,  0.0591, -0.3411],\n",
      "          [ 0.0000, -0.1062,  0.3385,  0.3277, -0.3282],\n",
      "          [ 0.0000,  1.1247,  1.4374, -0.8443,  1.1783],\n",
      "          [ 0.0000, -0.9160, -0.3821, -0.1675, -0.2039]],\n",
      "\n",
      "         [[ 0.0000,  0.3423,  0.2105,  0.0591, -0.3411],\n",
      "          [ 0.0000, -0.1062,  0.3385,  0.3277, -0.3282],\n",
      "          [ 0.0000,  1.1247,  1.4374, -0.8443,  1.1783],\n",
      "          [ 0.0000, -0.9160, -0.3821, -0.1675, -0.2039],\n",
      "          [ 0.0000,  0.0000,  0.0000,  0.0000,  0.0000]]]])\n",
      "torch.Size([1, 9, 5, 5])\n"
     ]
    }
   ],
   "source": [
    "output = F.conv2d(x, conv_filter, padding = 1)\n",
    "print(output)\n",
    "print(output.size())"
   ]
  },
  {
   "cell_type": "code",
   "execution_count": 84,
   "metadata": {
    "ExecuteTime": {
     "end_time": "2019-01-06T01:07:52.460410Z",
     "start_time": "2019-01-06T01:07:52.454823Z"
    }
   },
   "outputs": [
    {
     "data": {
      "text/plain": [
       "tensor([[[[ 0.4333,  3.5575],\n",
       "          [-0.1207, -1.0694],\n",
       "          [ 1.6642,  2.2067],\n",
       "          [-0.0162,  0.4548],\n",
       "          [-0.8075,  1.2660]]]])"
      ]
     },
     "execution_count": 84,
     "metadata": {},
     "output_type": "execute_result"
    }
   ],
   "source": [
    "output"
   ]
  },
  {
   "cell_type": "markdown",
   "metadata": {},
   "source": [
    "## Creating the ShiftNet Module"
   ]
  },
  {
   "cell_type": "code",
   "execution_count": 80,
   "metadata": {
    "ExecuteTime": {
     "end_time": "2019-01-08T07:09:19.395132Z",
     "start_time": "2019-01-08T07:09:19.392200Z"
    }
   },
   "outputs": [],
   "source": [
    "# Hyperparameters\n",
    "EPOCHS = 20 \n",
    "CLASSES = 10\n",
    "BATCH_SIZE = 100\n",
    "LEARNING_RATE = 0.001"
   ]
  },
  {
   "cell_type": "code",
   "execution_count": 8,
   "metadata": {
    "ExecuteTime": {
     "end_time": "2019-01-08T03:16:45.385196Z",
     "start_time": "2019-01-08T03:16:45.342235Z"
    }
   },
   "outputs": [],
   "source": [
    "# a transform to apply to data (convert to Tensor, then normalize w/ MNIST's mean & sd)\n",
    "trans = transforms.Compose([transforms.ToTensor(), transforms.Normalize((0.1307,), (0.3081,))])\n",
    "\n",
    "# MNIST\n",
    "train_dataset = torchvision.datasets.MNIST(root=DATA_PATH, train=True, download=True, transform=trans)\n",
    "test_dataset = torchvision.datasets.MNIST(root=DATA_PATH, train=False, transform=trans)\n",
    "\n",
    "train_loader = DataLoader(dataset = train_dataset, batch_size=BATCH_SIZE, shuffle = True)\n",
    "test_loader = DataLoader(dataset = test_dataset, batch_size=BATCH_SIZE, shuffle = False)"
   ]
  },
  {
   "cell_type": "code",
   "execution_count": 81,
   "metadata": {
    "ExecuteTime": {
     "end_time": "2019-01-08T07:09:37.423915Z",
     "start_time": "2019-01-08T07:09:37.415884Z"
    }
   },
   "outputs": [],
   "source": [
    "class ShiftConvNet(nn.Module):\n",
    "    def __init__(self):\n",
    "        super(ShiftConvNet, self).__init__()\n",
    "        self.shift_size = 5\n",
    "        \n",
    "        self.BN_first = nn.BatchNorm2d(1)\n",
    "        self.conv_1x1_first = nn.Conv2d(1, 20, kernel_size = 1, stride = 1, padding = 0, bias = False)\n",
    "        self.shift_kernel = self._make_shift(self.shift_size, 1)\n",
    "        self.BN = nn.BatchNorm2d(self.shift_size**2)\n",
    "        self.conv_1x1 = nn.Conv2d(self.shift_size**2, 40, kernel_size = 1, stride = 1, padding = 0, bias = False)\n",
    "        self.pool = nn.MaxPool2d(kernel_size=2, stride=2) #Pool is so important! increased acc by a lot\n",
    "        self.drop_out = nn.Dropout()\n",
    "        self.fc1 = nn.Linear(40*14*14, 1000)\n",
    "        self.fc2 = nn.Linear(1000, 10)\n",
    "    \n",
    "    def forward(self, x):\n",
    "#        out = F.relu(self.BN_first(x))\n",
    "        out = self.conv_1x1_first(x)\n",
    "        out = F.conv2d(x, self.shift_kernel, padding = self.shift_size//2) #shift \n",
    "        out = F.relu(self.BN(out))\n",
    "        out = self.conv_1x1(out)\n",
    "        out = self.pool(out)\n",
    "        out = out.reshape(out.size(0), -1)\n",
    "        out = self.drop_out(out)\n",
    "        out = self.fc1(out)\n",
    "        out = self.fc2(out)\n",
    "        return out \n",
    "   \n",
    "    def _make_shift(self, img_size, num_channels = 1):\n",
    "        conv = torch.zeros(img_size**2, num_channels, img_size, img_size)\n",
    "        \n",
    "        # Creates shifts in the 9 kernels\n",
    "        for c in range(num_channels):\n",
    "            ind = np.arange(img_size**2)\n",
    "            np.random.shuffle(ind)\n",
    "            for i in range(len(conv)): \n",
    "                conv[i][c][ind[i]//img_size][ind[i]%img_size] = 1\n",
    "        return conv"
   ]
  },
  {
   "cell_type": "code",
   "execution_count": 82,
   "metadata": {
    "ExecuteTime": {
     "end_time": "2019-01-08T07:09:37.862372Z",
     "start_time": "2019-01-08T07:09:37.804297Z"
    }
   },
   "outputs": [],
   "source": [
    "model = ShiftConvNet()\n",
    "\n",
    "# Loss and Optimizer\n",
    "criterion = nn.CrossEntropyLoss()\n",
    "optimizer = torch.optim.Adam(model.parameters(), lr=LEARNING_RATE)"
   ]
  },
  {
   "cell_type": "code",
   "execution_count": 83,
   "metadata": {
    "ExecuteTime": {
     "end_time": "2019-01-08T07:48:21.667492Z",
     "start_time": "2019-01-08T07:09:38.210963Z"
    }
   },
   "outputs": [
    {
     "name": "stdout",
     "output_type": "stream",
     "text": [
      "Epoch [1/20], Step [100/600], Loss: 0.2503, Accuracy: 93.00%\n",
      "Epoch [1/20], Step [200/600], Loss: 0.1056, Accuracy: 96.00%\n",
      "Epoch [1/20], Step [300/600], Loss: 0.3787, Accuracy: 92.00%\n",
      "Epoch [1/20], Step [400/600], Loss: 0.1855, Accuracy: 96.00%\n",
      "Epoch [1/20], Step [500/600], Loss: 0.0879, Accuracy: 96.00%\n",
      "Epoch [1/20], Step [600/600], Loss: 0.2084, Accuracy: 94.00%\n",
      "Epoch [2/20], Step [100/600], Loss: 0.0966, Accuracy: 97.00%\n",
      "Epoch [2/20], Step [200/600], Loss: 0.1252, Accuracy: 95.00%\n",
      "Epoch [2/20], Step [300/600], Loss: 0.1741, Accuracy: 96.00%\n",
      "Epoch [2/20], Step [400/600], Loss: 0.1217, Accuracy: 95.00%\n",
      "Epoch [2/20], Step [500/600], Loss: 0.1753, Accuracy: 94.00%\n",
      "Epoch [2/20], Step [600/600], Loss: 0.1910, Accuracy: 94.00%\n",
      "Epoch [3/20], Step [100/600], Loss: 0.1310, Accuracy: 96.00%\n",
      "Epoch [3/20], Step [200/600], Loss: 0.0355, Accuracy: 99.00%\n",
      "Epoch [3/20], Step [300/600], Loss: 0.2002, Accuracy: 93.00%\n",
      "Epoch [3/20], Step [400/600], Loss: 0.1796, Accuracy: 96.00%\n",
      "Epoch [3/20], Step [500/600], Loss: 0.1319, Accuracy: 94.00%\n",
      "Epoch [3/20], Step [600/600], Loss: 0.0739, Accuracy: 98.00%\n",
      "Epoch [4/20], Step [100/600], Loss: 0.1091, Accuracy: 97.00%\n",
      "Epoch [4/20], Step [200/600], Loss: 0.0707, Accuracy: 98.00%\n",
      "Epoch [4/20], Step [300/600], Loss: 0.0800, Accuracy: 97.00%\n",
      "Epoch [4/20], Step [400/600], Loss: 0.1611, Accuracy: 93.00%\n",
      "Epoch [4/20], Step [500/600], Loss: 0.0958, Accuracy: 96.00%\n",
      "Epoch [4/20], Step [600/600], Loss: 0.1149, Accuracy: 97.00%\n",
      "Epoch [5/20], Step [100/600], Loss: 0.1382, Accuracy: 95.00%\n",
      "Epoch [5/20], Step [200/600], Loss: 0.0550, Accuracy: 98.00%\n",
      "Epoch [5/20], Step [300/600], Loss: 0.0274, Accuracy: 100.00%\n",
      "Epoch [5/20], Step [400/600], Loss: 0.0617, Accuracy: 97.00%\n",
      "Epoch [5/20], Step [500/600], Loss: 0.0132, Accuracy: 100.00%\n",
      "Epoch [5/20], Step [600/600], Loss: 0.0799, Accuracy: 99.00%\n",
      "Epoch [6/20], Step [100/600], Loss: 0.0837, Accuracy: 98.00%\n",
      "Epoch [6/20], Step [200/600], Loss: 0.1431, Accuracy: 96.00%\n",
      "Epoch [6/20], Step [300/600], Loss: 0.1711, Accuracy: 94.00%\n",
      "Epoch [6/20], Step [400/600], Loss: 0.1302, Accuracy: 97.00%\n",
      "Epoch [6/20], Step [500/600], Loss: 0.0805, Accuracy: 97.00%\n",
      "Epoch [6/20], Step [600/600], Loss: 0.0588, Accuracy: 97.00%\n",
      "Epoch [7/20], Step [100/600], Loss: 0.2473, Accuracy: 94.00%\n",
      "Epoch [7/20], Step [200/600], Loss: 0.0759, Accuracy: 97.00%\n",
      "Epoch [7/20], Step [300/600], Loss: 0.0742, Accuracy: 97.00%\n",
      "Epoch [7/20], Step [400/600], Loss: 0.1352, Accuracy: 95.00%\n",
      "Epoch [7/20], Step [500/600], Loss: 0.1694, Accuracy: 92.00%\n",
      "Epoch [7/20], Step [600/600], Loss: 0.0516, Accuracy: 99.00%\n",
      "Epoch [8/20], Step [100/600], Loss: 0.0290, Accuracy: 99.00%\n",
      "Epoch [8/20], Step [200/600], Loss: 0.0771, Accuracy: 97.00%\n",
      "Epoch [8/20], Step [300/600], Loss: 0.0612, Accuracy: 97.00%\n",
      "Epoch [8/20], Step [400/600], Loss: 0.1007, Accuracy: 96.00%\n",
      "Epoch [8/20], Step [500/600], Loss: 0.1278, Accuracy: 96.00%\n",
      "Epoch [8/20], Step [600/600], Loss: 0.1448, Accuracy: 96.00%\n",
      "Epoch [9/20], Step [100/600], Loss: 0.3071, Accuracy: 93.00%\n",
      "Epoch [9/20], Step [200/600], Loss: 0.1120, Accuracy: 98.00%\n",
      "Epoch [9/20], Step [300/600], Loss: 0.1134, Accuracy: 96.00%\n",
      "Epoch [9/20], Step [400/600], Loss: 0.0846, Accuracy: 97.00%\n",
      "Epoch [9/20], Step [500/600], Loss: 0.1253, Accuracy: 96.00%\n",
      "Epoch [9/20], Step [600/600], Loss: 0.0340, Accuracy: 98.00%\n",
      "Epoch [10/20], Step [100/600], Loss: 0.0771, Accuracy: 99.00%\n",
      "Epoch [10/20], Step [200/600], Loss: 0.0357, Accuracy: 99.00%\n",
      "Epoch [10/20], Step [300/600], Loss: 0.0742, Accuracy: 98.00%\n",
      "Epoch [10/20], Step [400/600], Loss: 0.1006, Accuracy: 98.00%\n",
      "Epoch [10/20], Step [500/600], Loss: 0.1000, Accuracy: 96.00%\n",
      "Epoch [10/20], Step [600/600], Loss: 0.0653, Accuracy: 98.00%\n",
      "Epoch [11/20], Step [100/600], Loss: 0.0269, Accuracy: 99.00%\n",
      "Epoch [11/20], Step [200/600], Loss: 0.0368, Accuracy: 98.00%\n",
      "Epoch [11/20], Step [300/600], Loss: 0.0516, Accuracy: 98.00%\n",
      "Epoch [11/20], Step [400/600], Loss: 0.0665, Accuracy: 97.00%\n",
      "Epoch [11/20], Step [500/600], Loss: 0.0650, Accuracy: 97.00%\n",
      "Epoch [11/20], Step [600/600], Loss: 0.0449, Accuracy: 98.00%\n",
      "Epoch [12/20], Step [100/600], Loss: 0.1261, Accuracy: 96.00%\n",
      "Epoch [12/20], Step [200/600], Loss: 0.1004, Accuracy: 98.00%\n",
      "Epoch [12/20], Step [300/600], Loss: 0.0193, Accuracy: 99.00%\n",
      "Epoch [12/20], Step [400/600], Loss: 0.0915, Accuracy: 96.00%\n",
      "Epoch [12/20], Step [500/600], Loss: 0.1892, Accuracy: 97.00%\n",
      "Epoch [12/20], Step [600/600], Loss: 0.0836, Accuracy: 98.00%\n",
      "Epoch [13/20], Step [100/600], Loss: 0.1066, Accuracy: 96.00%\n",
      "Epoch [13/20], Step [200/600], Loss: 0.0726, Accuracy: 97.00%\n",
      "Epoch [13/20], Step [300/600], Loss: 0.0718, Accuracy: 96.00%\n",
      "Epoch [13/20], Step [400/600], Loss: 0.1205, Accuracy: 96.00%\n",
      "Epoch [13/20], Step [500/600], Loss: 0.1651, Accuracy: 96.00%\n",
      "Epoch [13/20], Step [600/600], Loss: 0.0300, Accuracy: 99.00%\n",
      "Epoch [14/20], Step [100/600], Loss: 0.1417, Accuracy: 97.00%\n",
      "Epoch [14/20], Step [200/600], Loss: 0.2184, Accuracy: 96.00%\n",
      "Epoch [14/20], Step [300/600], Loss: 0.0692, Accuracy: 99.00%\n",
      "Epoch [14/20], Step [400/600], Loss: 0.0220, Accuracy: 99.00%\n",
      "Epoch [14/20], Step [500/600], Loss: 0.0373, Accuracy: 99.00%\n",
      "Epoch [14/20], Step [600/600], Loss: 0.0434, Accuracy: 99.00%\n",
      "Epoch [15/20], Step [100/600], Loss: 0.0194, Accuracy: 100.00%\n",
      "Epoch [15/20], Step [200/600], Loss: 0.0685, Accuracy: 98.00%\n",
      "Epoch [15/20], Step [300/600], Loss: 0.1129, Accuracy: 98.00%\n",
      "Epoch [15/20], Step [400/600], Loss: 0.0533, Accuracy: 97.00%\n",
      "Epoch [15/20], Step [500/600], Loss: 0.0481, Accuracy: 98.00%\n",
      "Epoch [15/20], Step [600/600], Loss: 0.0912, Accuracy: 97.00%\n",
      "Epoch [16/20], Step [100/600], Loss: 0.0457, Accuracy: 98.00%\n",
      "Epoch [16/20], Step [200/600], Loss: 0.0581, Accuracy: 97.00%\n",
      "Epoch [16/20], Step [300/600], Loss: 0.0580, Accuracy: 98.00%\n",
      "Epoch [16/20], Step [400/600], Loss: 0.0951, Accuracy: 98.00%\n",
      "Epoch [16/20], Step [500/600], Loss: 0.0415, Accuracy: 99.00%\n",
      "Epoch [16/20], Step [600/600], Loss: 0.0419, Accuracy: 99.00%\n",
      "Epoch [17/20], Step [100/600], Loss: 0.0276, Accuracy: 98.00%\n",
      "Epoch [17/20], Step [200/600], Loss: 0.1194, Accuracy: 95.00%\n",
      "Epoch [17/20], Step [300/600], Loss: 0.1664, Accuracy: 97.00%\n",
      "Epoch [17/20], Step [400/600], Loss: 0.0304, Accuracy: 100.00%\n",
      "Epoch [17/20], Step [500/600], Loss: 0.0557, Accuracy: 97.00%\n",
      "Epoch [17/20], Step [600/600], Loss: 0.1499, Accuracy: 95.00%\n",
      "Epoch [18/20], Step [100/600], Loss: 0.0480, Accuracy: 98.00%\n",
      "Epoch [18/20], Step [200/600], Loss: 0.0622, Accuracy: 98.00%\n",
      "Epoch [18/20], Step [300/600], Loss: 0.0688, Accuracy: 97.00%\n",
      "Epoch [18/20], Step [400/600], Loss: 0.1134, Accuracy: 98.00%\n",
      "Epoch [18/20], Step [500/600], Loss: 0.0448, Accuracy: 98.00%\n",
      "Epoch [18/20], Step [600/600], Loss: 0.0858, Accuracy: 96.00%\n",
      "Epoch [19/20], Step [100/600], Loss: 0.0427, Accuracy: 98.00%\n",
      "Epoch [19/20], Step [200/600], Loss: 0.0298, Accuracy: 98.00%\n",
      "Epoch [19/20], Step [300/600], Loss: 0.0972, Accuracy: 99.00%\n",
      "Epoch [19/20], Step [400/600], Loss: 0.0247, Accuracy: 100.00%\n",
      "Epoch [19/20], Step [500/600], Loss: 0.0536, Accuracy: 99.00%\n",
      "Epoch [19/20], Step [600/600], Loss: 0.1475, Accuracy: 97.00%\n",
      "Epoch [20/20], Step [100/600], Loss: 0.0872, Accuracy: 96.00%\n",
      "Epoch [20/20], Step [200/600], Loss: 0.0314, Accuracy: 98.00%\n",
      "Epoch [20/20], Step [300/600], Loss: 0.1898, Accuracy: 93.00%\n",
      "Epoch [20/20], Step [400/600], Loss: 0.0322, Accuracy: 99.00%\n",
      "Epoch [20/20], Step [500/600], Loss: 0.1878, Accuracy: 95.00%\n",
      "Epoch [20/20], Step [600/600], Loss: 0.0728, Accuracy: 96.00%\n"
     ]
    }
   ],
   "source": [
    "# Training the model\n",
    "total_step = len(train_loader)\n",
    "loss_list = []\n",
    "acc_list = []\n",
    "\n",
    "for epoch in range(EPOCHS):\n",
    "    for i, (images, labels) in enumerate(train_loader):\n",
    "        # Run forward pass \n",
    "        outputs = model(images)\n",
    "        loss = criterion(outputs, labels)\n",
    "        loss_list.append(loss.item())\n",
    "        \n",
    "        # Now backpropogate and apply Adam\n",
    "        optimizer.zero_grad()\n",
    "        loss.backward()\n",
    "        optimizer.step()\n",
    "        \n",
    "        # Track accuracy\n",
    "        total = labels.size(0)\n",
    "        _, predicted = torch.max(outputs.data, 1)\n",
    "        correct = (predicted==labels).sum().item()\n",
    "        acc_list.append(correct / total)\n",
    "        \n",
    "        if (i+1) % 100 == 0:\n",
    "             print('Epoch [{}/{}], Step [{}/{}], Loss: {:.4f}, Accuracy: {:.2f}%'\n",
    "                  .format(epoch + 1, EPOCHS, i + 1, total_step, loss.item(),\n",
    "                          (correct / total) * 100))"
   ]
  },
  {
   "cell_type": "code",
   "execution_count": 84,
   "metadata": {
    "ExecuteTime": {
     "end_time": "2019-01-08T07:48:50.974721Z",
     "start_time": "2019-01-08T07:48:44.661548Z"
    }
   },
   "outputs": [
    {
     "name": "stdout",
     "output_type": "stream",
     "text": [
      "Test Accuracy of the model on the 10000 test images: 97.89 %\n"
     ]
    }
   ],
   "source": [
    "model.eval()\n",
    "with torch.no_grad():\n",
    "    correct = 0\n",
    "    total = 0\n",
    "    for images, labels in test_loader:\n",
    "        outputs = model(images)\n",
    "        _, predicted = torch.max(outputs.data, 1)\n",
    "        correct += (predicted==labels).sum().item()\n",
    "        total += labels.size(0)\n",
    "    \n",
    "    print('Test Accuracy of the model on the 10000 test images: {} %'.format((correct / total) * 100))"
   ]
  },
  {
   "cell_type": "markdown",
   "metadata": {},
   "source": [
    "Current Accuracies:\n",
    "    - 98.19% on 15 epochs, 1x1 -> 3x3 shift -> BN, ReLU -> 1x1 -> MaxPool for shift module \n",
    "    - 97.90% on 12 epochs, 1x1 -> 3x3 shift -> BN, ReLU -> 1x1 -> MaxPool for shift module\n",
    "    - 97.89% on 20 epochs, 1x1 -> 5x5 shift -> BN, ReLU -> 1x1 -> MaxPool for shift module\n",
    "    - 97.63% on 10 epochs, 1x1 -> 5x5 shift -> BN, ReLU -> 1x1 -> MaxPool for shift module\n",
    "    - 97.63% on 20 epochs,        3x3 shift -> BN, ReLU -> 1x1 -> MaxPool for shift module \n",
    "    - 97.38% on 10 epochs, 1x1 -> 3x3 shift -> BN, ReLU -> 1x1 -> MaxPool for shift module\n",
    "    - 97.32% on 12 epochs, BN, ReLU -> 1x1 -> 3x3 shift -> BN, ReLU -> 1x1 -> MaxPool for shift module"
   ]
  },
  {
   "cell_type": "markdown",
   "metadata": {},
   "source": [
    "Things that didn't work: \n",
    "    - Changing MaxPool -> AvgPool\n",
    "    - Using a stride 2 1x1 convolution at the end \n",
    "    - Concatenating an AvgPool of the input with the finished tensor"
   ]
  },
  {
   "cell_type": "code",
   "execution_count": 89,
   "metadata": {
    "ExecuteTime": {
     "end_time": "2019-01-08T08:04:57.265958Z",
     "start_time": "2019-01-08T08:04:57.246071Z"
    }
   },
   "outputs": [],
   "source": [
    "# Save the model and plot\n",
    "torch.save(model.state_dict(), MODEL_PATH + 'mnist_shift1_fc2_bn_model.ckpt')"
   ]
  },
  {
   "cell_type": "code",
   "execution_count": 90,
   "metadata": {
    "ExecuteTime": {
     "end_time": "2019-01-08T08:04:59.461653Z",
     "start_time": "2019-01-08T08:04:59.375822Z"
    }
   },
   "outputs": [],
   "source": [
    "#Load Model\n",
    "shiftModelMNIST = ShiftConvNet()\n",
    "shiftModelMNIST.load_state_dict(torch.load(MODEL_PATH + 'mnist_shift1_fc2_bn_model.ckpt'))"
   ]
  },
  {
   "cell_type": "code",
   "execution_count": 273,
   "metadata": {
    "ExecuteTime": {
     "end_time": "2019-01-07T21:43:10.027069Z",
     "start_time": "2019-01-07T21:43:10.023271Z"
    }
   },
   "outputs": [],
   "source": [
    "# To evaluate a model's baseline accuracy\n",
    "def accModel(model, loader): \n",
    "    model.eval()\n",
    "    with torch.no_grad():\n",
    "        correct = 0\n",
    "        total = 0\n",
    "        for images, labels in loader:\n",
    "            outputs = model(images)\n",
    "            _, predicted = torch.max(outputs.data, 1)\n",
    "            correct += (predicted==labels).sum().item()\n",
    "            total += labels.size(0)\n",
    "        return (correct / total) * 100"
   ]
  },
  {
   "cell_type": "code",
   "execution_count": 91,
   "metadata": {
    "ExecuteTime": {
     "end_time": "2019-01-08T08:05:08.184858Z",
     "start_time": "2019-01-08T08:05:02.190566Z"
    }
   },
   "outputs": [
    {
     "data": {
      "text/plain": [
       "97.89"
      ]
     },
     "execution_count": 91,
     "metadata": {},
     "output_type": "execute_result"
    }
   ],
   "source": [
    "accModel(model, test_loader)"
   ]
  },
  {
   "cell_type": "code",
   "execution_count": 92,
   "metadata": {
    "ExecuteTime": {
     "end_time": "2019-01-08T08:05:13.972704Z",
     "start_time": "2019-01-08T08:05:08.186717Z"
    }
   },
   "outputs": [
    {
     "data": {
      "text/plain": [
       "41.75"
      ]
     },
     "execution_count": 92,
     "metadata": {},
     "output_type": "execute_result"
    }
   ],
   "source": [
    "accModel(shiftModelMNIST, test_loader)"
   ]
  },
  {
   "cell_type": "code",
   "execution_count": 256,
   "metadata": {
    "ExecuteTime": {
     "end_time": "2019-01-07T19:14:31.716125Z",
     "start_time": "2019-01-07T19:14:31.632722Z"
    }
   },
   "outputs": [],
   "source": [
    "#Load Model\n",
    "shiftModelMNIST = ShiftConvNet()\n",
    "shiftModelMNIST.load_state_dict(torch.load(MODEL_PATH + 'mnist_shift1_fc2_model.ckpt'))"
   ]
  },
  {
   "cell_type": "code",
   "execution_count": 275,
   "metadata": {
    "ExecuteTime": {
     "end_time": "2019-01-07T21:43:56.213029Z",
     "start_time": "2019-01-07T21:43:56.129849Z"
    }
   },
   "outputs": [],
   "source": [
    "#Load Model\n",
    "model = ShiftConvNet()\n",
    "model.load_state_dict(torch.load(MODEL_PATH + 'mnist_shift1_fc2_model.ckpt'))"
   ]
  },
  {
   "cell_type": "markdown",
   "metadata": {},
   "source": [
    "# Test with CIFAR-10 "
   ]
  },
  {
   "cell_type": "markdown",
   "metadata": {},
   "source": [
    "## Train CNN on CIFAR-10"
   ]
  },
  {
   "cell_type": "markdown",
   "metadata": {},
   "source": [
    "First we train a model on CIFAR-10"
   ]
  },
  {
   "cell_type": "code",
   "execution_count": 51,
   "metadata": {
    "ExecuteTime": {
     "end_time": "2019-01-05T23:25:35.514110Z",
     "start_time": "2019-01-05T23:25:35.511012Z"
    }
   },
   "outputs": [],
   "source": [
    "# Hyperparameters\n",
    "EPOCHS = 4\n",
    "CLASSES = 10\n",
    "BATCH_SIZE = 100\n",
    "LEARNING_RATE = 0.001"
   ]
  },
  {
   "cell_type": "code",
   "execution_count": 43,
   "metadata": {
    "ExecuteTime": {
     "end_time": "2019-01-05T23:22:10.009557Z",
     "start_time": "2019-01-05T23:22:09.096358Z"
    }
   },
   "outputs": [],
   "source": [
    "# a transform to apply to data (convert to Tensor, then normalize w/ CIFAR-10's mean & sd on RGB channels)\n",
    "trans = transforms.Compose([#transforms.ToPILImage(), \n",
    "                            transforms.ToTensor(), \n",
    "                            transforms.Normalize(mean=(0.485, 0.456, 0.406), std = (0.229, 0.224, 0.225))])\n",
    "\n",
    "# CIFAR-10 \n",
    "train_dataset = torchvision.datasets.CIFAR10(root=DATA_PATH, train=True, download=False, transform=trans)\n",
    "test_dataset = torchvision.datasets.CIFAR10(root=DATA_PATH, train=False, transform=trans)"
   ]
  },
  {
   "cell_type": "code",
   "execution_count": 44,
   "metadata": {
    "ExecuteTime": {
     "end_time": "2019-01-05T23:22:11.107352Z",
     "start_time": "2019-01-05T23:22:11.100505Z"
    }
   },
   "outputs": [],
   "source": [
    "train_loader = DataLoader(dataset = train_dataset, batch_size=BATCH_SIZE, shuffle = True)\n",
    "test_loader = DataLoader(dataset = test_dataset, batch_size=BATCH_SIZE, shuffle = False)"
   ]
  },
  {
   "cell_type": "code",
   "execution_count": 45,
   "metadata": {
    "ExecuteTime": {
     "end_time": "2019-01-05T23:22:11.989750Z",
     "start_time": "2019-01-05T23:22:11.780598Z"
    }
   },
   "outputs": [
    {
     "data": {
      "text/plain": [
       "<matplotlib.image.AxesImage at 0x10fa375f8>"
      ]
     },
     "execution_count": 45,
     "metadata": {},
     "output_type": "execute_result"
    },
    {
     "data": {
      "image/png": "[encoded data removed]",
      "text/plain": [
       "<Figure size 432x288 with 1 Axes>"
      ]
     },
     "metadata": {},
     "output_type": "display_data"
    }
   ],
   "source": [
    "plt.imshow(train_loader.dataset.train_data[0])"
   ]
  },
  {
   "cell_type": "code",
   "execution_count": 46,
   "metadata": {
    "ExecuteTime": {
     "end_time": "2019-01-05T23:22:18.292800Z",
     "start_time": "2019-01-05T23:22:18.287706Z"
    }
   },
   "outputs": [
    {
     "data": {
      "text/plain": [
       "(32, 32, 3)"
      ]
     },
     "execution_count": 46,
     "metadata": {},
     "output_type": "execute_result"
    }
   ],
   "source": [
    "train_loader.dataset.train_data[0].shape"
   ]
  },
  {
   "cell_type": "code",
   "execution_count": null,
   "metadata": {
    "ExecuteTime": {
     "end_time": "2019-01-08T03:16:18.042967Z",
     "start_time": "2019-01-08T03:16:16.770Z"
    },
    "init_cell": true
   },
   "outputs": [],
   "source": [
    "class CIFARConvNet(nn.Module):\n",
    "    def __init__(self):\n",
    "        super(CIFARConvNet, self).__init__()\n",
    "        \n",
    "        self.layer1 = nn.Sequential(\n",
    "            nn.Conv2d(3, 32, kernel_size=5, stride=1, padding=2),\n",
    "            nn.ReLU(),\n",
    "            nn.MaxPool2d(kernel_size=2, stride=2)\n",
    "            )\n",
    "#       self.layer2 = nn.Sequential(\n",
    "#           nn.Conv2d(32, 64, kernel_size=5, stride=1, padding=2),\n",
    "#           nn.ReLU(),\n",
    "#           nn.MaxPool2d(kernel_size=2, stride=2)\n",
    "#           )\n",
    "        self.drop_out = nn.Dropout()\n",
    "        self.fc1 = nn.Linear(16 * 16 * 32, 2000)\n",
    "        self.fc2 = nn.Linear(2000, 10)\n",
    "    \n",
    "    def forward(self, x):\n",
    "        out = self.layer1(x)\n",
    "#        out = self.layer2(out)\n",
    "        out = out.reshape(out.size(0), -1)\n",
    "        out = self.drop_out(out)\n",
    "        out = self.fc1(out)\n",
    "        out = self.fc2(out)\n",
    "        return out "
   ]
  },
  {
   "cell_type": "code",
   "execution_count": 48,
   "metadata": {
    "ExecuteTime": {
     "end_time": "2019-01-05T23:22:24.712921Z",
     "start_time": "2019-01-05T23:22:24.561429Z"
    }
   },
   "outputs": [],
   "source": [
    "model = CIFARConvNet()\n",
    "\n",
    "# Loss and Optimizer\n",
    "criterion = nn.CrossEntropyLoss()\n",
    "optimizer = torch.optim.Adam(model.parameters(), lr=LEARNING_RATE)"
   ]
  },
  {
   "cell_type": "code",
   "execution_count": 52,
   "metadata": {
    "ExecuteTime": {
     "end_time": "2019-01-05T23:38:30.221156Z",
     "start_time": "2019-01-05T23:25:42.638061Z"
    },
    "scrolled": true
   },
   "outputs": [
    {
     "name": "stdout",
     "output_type": "stream",
     "text": [
      "Epoch [1/6], Step [100/500], Loss: 1.1088, Accuracy: 56.00%\n",
      "Epoch [1/6], Step [200/500], Loss: 1.2240, Accuracy: 53.00%\n",
      "Epoch [1/6], Step [300/500], Loss: 1.1352, Accuracy: 63.00%\n",
      "Epoch [1/6], Step [400/500], Loss: 1.2080, Accuracy: 55.00%\n",
      "Epoch [1/6], Step [500/500], Loss: 1.2460, Accuracy: 57.00%\n",
      "Epoch [2/6], Step [100/500], Loss: 0.9806, Accuracy: 66.00%\n",
      "Epoch [2/6], Step [200/500], Loss: 1.0705, Accuracy: 63.00%\n",
      "Epoch [2/6], Step [300/500], Loss: 1.0897, Accuracy: 64.00%\n",
      "Epoch [2/6], Step [400/500], Loss: 1.2209, Accuracy: 53.00%\n",
      "Epoch [2/6], Step [500/500], Loss: 1.2357, Accuracy: 61.00%\n",
      "Epoch [3/6], Step [100/500], Loss: 1.3621, Accuracy: 56.00%\n",
      "Epoch [3/6], Step [200/500], Loss: 1.0152, Accuracy: 68.00%\n",
      "Epoch [3/6], Step [300/500], Loss: 1.2386, Accuracy: 60.00%\n",
      "Epoch [3/6], Step [400/500], Loss: 1.0950, Accuracy: 69.00%\n",
      "Epoch [3/6], Step [500/500], Loss: 1.0712, Accuracy: 66.00%\n",
      "Epoch [4/6], Step [100/500], Loss: 1.0963, Accuracy: 62.00%\n",
      "Epoch [4/6], Step [200/500], Loss: 0.9385, Accuracy: 67.00%\n",
      "Epoch [4/6], Step [300/500], Loss: 1.1294, Accuracy: 64.00%\n",
      "Epoch [4/6], Step [400/500], Loss: 1.1711, Accuracy: 61.00%\n",
      "Epoch [4/6], Step [500/500], Loss: 1.4042, Accuracy: 56.00%\n",
      "Epoch [5/6], Step [100/500], Loss: 1.1724, Accuracy: 60.00%\n",
      "Epoch [5/6], Step [200/500], Loss: 1.2751, Accuracy: 61.00%\n",
      "Epoch [5/6], Step [300/500], Loss: 1.0714, Accuracy: 60.00%\n",
      "Epoch [5/6], Step [400/500], Loss: 1.1692, Accuracy: 57.00%\n",
      "Epoch [5/6], Step [500/500], Loss: 1.2748, Accuracy: 55.00%\n",
      "Epoch [6/6], Step [100/500], Loss: 0.8209, Accuracy: 70.00%\n",
      "Epoch [6/6], Step [200/500], Loss: 0.9792, Accuracy: 64.00%\n",
      "Epoch [6/6], Step [300/500], Loss: 1.1095, Accuracy: 60.00%\n",
      "Epoch [6/6], Step [400/500], Loss: 0.7822, Accuracy: 80.00%\n",
      "Epoch [6/6], Step [500/500], Loss: 1.2131, Accuracy: 62.00%\n"
     ]
    }
   ],
   "source": [
    "# Training the model\n",
    "total_step = len(train_loader)\n",
    "loss_list = []\n",
    "acc_list = []\n",
    "\n",
    "for epoch in range(EPOCHS):\n",
    "    for i, (images, labels) in enumerate(train_loader):\n",
    "        # Run forward pass \n",
    "        outputs = model(images)\n",
    "        loss = criterion(outputs, labels)\n",
    "        loss_list.append(loss.item())\n",
    "        \n",
    "        # Now backpropogate and apply Adam\n",
    "        optimizer.zero_grad()\n",
    "        loss.backward()\n",
    "        optimizer.step()\n",
    "        \n",
    "        # Track accuracy\n",
    "        total = labels.size(0)\n",
    "        _, predicted = torch.max(outputs.data, 1)\n",
    "        correct = (predicted==labels).sum().item()\n",
    "        acc_list.append(correct / total)\n",
    "        \n",
    "        if (i+1) % 100 == 0:\n",
    "             print('Epoch [{}/{}], Step [{}/{}], Loss: {:.4f}, Accuracy: {:.2f}%'\n",
    "                  .format(epoch + 1, EPOCHS, i + 1, total_step, loss.item(),\n",
    "                          (correct / total) * 100))"
   ]
  },
  {
   "cell_type": "code",
   "execution_count": 62,
   "metadata": {
    "ExecuteTime": {
     "end_time": "2019-01-05T23:47:31.895170Z",
     "start_time": "2019-01-05T23:47:24.851190Z"
    }
   },
   "outputs": [
    {
     "name": "stdout",
     "output_type": "stream",
     "text": [
      "Test Accuracy of the model on the 10000 test images: 63.13999999999999 %\n"
     ]
    }
   ],
   "source": [
    "def evaluateAccuracy(model, test_loader): \n",
    "    model.eval()\n",
    "    with torch.no_grad():\n",
    "        correct = 0\n",
    "        total = 0\n",
    "        for images, labels in test_loader:\n",
    "            outputs = model(images)\n",
    "            _, predicted = torch.max(outputs.data, 1)\n",
    "            correct += (predicted==labels).sum().item()\n",
    "            total += labels.size(0)\n",
    "\n",
    "        print('Test Accuracy of the model on the 10000 test images: {} %'.format((correct / total) * 100))\n",
    "evaluateAccuracy(model, test_loader) \n",
    "# Save the model and plot\n",
    "torch.save(model.state_dict(), os.path.join(MODEL_PATH,'cifar_conv1_fc2_model.ckpt'))"
   ]
  },
  {
   "cell_type": "markdown",
   "metadata": {},
   "source": [
    "## Measure output variance "
   ]
  },
  {
   "cell_type": "code",
   "execution_count": null,
   "metadata": {
    "ExecuteTime": {
     "end_time": "2019-01-08T03:16:18.044794Z",
     "start_time": "2019-01-08T03:16:16.772Z"
    },
    "init_cell": true
   },
   "outputs": [],
   "source": [
    "modelCIFAR = CIFARConvNet()\n",
    "modelCIFAR.load_state_dict(torch.load(MODEL_PATH + 'cifar_conv1_fc2_model.ckpt'))"
   ]
  },
  {
   "cell_type": "code",
   "execution_count": 65,
   "metadata": {
    "ExecuteTime": {
     "end_time": "2019-01-05T23:48:43.680764Z",
     "start_time": "2019-01-05T23:48:36.498069Z"
    }
   },
   "outputs": [
    {
     "data": {
      "text/plain": [
       "tensor(0.1098)"
      ]
     },
     "execution_count": 65,
     "metadata": {},
     "output_type": "execute_result"
    }
   ],
   "source": [
    "varModel(modelCIFAR, test_loader)"
   ]
  },
  {
   "cell_type": "code",
   "execution_count": 66,
   "metadata": {
    "ExecuteTime": {
     "end_time": "2019-01-05T23:48:50.909478Z",
     "start_time": "2019-01-05T23:48:50.905955Z"
    }
   },
   "outputs": [
    {
     "name": "stdout",
     "output_type": "stream",
     "text": [
      "[ 0. 10. 20. 30. 40. 50. 60.]\n"
     ]
    }
   ],
   "source": [
    "sigs = np.linspace(0, 60, 7) \n",
    "print(sigs)"
   ]
  },
  {
   "cell_type": "code",
   "execution_count": 67,
   "metadata": {
    "ExecuteTime": {
     "end_time": "2019-01-05T23:55:08.192651Z",
     "start_time": "2019-01-05T23:49:03.990295Z"
    }
   },
   "outputs": [
    {
     "name": "stdout",
     "output_type": "stream",
     "text": [
      "Computing variance of f(Y) where noise has sigma = 0.0\n",
      "Epoch 1 of 6\n",
      "Epoch 2 of 6\n",
      "Epoch 3 of 6\n",
      "Epoch 4 of 6\n",
      "Epoch 5 of 6\n",
      "Epoch 6 of 6\n",
      "Variance with noise std 0.0 is 0.11344992369413376. STD is 0.0\n",
      "Computing variance of f(Y) where noise has sigma = 10.0\n",
      "Epoch 1 of 6\n",
      "Epoch 2 of 6\n",
      "Epoch 3 of 6\n",
      "Epoch 4 of 6\n",
      "Epoch 5 of 6\n",
      "Epoch 6 of 6\n",
      "Variance with noise std 10.0 is 0.11183217540383339. STD is 0.00020617874687709224\n",
      "Computing variance of f(Y) where noise has sigma = 20.0\n",
      "Epoch 1 of 6\n",
      "Epoch 2 of 6\n",
      "Epoch 3 of 6\n",
      "Epoch 4 of 6\n",
      "Epoch 5 of 6\n",
      "Epoch 6 of 6\n",
      "Variance with noise std 20.0 is 0.11728457485636075. STD is 0.0002913063684056205\n",
      "Computing variance of f(Y) where noise has sigma = 30.0\n",
      "Epoch 1 of 6\n",
      "Epoch 2 of 6\n",
      "Epoch 3 of 6\n",
      "Epoch 4 of 6\n",
      "Epoch 5 of 6\n",
      "Epoch 6 of 6\n",
      "Variance with noise std 30.0 is 0.12560017655293146. STD is 0.00022716394190480652\n",
      "Computing variance of f(Y) where noise has sigma = 40.0\n",
      "Epoch 1 of 6\n",
      "Epoch 2 of 6\n",
      "Epoch 3 of 6\n",
      "Epoch 4 of 6\n",
      "Epoch 5 of 6\n",
      "Epoch 6 of 6\n",
      "Variance with noise std 40.0 is 0.13338218877712885. STD is 0.0008409069908306914\n",
      "Computing variance of f(Y) where noise has sigma = 50.0\n",
      "Epoch 1 of 6\n",
      "Epoch 2 of 6\n",
      "Epoch 3 of 6\n",
      "Epoch 4 of 6\n",
      "Epoch 5 of 6\n",
      "Epoch 6 of 6\n",
      "Variance with noise std 50.0 is 0.14373797923326492. STD is 0.0004483866703470052\n",
      "Computing variance of f(Y) where noise has sigma = 60.0\n",
      "Epoch 1 of 6\n",
      "Epoch 2 of 6\n",
      "Epoch 3 of 6\n",
      "Epoch 4 of 6\n",
      "Epoch 5 of 6\n",
      "Epoch 6 of 6\n",
      "Variance with noise std 60.0 is 0.15517164766788483. STD is 0.0006442478645175067\n"
     ]
    },
    {
     "data": {
      "image/png": "[encoded data removed]",
      "text/plain": [
       "<Figure size 720x432 with 1 Axes>"
      ]
     },
     "metadata": {},
     "output_type": "display_data"
    }
   ],
   "source": [
    "res, resSTD = varianceTest(modelCIFAR, sigs, dataset = 'cifar10', epochs = 6)\n",
    "display(sigs, res, resSTD)"
   ]
  },
  {
   "cell_type": "code",
   "execution_count": 68,
   "metadata": {
    "ExecuteTime": {
     "end_time": "2019-01-05T23:59:34.239464Z",
     "start_time": "2019-01-05T23:57:22.549090Z"
    }
   },
   "outputs": [
    {
     "name": "stdout",
     "output_type": "stream",
     "text": [
      "[  0.  30.  60.  90. 120.]\n",
      "Computing variance of f(Y) where noise has sigma = 0.0\n",
      "Epoch 1 of 3\n",
      "Epoch 2 of 3\n",
      "Epoch 3 of 3\n",
      "Variance with noise std 0.0 is 0.11344992369413376. STD is 0.0\n",
      "Computing variance of f(Y) where noise has sigma = 30.0\n",
      "Epoch 1 of 3\n",
      "Epoch 2 of 3\n",
      "Epoch 3 of 3\n",
      "Variance with noise std 30.0 is 0.12504267195860544. STD is 0.000556828156830979\n",
      "Computing variance of f(Y) where noise has sigma = 60.0\n",
      "Epoch 1 of 3\n",
      "Epoch 2 of 3\n",
      "Epoch 3 of 3\n",
      "Variance with noise std 60.0 is 0.15508961180845895. STD is 0.0006545912662299702\n",
      "Computing variance of f(Y) where noise has sigma = 90.0\n",
      "Epoch 1 of 3\n",
      "Epoch 2 of 3\n",
      "Epoch 3 of 3\n",
      "Variance with noise std 90.0 is 0.17551058530807495. STD is 0.0003534199789224031\n",
      "Computing variance of f(Y) where noise has sigma = 120.0\n",
      "Epoch 1 of 3\n",
      "Epoch 2 of 3\n",
      "Epoch 3 of 3\n",
      "Variance with noise std 120.0 is 0.18253387014071146. STD is 0.0004412817852173159\n"
     ]
    }
   ],
   "source": [
    "sigs2 = np.linspace(0, 120, 5)\n",
    "print(sigs2)\n",
    "res, resSTD = varianceTest(modelCIFAR, sigs2, dataset = 'cifar10', epochs = 3)"
   ]
  },
  {
   "cell_type": "code",
   "execution_count": 69,
   "metadata": {
    "ExecuteTime": {
     "end_time": "2019-01-05T23:59:34.355894Z",
     "start_time": "2019-01-05T23:59:34.241638Z"
    }
   },
   "outputs": [
    {
     "data": {
      "image/png": "[encoded data removed]",
      "text/plain": [
       "<Figure size 720x432 with 1 Axes>"
      ]
     },
     "metadata": {},
     "output_type": "display_data"
    }
   ],
   "source": [
    "display(sigs2, res, resSTD)"
   ]
  },
  {
   "cell_type": "code",
   "execution_count": 21,
   "metadata": {
    "ExecuteTime": {
     "end_time": "2018-11-26T23:43:30.796992Z",
     "start_time": "2018-11-26T23:41:07.151513Z"
    }
   },
   "outputs": [
    {
     "name": "stdout",
     "output_type": "stream",
     "text": [
      "[  0.  30.  60.  90. 120.]\n",
      "Computing variance of f(Y) where noise has sigma = 0.0\n",
      "Epoch 1 of 3\n",
      "Epoch 2 of 3\n",
      "Epoch 3 of 3\n",
      "Variance with noise std 0.0 is 0.09873133152723312. STD is 0.0\n",
      "Computing variance of f(Y) where noise has sigma = 30.0\n",
      "Epoch 1 of 3\n",
      "Epoch 2 of 3\n",
      "Epoch 3 of 3\n",
      "Variance with noise std 30.0 is 0.11027581989765167. STD is 0.0005179726913842064\n",
      "Computing variance of f(Y) where noise has sigma = 60.0\n",
      "Epoch 1 of 3\n",
      "Epoch 2 of 3\n",
      "Epoch 3 of 3\n",
      "Variance with noise std 60.0 is 0.1285632848739624. STD is 0.0017940441045435295\n",
      "Computing variance of f(Y) where noise has sigma = 90.0\n",
      "Epoch 1 of 3\n",
      "Epoch 2 of 3\n",
      "Epoch 3 of 3\n",
      "Variance with noise std 90.0 is 0.08690366894006729. STD is 0.010996116910540593\n",
      "Computing variance of f(Y) where noise has sigma = 120.0\n",
      "Epoch 1 of 3\n",
      "Epoch 2 of 3\n",
      "Epoch 3 of 3\n",
      "Variance with noise std 120.0 is 0.06005295366048813. STD is 0.0013251503418518359\n"
     ]
    }
   ],
   "source": [
    "sigs2 = np.linspace(0, 120, 5)\n",
    "print(sigs2)\n",
    "res, resSTD = varianceTest(modelCIFAR, sigs2, dataset = 'cifar10', epochs = 3)"
   ]
  },
  {
   "cell_type": "code",
   "execution_count": 22,
   "metadata": {
    "ExecuteTime": {
     "end_time": "2018-11-26T23:43:30.937673Z",
     "start_time": "2018-11-26T23:43:30.800004Z"
    }
   },
   "outputs": [
    {
     "name": "stdout",
     "output_type": "stream",
     "text": [
      "(5,) (5,) (5,)\n"
     ]
    },
    {
     "data": {
      "image/png": "[encoded data removed]",
      "text/plain": [
       "<Figure size 720x432 with 1 Axes>"
      ]
     },
     "metadata": {},
     "output_type": "display_data"
    }
   ],
   "source": [
    "print(sigs2.shape, np.array(res).shape, np.array(resSTD).shape)\n",
    "display(sigs2, res, resSTD)"
   ]
  },
  {
   "cell_type": "markdown",
   "metadata": {},
   "source": [
    "# Comparing accuracy on noisy inputs"
   ]
  },
  {
   "cell_type": "code",
   "execution_count": 17,
   "metadata": {
    "ExecuteTime": {
     "end_time": "2019-01-08T03:49:00.676129Z",
     "start_time": "2019-01-08T03:49:00.671314Z"
    }
   },
   "outputs": [],
   "source": [
    "# To evaluate a model's baseline accuracy\n",
    "def accModel(model, loader): \n",
    "    model.eval()\n",
    "    with torch.no_grad():\n",
    "        correct = 0\n",
    "        total = 0\n",
    "        for images, labels in loader:\n",
    "            outputs = model(images)\n",
    "            _, predicted = torch.max(outputs.data, 1)\n",
    "            correct += (predicted==labels).sum().item()\n",
    "            total += labels.size(0)\n",
    "        return (correct / total) * 100"
   ]
  },
  {
   "cell_type": "code",
   "execution_count": 18,
   "metadata": {
    "ExecuteTime": {
     "end_time": "2019-01-08T03:49:01.130028Z",
     "start_time": "2019-01-08T03:49:01.125093Z"
    }
   },
   "outputs": [],
   "source": [
    "def varModel(model, loader):\n",
    "    ''' Returns the variance of model over samples as a PyTorch tensor.\n",
    "    \n",
    "        Inputs:\n",
    "        model: a PyTorch Neural Network.\n",
    "        samples: a PyTorch Data Loader of the samples to test (usually test_loader)'''\n",
    "    \n",
    "    model.eval()\n",
    "    results = []\n",
    "    \n",
    "    with torch.no_grad():\n",
    "        for images, labels in loader:\n",
    "            outputs = model(images)\n",
    "            _, predicted = torch.max(outputs.data, 1)\n",
    "            results.append(predicted)\n",
    "\n",
    "    results = torch.cat(results).float() \n",
    "    std = results.std()/(results.max()-results.min())\n",
    "    return std**2"
   ]
  },
  {
   "cell_type": "code",
   "execution_count": 19,
   "metadata": {
    "ExecuteTime": {
     "end_time": "2019-01-08T03:49:02.048909Z",
     "start_time": "2019-01-08T03:49:02.043430Z"
    }
   },
   "outputs": [],
   "source": [
    "def addNoise(inp, sigma, clamp = True): \n",
    "    ''' Adds Gaussian noise N(0, sigma) to a ndarray or tensor inp.\n",
    "        Clamps values to [0, 255]\n",
    "        Returns a FloatTensor with noise added.'''\n",
    "    if type(inp) != torch.Tensor:\n",
    "        try:\n",
    "            inp =  torch.Tensor(inp)\n",
    "        except:\n",
    "            print(\"Error: Input of type {} couldn't be converted to PyTorch tensor!\".format(type(inp)))\n",
    "            raise\n",
    "    inp = inp.type(torch.FloatTensor)\n",
    "    shape = inp.shape \n",
    "    noise = torch.tensor(np.random.normal(0, sigma, size = shape)).type(torch.FloatTensor)\n",
    "    result = noise+inp\n",
    "    lo, hi = torch.min(result), torch.max(result)\n",
    "    result = (result-lo)*255//(hi-lo)\n",
    "    return result if clamp else noise+inp\n",
    "    return torch.clamp(noise+inp, 0, 255) if clamp else noise+inp #to clamp or not to clamp? "
   ]
  },
  {
   "cell_type": "code",
   "execution_count": 20,
   "metadata": {
    "ExecuteTime": {
     "end_time": "2019-01-08T03:49:03.161390Z",
     "start_time": "2019-01-08T03:49:03.150607Z"
    },
    "init_cell": true
   },
   "outputs": [],
   "source": [
    "# Main function\n",
    "def varianceTest(model, sigmas, dataset, epochs = 5):\n",
    "    ''' Finds the variance of model over X+e, where e = N(0, sigma) is Gaussian noise. \n",
    "        Each hyperparameter is run over epochs iterations. \n",
    "        \n",
    "        Dataset is either 'mnist' or 'cifar10'\n",
    "    \n",
    "        Returns the average and s.d. of var(model(X+e)) where e = N(0, sigma) for each \n",
    "        sigma in sigmas over epochs number of iterations.'''\n",
    "    if dataset not in ['mnist', 'cifar10']:\n",
    "        print('Dataset {} not found!'.format(dataset))\n",
    "        return \n",
    "    if dataset == 'mnist':\n",
    "        trans = transforms.Compose([transforms.ToTensor(), \n",
    "                                transforms.Normalize((0.1307,), (0.3081,))])\n",
    "    elif dataset == 'cifar10':\n",
    "        trans = transforms.Compose([transforms.ToTensor(), \n",
    "                            transforms.Normalize(mean=(0.485, 0.456, 0.406), std = (0.229, 0.224, 0.225))])\n",
    "    outputVariance = []\n",
    "    outputVarianceSTD = []\n",
    "    for sigma in sigmas:\n",
    "        print(\"Computing variance of f(Y) where noise has sigma =\", sigma)\n",
    "        tot = []\n",
    "        for epoch in range(epochs): \n",
    "            print(\"Epoch {} of {}\".format(epoch+1, epochs))\n",
    "            if dataset == 'mnist':\n",
    "                noisy_test_dataset = torchvision.datasets.MNIST(root=DATA_PATH, train=False, \\\n",
    "                                                            transform=trans,download=False)\n",
    "            elif dataset == 'cifar10':\n",
    "                noisy_test_dataset = torchvision.datasets.CIFAR10(root=DATA_PATH, train=False, \\\n",
    "                                                            transform=trans,download=False)\n",
    "            for i in range(len(noisy_test_dataset.test_data)):\n",
    "                noisy_test_dataset.test_data[i] = addNoise(noisy_test_dataset.test_data[i], sigma)\n",
    "            test_loader = DataLoader(dataset = noisy_test_dataset, batch_size=BATCH_SIZE, shuffle = False)\n",
    "            tot.append(varModel(model, test_loader).item())\n",
    "        tot = np.array(tot)\n",
    "        outputVariance.append(tot.mean())\n",
    "        outputVarianceSTD.append(tot.std())\n",
    "        print(\"Variance with noise std {} is {}. STD is {}\".format(sigma, outputVariance[-1], outputVarianceSTD[-1]))\n",
    "    return outputVariance, outputVarianceSTD"
   ]
  },
  {
   "cell_type": "code",
   "execution_count": 21,
   "metadata": {
    "ExecuteTime": {
     "end_time": "2019-01-08T03:49:03.963014Z",
     "start_time": "2019-01-08T03:49:03.952856Z"
    }
   },
   "outputs": [],
   "source": [
    "# Main function\n",
    "def accuracyTest(CNN, ShiftNet, sigmas, dataset, epochs = 5):\n",
    "    ''' Computes the accuracy of spatial vs. shift model over X+e, \n",
    "        where e = N(0, sigma) is Gaussian noise. \n",
    "        Each hyperparameter is run over epochs iterations. \n",
    "        \n",
    "        Dataset is either 'mnist' or 'cifar10'\n",
    "    \n",
    "        Returns the average and s.d. of model(X+e) where e = N(0, sigma) for each \n",
    "        sigma in sigmas over epochs number of iterations.'''\n",
    "    if dataset not in ['mnist', 'cifar10']:\n",
    "        print('Dataset {} not found!'.format(dataset))\n",
    "        return \n",
    "    if dataset == 'mnist':\n",
    "        trans = transforms.Compose([transforms.ToTensor(), \n",
    "                                transforms.Normalize((0.1307,), (0.3081,))])\n",
    "    elif dataset == 'cifar10':\n",
    "        trans = transforms.Compose([transforms.ToTensor(), \n",
    "                            transforms.Normalize(mean=(0.485, 0.456, 0.406), std = (0.229, 0.224, 0.225))])\n",
    "    output = []\n",
    "    outputSTD = []\n",
    "    shift_output = []\n",
    "    shift_outputSTD = []\n",
    "    for sigma in sigmas:\n",
    "        print(\"Computing accuracy of f(Y) where noise has sigma =\", sigma)\n",
    "        tot = []\n",
    "        shift_tot = []\n",
    "        for epoch in range(epochs): \n",
    "            print(\"Epoch {} of {}\".format(epoch+1, epochs))\n",
    "            if dataset == 'mnist':\n",
    "                noisy_test_dataset = torchvision.datasets.MNIST(root=DATA_PATH, train=False, \\\n",
    "                                                            transform=trans,download=False)\n",
    "            elif dataset == 'cifar10':\n",
    "                noisy_test_dataset = torchvision.datasets.CIFAR10(root=DATA_PATH, train=False, \\\n",
    "                                                            transform=trans,download=False)\n",
    "            for i in range(len(noisy_test_dataset.test_data)):\n",
    "                noisy_test_dataset.test_data[i] = addNoise(noisy_test_dataset.test_data[i], sigma)\n",
    "            test_loader = DataLoader(dataset = noisy_test_dataset, batch_size=BATCH_SIZE, shuffle = False)\n",
    "            tot.append(accModel(CNN, test_loader))\n",
    "            shift_tot.append(accModel(ShiftNet, test_loader))\n",
    "        tot = np.array(tot)\n",
    "        shift_tot = np.array(shift_tot)\n",
    "        output.append(tot.mean())\n",
    "        outputSTD.append(tot.std())\n",
    "        shift_output.append(shift_tot.mean())\n",
    "        shift_outputSTD.append(shift_tot.std())\n",
    "        print(\"Accuracy of CNN with noise std {} is {}. STD is {}\".format(sigma, output[-1], outputSTD[-1]))\n",
    "        print(\"Accuracy of ShiftNet with noise std {} is {}. STD is {}\".format(sigma, shift_output[-1], shift_outputSTD[-1]))\n",
    "    return output, outputSTD, shift_output, shift_outputSTD"
   ]
  },
  {
   "cell_type": "code",
   "execution_count": 23,
   "metadata": {
    "ExecuteTime": {
     "end_time": "2019-01-08T04:01:44.406746Z",
     "start_time": "2019-01-08T04:01:44.402752Z"
    },
    "init_cell": true
   },
   "outputs": [],
   "source": [
    "def display(sigmas, results, resultsSTD):\n",
    "    results = np.array(results)\n",
    "    resultsSTD = np.array(resultsSTD)\n",
    "    plt.figure(figsize=(10,6))\n",
    "    plt.fill_between(sigmas, list(results-resultsSTD), list(results+resultsSTD), color='b',alpha=.2)\n",
    "    plt.plot(sigmas, results, lw=2)\n",
    "    plt.xlabel('Sigma', fontsize=12)\n",
    "    plt.ylabel('Variance', fontsize=12)\n",
    "    plt.title('Sigma vs. Variance')\n",
    "    plt.show()"
   ]
  },
  {
   "cell_type": "code",
   "execution_count": 263,
   "metadata": {
    "ExecuteTime": {
     "end_time": "2019-01-07T19:31:05.179265Z",
     "start_time": "2019-01-07T19:31:05.090255Z"
    }
   },
   "outputs": [],
   "source": [
    "# For MNIST Model\n",
    "modelMNIST = MNISTConvNet()\n",
    "modelMNIST.load_state_dict(torch.load(os.path.join(MODEL_PATH, 'mnist_conv1_fc2_model_new.ckpt')))"
   ]
  },
  {
   "cell_type": "code",
   "execution_count": 85,
   "metadata": {
    "ExecuteTime": {
     "end_time": "2019-01-08T07:52:56.488894Z",
     "start_time": "2019-01-08T07:49:50.202934Z"
    }
   },
   "outputs": [
    {
     "name": "stdout",
     "output_type": "stream",
     "text": [
      "[ 0. 10. 20. 30. 40. 50. 60. 70. 80.]\n",
      "Computing variance of f(Y) where noise has sigma = 0.0\n",
      "Epoch 1 of 3\n",
      "Epoch 2 of 3\n",
      "Epoch 3 of 3\n",
      "Variance with noise std 0.0 is 0.10329890996217728. STD is 0.0\n",
      "Computing variance of f(Y) where noise has sigma = 10.0\n",
      "Epoch 1 of 3\n",
      "Epoch 2 of 3\n",
      "Epoch 3 of 3\n",
      "Variance with noise std 10.0 is 0.10257425904273987. STD is 8.100958711512167e-05\n",
      "Computing variance of f(Y) where noise has sigma = 20.0\n",
      "Epoch 1 of 3\n",
      "Epoch 2 of 3\n",
      "Epoch 3 of 3\n",
      "Variance with noise std 20.0 is 0.1008670801917712. STD is 6.843421355330124e-05\n",
      "Computing variance of f(Y) where noise has sigma = 30.0\n",
      "Epoch 1 of 3\n",
      "Epoch 2 of 3\n",
      "Epoch 3 of 3\n",
      "Variance with noise std 30.0 is 0.10021534562110901. STD is 0.00023623540691396816\n",
      "Computing variance of f(Y) where noise has sigma = 40.0\n",
      "Epoch 1 of 3\n",
      "Epoch 2 of 3\n",
      "Epoch 3 of 3\n",
      "Variance with noise std 40.0 is 0.10051337877909343. STD is 0.00022192906893199571\n",
      "Computing variance of f(Y) where noise has sigma = 50.0\n",
      "Epoch 1 of 3\n",
      "Epoch 2 of 3\n",
      "Epoch 3 of 3\n",
      "Variance with noise std 50.0 is 0.10082314660151799. STD is 0.0001985494318459199\n",
      "Computing variance of f(Y) where noise has sigma = 60.0\n",
      "Epoch 1 of 3\n",
      "Epoch 2 of 3\n",
      "Epoch 3 of 3\n",
      "Variance with noise std 60.0 is 0.09952425460020702. STD is 0.0001936378073922567\n",
      "Computing variance of f(Y) where noise has sigma = 70.0\n",
      "Epoch 1 of 3\n",
      "Epoch 2 of 3\n",
      "Epoch 3 of 3\n",
      "Variance with noise std 70.0 is 0.09783340493837993. STD is 0.0003634338918468347\n",
      "Computing variance of f(Y) where noise has sigma = 80.0\n",
      "Epoch 1 of 3\n",
      "Epoch 2 of 3\n",
      "Epoch 3 of 3\n",
      "Variance with noise std 80.0 is 0.09704447040955226. STD is 0.0006247186858356736\n"
     ]
    },
    {
     "data": {
      "image/png": "[encoded data removed]",
      "text/plain": [
       "<Figure size 720x432 with 1 Axes>"
      ]
     },
     "metadata": {},
     "output_type": "display_data"
    }
   ],
   "source": [
    "sigs = np.linspace(0, 80, 9) \n",
    "print(sigs)\n",
    "res, resSTD = varianceTest(model, sigs, 'mnist', epochs = 3)\n",
    "display(sigs, res, resSTD)"
   ]
  },
  {
   "cell_type": "code",
   "execution_count": 25,
   "metadata": {
    "ExecuteTime": {
     "end_time": "2019-01-08T04:01:55.854064Z",
     "start_time": "2019-01-08T04:01:55.735433Z"
    }
   },
   "outputs": [
    {
     "data": {
      "image/png": "[encoded data removed]",
      "text/plain": [
       "<Figure size 720x432 with 1 Axes>"
      ]
     },
     "metadata": {},
     "output_type": "display_data"
    }
   ],
   "source": [
    "display(sigs, res, resSTD)"
   ]
  },
  {
   "cell_type": "code",
   "execution_count": 264,
   "metadata": {
    "ExecuteTime": {
     "end_time": "2019-01-07T19:34:47.989057Z",
     "start_time": "2019-01-07T19:31:25.763328Z"
    }
   },
   "outputs": [
    {
     "name": "stdout",
     "output_type": "stream",
     "text": [
      "Computing variance of f(Y) where noise has sigma = 0.0\n",
      "Epoch 1 of 5\n",
      "Epoch 2 of 5\n",
      "Epoch 3 of 5\n",
      "Epoch 4 of 5\n",
      "Epoch 5 of 5\n",
      "Variance with noise std 0.0 is 0.1033945083618164. STD is 0.0\n",
      "Computing variance of f(Y) where noise has sigma = 10.0\n",
      "Epoch 1 of 5\n",
      "Epoch 2 of 5\n",
      "Epoch 3 of 5\n",
      "Epoch 4 of 5\n",
      "Epoch 5 of 5\n",
      "Variance with noise std 10.0 is 0.10754713863134384. STD is 8.704408265409905e-05\n",
      "Computing variance of f(Y) where noise has sigma = 20.0\n",
      "Epoch 1 of 5\n",
      "Epoch 2 of 5\n",
      "Epoch 3 of 5\n",
      "Epoch 4 of 5\n",
      "Epoch 5 of 5\n",
      "Variance with noise std 20.0 is 0.11597123295068741. STD is 5.474857099145701e-05\n",
      "Computing variance of f(Y) where noise has sigma = 30.0\n",
      "Epoch 1 of 5\n",
      "Epoch 2 of 5\n",
      "Epoch 3 of 5\n",
      "Epoch 4 of 5\n",
      "Epoch 5 of 5\n",
      "Variance with noise std 30.0 is 0.12380402535200119. STD is 0.0003396426242657218\n",
      "Computing variance of f(Y) where noise has sigma = 40.0\n",
      "Epoch 1 of 5\n",
      "Epoch 2 of 5\n",
      "Epoch 3 of 5\n",
      "Epoch 4 of 5\n",
      "Epoch 5 of 5\n",
      "Variance with noise std 40.0 is 0.129699969291687. STD is 0.0004284521773594518\n",
      "Computing variance of f(Y) where noise has sigma = 50.0\n",
      "Epoch 1 of 5\n",
      "Epoch 2 of 5\n",
      "Epoch 3 of 5\n",
      "Epoch 4 of 5\n",
      "Epoch 5 of 5\n",
      "Variance with noise std 50.0 is 0.1331513464450836. STD is 0.0004041780320433615\n",
      "Computing variance of f(Y) where noise has sigma = 60.0\n",
      "Epoch 1 of 5\n",
      "Epoch 2 of 5\n",
      "Epoch 3 of 5\n",
      "Epoch 4 of 5\n",
      "Epoch 5 of 5\n",
      "Variance with noise std 60.0 is 0.1337203323841095. STD is 0.0006824021357485516\n",
      "Computing variance of f(Y) where noise has sigma = 70.0\n",
      "Epoch 1 of 5\n",
      "Epoch 2 of 5\n",
      "Epoch 3 of 5\n",
      "Epoch 4 of 5\n",
      "Epoch 5 of 5\n",
      "Variance with noise std 70.0 is 0.1324639290571213. STD is 0.00047090250611101175\n",
      "Computing variance of f(Y) where noise has sigma = 80.0\n",
      "Epoch 1 of 5\n",
      "Epoch 2 of 5\n",
      "Epoch 3 of 5\n",
      "Epoch 4 of 5\n",
      "Epoch 5 of 5\n",
      "Variance with noise std 80.0 is 0.13095231652259826. STD is 0.000690553004326077\n"
     ]
    }
   ],
   "source": [
    "c_results, c_resultsSTD = varianceTest(modelMNIST, sigs, epochs = 5, dataset='mnist')"
   ]
  },
  {
   "cell_type": "code",
   "execution_count": 266,
   "metadata": {
    "ExecuteTime": {
     "end_time": "2019-01-07T19:34:54.529082Z",
     "start_time": "2019-01-07T19:34:54.404099Z"
    }
   },
   "outputs": [
    {
     "data": {
      "image/png": "[encoded data removed]",
      "text/plain": [
       "<Figure size 720x432 with 1 Axes>"
      ]
     },
     "metadata": {},
     "output_type": "display_data"
    }
   ],
   "source": [
    "s_results= np.array(res)\n",
    "s_resultsSTD = np.array(resSTD)\n",
    "results = np.array(c_results)\n",
    "resultsSTD = np.array(c_resultsSTD)\n",
    "plt.figure(figsize=(10,6))\n",
    "plt.fill_between(sigs, list(s_results-s_resultsSTD), list(s_results+s_resultsSTD), color='b',alpha=.2)\n",
    "plt.fill_between(sigs, list(results-resultsSTD), list(results+resultsSTD), color='r',alpha=.2)\n",
    "plt.plot(sigs, s_results, color = 'b', lw=2)\n",
    "plt.plot(sigs, results, color = 'r', lw=2)\n",
    "plt.xlabel('Sigma', fontsize=12)\n",
    "plt.ylabel('Variance', fontsize=12)\n",
    "plt.title('Sigma vs. Variance')\n",
    "plt.show()"
   ]
  },
  {
   "cell_type": "code",
   "execution_count": 86,
   "metadata": {
    "ExecuteTime": {
     "end_time": "2019-01-08T08:01:11.894757Z",
     "start_time": "2019-01-08T07:53:38.721383Z"
    }
   },
   "outputs": [
    {
     "name": "stdout",
     "output_type": "stream",
     "text": [
      "Computing accuracy of f(Y) where noise has sigma = 0.0\n",
      "Epoch 1 of 5\n",
      "Epoch 2 of 5\n",
      "Epoch 3 of 5\n",
      "Epoch 4 of 5\n",
      "Epoch 5 of 5\n",
      "Accuracy of CNN with noise std 0.0 is 98.35000000000001. STD is 0.0\n",
      "Accuracy of ShiftNet with noise std 0.0 is 97.89. STD is 0.0\n",
      "Computing accuracy of f(Y) where noise has sigma = 10.0\n",
      "Epoch 1 of 5\n",
      "Epoch 2 of 5\n",
      "Epoch 3 of 5\n",
      "Epoch 4 of 5\n",
      "Epoch 5 of 5\n",
      "Accuracy of CNN with noise std 10.0 is 94.63. STD is 0.14628738838327837\n",
      "Accuracy of ShiftNet with noise std 10.0 is 95.82200000000002. STD is 0.0735934779718979\n",
      "Computing accuracy of f(Y) where noise has sigma = 20.0\n",
      "Epoch 1 of 5\n",
      "Epoch 2 of 5\n",
      "Epoch 3 of 5\n",
      "Epoch 4 of 5\n",
      "Epoch 5 of 5\n",
      "Accuracy of CNN with noise std 20.0 is 80.336. STD is 0.13850631754544843\n",
      "Accuracy of ShiftNet with noise std 20.0 is 92.242. STD is 0.06794115100585031\n",
      "Computing accuracy of f(Y) where noise has sigma = 30.0\n",
      "Epoch 1 of 5\n",
      "Epoch 2 of 5\n",
      "Epoch 3 of 5\n",
      "Epoch 4 of 5\n",
      "Epoch 5 of 5\n",
      "Accuracy of CNN with noise std 30.0 is 59.016. STD is 0.07255342858886832\n",
      "Accuracy of ShiftNet with noise std 30.0 is 90.52799999999999. STD is 0.07626270385975036\n",
      "Computing accuracy of f(Y) where noise has sigma = 40.0\n",
      "Epoch 1 of 5\n",
      "Epoch 2 of 5\n",
      "Epoch 3 of 5\n",
      "Epoch 4 of 5\n",
      "Epoch 5 of 5\n",
      "Accuracy of CNN with noise std 40.0 is 40.058. STD is 0.40196517262071435\n",
      "Accuracy of ShiftNet with noise std 40.0 is 89.876. STD is 0.23652484013312328\n",
      "Computing accuracy of f(Y) where noise has sigma = 50.0\n",
      "Epoch 1 of 5\n",
      "Epoch 2 of 5\n",
      "Epoch 3 of 5\n",
      "Epoch 4 of 5\n",
      "Epoch 5 of 5\n",
      "Accuracy of CNN with noise std 50.0 is 26.456. STD is 0.2222251110923329\n",
      "Accuracy of ShiftNet with noise std 50.0 is 86.338. STD is 0.1605490579231151\n",
      "Computing accuracy of f(Y) where noise has sigma = 60.0\n",
      "Epoch 1 of 5\n",
      "Epoch 2 of 5\n",
      "Epoch 3 of 5\n",
      "Epoch 4 of 5\n",
      "Epoch 5 of 5\n",
      "Accuracy of CNN with noise std 60.0 is 19.056. STD is 0.11808471535300373\n",
      "Accuracy of ShiftNet with noise std 60.0 is 78.228. STD is 0.22613270440164088\n",
      "Computing accuracy of f(Y) where noise has sigma = 70.0\n",
      "Epoch 1 of 5\n",
      "Epoch 2 of 5\n",
      "Epoch 3 of 5\n",
      "Epoch 4 of 5\n",
      "Epoch 5 of 5\n",
      "Accuracy of CNN with noise std 70.0 is 15.420000000000002. STD is 0.13145341380123998\n",
      "Accuracy of ShiftNet with noise std 70.0 is 67.892. STD is 0.19425756098540667\n",
      "Computing accuracy of f(Y) where noise has sigma = 80.0\n",
      "Epoch 1 of 5\n",
      "Epoch 2 of 5\n",
      "Epoch 3 of 5\n",
      "Epoch 4 of 5\n",
      "Epoch 5 of 5\n",
      "Accuracy of CNN with noise std 80.0 is 13.943999999999999. STD is 0.13124023773218316\n",
      "Accuracy of ShiftNet with noise std 80.0 is 57.581999999999994. STD is 0.5679929577028199\n"
     ]
    }
   ],
   "source": [
    "output, outputSTD, shift_output, shift_outputSTD = accuracyTest(modelMNIST, model, sigs, 'mnist')"
   ]
  },
  {
   "cell_type": "code",
   "execution_count": 272,
   "metadata": {
    "ExecuteTime": {
     "end_time": "2019-01-07T19:44:59.888374Z",
     "start_time": "2019-01-07T19:44:54.208839Z"
    }
   },
   "outputs": [
    {
     "data": {
      "text/plain": [
       "16.16"
      ]
     },
     "execution_count": 272,
     "metadata": {},
     "output_type": "execute_result"
    }
   ],
   "source": [
    "accModel(shiftModelMNIST, test_loader)"
   ]
  },
  {
   "cell_type": "code",
   "execution_count": 87,
   "metadata": {
    "ExecuteTime": {
     "end_time": "2019-01-08T08:01:11.901764Z",
     "start_time": "2019-01-08T08:01:11.897137Z"
    }
   },
   "outputs": [],
   "source": [
    "def displayTwo(one, oneSTD, two, twoSTD, xlabel = 'Sigma', ylabel = 'Variance', title = 'Sigma vs. Variance'):\n",
    "    out= np.array(one)\n",
    "    outSTD= np.array(oneSTD)\n",
    "    shiftout= np.array(two)\n",
    "    shiftoutSTD= np.array(twoSTD)\n",
    "    plt.figure(figsize=(10,6))\n",
    "    plt.fill_between(sigs, list(out-10*outSTD), list(out+10*outSTD), color='b',alpha=.2)\n",
    "    plt.fill_between(sigs, list(shiftout-10*shiftoutSTD), list(shiftout+10*shiftoutSTD), color='r',alpha=.2)\n",
    "    plt.plot(sigs, out, color = 'b', lw=2, label = 'CNN')\n",
    "    plt.plot(sigs, shiftout, color = 'r', lw=2, label = 'ShiftNet')\n",
    "    plt.xlabel(xlabel, fontsize=12)\n",
    "    plt.ylabel(ylabel, fontsize=12)\n",
    "    plt.title(title)\n",
    "    plt.legend(loc = 'upper right')\n",
    "    plt.show()"
   ]
  },
  {
   "cell_type": "code",
   "execution_count": 88,
   "metadata": {
    "ExecuteTime": {
     "end_time": "2019-01-08T08:01:12.082670Z",
     "start_time": "2019-01-08T08:01:11.904122Z"
    }
   },
   "outputs": [
    {
     "data": {
      "image/png": "[encoded data removed]",
      "text/plain": [
       "<Figure size 720x432 with 1 Axes>"
      ]
     },
     "metadata": {},
     "output_type": "display_data"
    }
   ],
   "source": [
    "displayTwo(output, outputSTD, shift_output, shift_outputSTD, ylabel = 'Accuracy', title = 'Sigma vs. Acc')"
   ]
  },
  {
   "cell_type": "code",
   "execution_count": 231,
   "metadata": {
    "ExecuteTime": {
     "end_time": "2019-01-06T10:19:46.574543Z",
     "start_time": "2019-01-06T10:19:46.562386Z"
    }
   },
   "outputs": [],
   "source": [
    "output, outputSTD, shift_output, shift_outputSTD = ([98.35000000000001,\n",
    "  94.09599999999999,\n",
    "  83.702,\n",
    "  73.632,\n",
    "  64.574,\n",
    "  56.492,\n",
    "  49.251999999999995,\n",
    "  42.861999999999995,\n",
    "  36.922000000000004],\n",
    " [0.0,\n",
    "  0.07631513611335947,\n",
    "  0.20419598428960226,\n",
    "  0.16424372134117818,\n",
    "  0.09707728879609291,\n",
    "  0.20497804760510466,\n",
    "  0.27036271932350586,\n",
    "  0.3296300957133624,\n",
    "  0.4369622409316399],\n",
    " [13.020000000000001,\n",
    "  19.201999999999998,\n",
    "  20.008,\n",
    "  16.788,\n",
    "  13.857999999999999,\n",
    "  12.672,\n",
    "  12.069999999999999,\n",
    "  11.951999999999998,\n",
    "  11.796],\n",
    " [0.0,\n",
    "  0.04399999999999981,\n",
    "  0.0923904756996095,\n",
    "  0.07704544113703342,\n",
    "  0.020396078054370426,\n",
    "  0.09744742172063871,\n",
    "  0.10936178491593825,\n",
    "  0.04915282290977762,\n",
    "  0.08957678270623426])"
   ]
  },
  {
   "cell_type": "code",
   "execution_count": 232,
   "metadata": {
    "ExecuteTime": {
     "end_time": "2019-01-06T10:19:54.520138Z",
     "start_time": "2019-01-06T10:19:54.411940Z"
    }
   },
   "outputs": [
    {
     "data": {
      "image/png": "[encoded data removed]",
      "text/plain": [
       "<Figure size 720x432 with 1 Axes>"
      ]
     },
     "metadata": {},
     "output_type": "display_data"
    }
   ],
   "source": [
    "display(sigs, output, outputSTD)"
   ]
  },
  {
   "cell_type": "code",
   "execution_count": 233,
   "metadata": {
    "ExecuteTime": {
     "end_time": "2019-01-06T10:20:09.668638Z",
     "start_time": "2019-01-06T10:20:09.565009Z"
    }
   },
   "outputs": [
    {
     "data": {
      "image/png": "[encoded data removed]",
      "text/plain": [
       "<Figure size 720x432 with 1 Axes>"
      ]
     },
     "metadata": {},
     "output_type": "display_data"
    }
   ],
   "source": [
    "display(sigs, shift_output, shift_outputSTD)"
   ]
  },
  {
   "cell_type": "code",
   "execution_count": null,
   "metadata": {},
   "outputs": [],
   "source": []
  }
 ],
 "metadata": {
  "celltoolbar": "Initialization Cell",
  "kernelspec": {
   "display_name": "Python 3",
   "language": "python",
   "name": "python3"
  },
  "language_info": {
   "codemirror_mode": {
    "name": "ipython",
    "version": 3
   },
   "file_extension": ".py",
   "mimetype": "text/x-python",
   "name": "python",
   "nbconvert_exporter": "python",
   "pygments_lexer": "ipython3",
   "version": "3.6.5"
  },
  "latex_envs": {
   "LaTeX_envs_menu_present": true,
   "autoclose": false,
   "autocomplete": true,
   "bibliofile": "biblio.bib",
   "cite_by": "apalike",
   "current_citInitial": 1,
   "eqLabelWithNumbers": true,
   "eqNumInitial": 1,
   "hotkeys": {
    "equation": "Ctrl-E",
    "itemize": "Ctrl-I"
   },
   "labels_anchors": false,
   "latex_user_defs": false,
   "report_style_numbering": false,
   "user_envs_cfg": false
  },
  "toc": {
   "base_numbering": 1,
   "nav_menu": {},
   "number_sections": true,
   "sideBar": true,
   "skip_h1_title": false,
   "title_cell": "Table of Contents",
   "title_sidebar": "Contents",
   "toc_cell": false,
   "toc_position": {
    "height": "calc(100% - 180px)",
    "left": "10px",
    "top": "150px",
    "width": "288px"
   },
   "toc_section_display": true,
   "toc_window_display": true
  }
 },
 "nbformat": 4,
 "nbformat_minor": 2
}
