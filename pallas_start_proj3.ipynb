{
 "cells": [
  {
   "cell_type": "markdown",
   "metadata": {},
   "source": [
    "# Initial Runs"
   ]
  },
  {
   "cell_type": "markdown",
   "metadata": {},
   "source": [
    "For ease of use, I've made a copy of everything essential for running in it's own section since it was getting messy. "
   ]
  },
  {
   "cell_type": "markdown",
   "metadata": {},
   "source": [
    "To Talk about: \n",
    "* Normalizing having an interfering effect with the data\n",
    "* PIL Image conversion? \n",
    "* CIFAR-10 works slightly better\n",
    "* Can't run shift module correctly due to lack of gpu for CUDA\n"
   ]
  },
  {
   "cell_type": "code",
   "execution_count": null,
   "metadata": {
    "init_cell": true
   },
   "outputs": [],
   "source": [
    "import torch\n",
    "import torchvision\n",
    "import torchvision.transforms as transforms\n",
    "import torch.nn as nn\n",
    "import torch.nn.functional as F\n",
    "from torch.utils.data import DataLoader\n",
    "\n",
    "import numpy as np\n",
    "\n",
    "%matplotlib inline\n",
    "import matplotlib.pyplot as plt\n",
    "\n",
    "DATA_PATH = \"./data\"\n",
    "MODEL_PATH = \"./models\""
   ]
  },
  {
   "cell_type": "code",
   "execution_count": null,
   "metadata": {
    "init_cell": true
   },
   "outputs": [],
   "source": [
    "# Hyperparameters\n",
    "EPOCHS = 6\n",
    "CLASSES = 10\n",
    "BATCH_SIZE = 100\n",
    "LEARNING_RATE = 0.001"
   ]
  },
  {
   "cell_type": "code",
   "execution_count": null,
   "metadata": {},
   "outputs": [],
   "source": [
    "# MNIST Dataset\n",
    "# a transform to apply to data (convert to Tensor, then normalize w/ MNIST's mean & sd)\n",
    "trans = transforms.Compose([transforms.ToTensor(), transforms.Normalize((0.1307,), (0.3081,))])\n",
    "\n",
    "# MNIST\n",
    "train_dataset = torchvision.datasets.MNIST(root=DATA_PATH, train=True, download=True, transform=trans)\n",
    "test_dataset = torchvision.datasets.MNIST(root=DATA_PATH, train=False, transform=trans)\n",
    "train_loader = DataLoader(dataset = train_dataset, batch_size=BATCH_SIZE, shuffle = True)\n",
    "test_loader = DataLoader(dataset = test_dataset, batch_size=BATCH_SIZE, shuffle = False)\n",
    "\n",
    "# CIFAR-10 Dataset\n",
    "# a transform to apply to data (convert to Tensor, then normalize w/ CIFAR-10's mean & sd on RGB channels)\n",
    "trans = transforms.Compose([#transforms.ToPILImage(), \n",
    "                            transforms.ToTensor(), \n",
    "                            transforms.Normalize(mean=(0.485, 0.456, 0.406), std = (0.229, 0.224, 0.225))])\n",
    "\n",
    "# CIFAR-10 \n",
    "train_dataset = torchvision.datasets.CIFAR10(root=DATA_PATH, train=True, download=False, transform=trans)\n",
    "test_dataset = torchvision.datasets.CIFAR10(root=DATA_PATH, train=False, transform=trans)\n",
    "train_loader = DataLoader(dataset = train_dataset, batch_size=BATCH_SIZE, shuffle = True)\n",
    "test_loader = DataLoader(dataset = test_dataset, batch_size=BATCH_SIZE, shuffle = False)"
   ]
  },
  {
   "cell_type": "code",
   "execution_count": null,
   "metadata": {
    "init_cell": true
   },
   "outputs": [],
   "source": [
    "class MNISTConvNet(nn.Module):\n",
    "    def __init__(self):\n",
    "        super(MNISTConvNet, self).__init__()\n",
    "        \n",
    "        self.layer1 = nn.Sequential(\n",
    "            nn.Conv2d(1, 32, kernel_size=5, stride=1, padding=2),\n",
    "            nn.ReLU(),\n",
    "            nn.MaxPool2d(kernel_size=2, stride=2)\n",
    "            )\n",
    "        self.drop_out = nn.Dropout()\n",
    "        self.fc1 = nn.Linear(14 * 14 * 32, 1000)\n",
    "        self.fc2 = nn.Linear(1000, 10)\n",
    "    \n",
    "    def forward(self, x):\n",
    "        out = self.layer1(x)\n",
    "        out = out.reshape(out.size(0), -1)\n",
    "        out = self.drop_out(out)\n",
    "        out = self.fc1(out)\n",
    "        out = self.fc2(out)\n",
    "        return out "
   ]
  },
  {
   "cell_type": "code",
   "execution_count": null,
   "metadata": {
    "init_cell": true
   },
   "outputs": [],
   "source": [
    "class CIFARConvNet(nn.Module):\n",
    "    def __init__(self):\n",
    "        super(CIFARConvNet, self).__init__()\n",
    "        \n",
    "        self.layer1 = nn.Sequential(\n",
    "            nn.Conv2d(3, 32, kernel_size=5, stride=1, padding=2),\n",
    "            nn.ReLU(),\n",
    "            nn.MaxPool2d(kernel_size=2, stride=2)\n",
    "            )\n",
    "        self.drop_out = nn.Dropout()\n",
    "        self.fc1 = nn.Linear(16 * 16 * 32, 2000)\n",
    "        self.fc2 = nn.Linear(2000, 10)\n",
    "    \n",
    "    def forward(self, x):\n",
    "        out = self.layer1(x)\n",
    "        out = out.reshape(out.size(0), -1)\n",
    "        out = self.drop_out(out)\n",
    "        out = self.fc1(out)\n",
    "        out = self.fc2(out)\n",
    "        return out "
   ]
  },
  {
   "cell_type": "code",
   "execution_count": null,
   "metadata": {
    "init_cell": true
   },
   "outputs": [],
   "source": [
    "# For MNIST Model\n",
    "modelMNIST = MNISTConvNet()\n",
    "modelMNIST.load_state_dict(torch.load(MODEL_PATH + 'conv_net_1(conv)_2_model.ckpt'))\n",
    "\n",
    "# For CIFAR-10 Model\n",
    "modelCIFAR = CIFARConvNet()\n",
    "modelCIFAR.load_state_dict(torch.load(MODEL_PATH + 'cifar_conv_net_1(conv)_2_model.ckpt'))"
   ]
  },
  {
   "cell_type": "code",
   "execution_count": null,
   "metadata": {
    "init_cell": true
   },
   "outputs": [],
   "source": [
    "# To evaluate a model's baseline accuracy\n",
    "def evaluateAccuracy(model, test_loader): \n",
    "    model.eval()\n",
    "    with torch.no_grad():\n",
    "        correct = 0\n",
    "        total = 0\n",
    "        for images, labels in test_loader:\n",
    "            outputs = model(images)\n",
    "            _, predicted = torch.max(outputs.data, 1)\n",
    "            correct += (predicted==labels).sum().item()\n",
    "            total += labels.size(0)\n",
    "\n",
    "        print('Test Accuracy of the model on the 10000 test images: {} %'.format((correct / total) * 100))"
   ]
  },
  {
   "cell_type": "markdown",
   "metadata": {},
   "source": [
    "The following few functions are mostly functions for testing variance"
   ]
  },
  {
   "cell_type": "code",
   "execution_count": null,
   "metadata": {
    "init_cell": true
   },
   "outputs": [],
   "source": [
    "def varModel(model, loader):\n",
    "    ''' Returns the variance of model over samples as a PyTorch tensor.\n",
    "    \n",
    "        Inputs:\n",
    "        model: a PyTorch Neural Network.\n",
    "        samples: a PyTorch Data Loader of the samples to test (usually test_loader)'''\n",
    "    \n",
    "    model.eval()\n",
    "    results = []\n",
    "    \n",
    "    with torch.no_grad():\n",
    "        for images, labels in loader:\n",
    "            outputs = model(images)\n",
    "            _, predicted = torch.max(outputs.data, 1)\n",
    "            results.append(predicted)\n",
    "\n",
    "    results = torch.cat(results).float() \n",
    "    std = results.std()/(results.max()-results.min())\n",
    "    return std**2"
   ]
  },
  {
   "cell_type": "code",
   "execution_count": null,
   "metadata": {
    "init_cell": true
   },
   "outputs": [],
   "source": [
    "def addNoise(inp, sigma, clamp = True): \n",
    "    ''' Adds Gaussian noise N(0, sigma) to a ndarray or tensor inp.\n",
    "        Clamps values to [0, 255]\n",
    "        Returns a FloatTensor with noise added.'''\n",
    "    if type(inp) != torch.Tensor:\n",
    "        try:\n",
    "            inp =  torch.Tensor(inp)\n",
    "        except:\n",
    "            print(\"Error: Input of type {} couldn't be converted to PyTorch tensor!\".format(type(inp)))\n",
    "            raise\n",
    "    inp = inp.type(torch.FloatTensor)\n",
    "    shape = inp.shape \n",
    "    noise = torch.tensor(np.random.normal(0, sigma, size = shape)).type(torch.FloatTensor)\n",
    "    return torch.clamp(noise+inp, 0, 255) if clamp else noise+inp #to clamp or not to clamp? "
   ]
  },
  {
   "cell_type": "code",
   "execution_count": null,
   "metadata": {
    "init_cell": true
   },
   "outputs": [],
   "source": [
    "# Main function\n",
    "def varianceTest(model, sigmas, dataset, epochs = 5):\n",
    "    ''' Finds the variance of model over X+e, where e = N(0, sigma) is Gaussian noise. \n",
    "        Each hyperparameter is run over epochs iterations. \n",
    "        \n",
    "        Dataset is either 'mnist' or 'cifar10'\n",
    "    \n",
    "        Returns the average and s.d. of var(model(X+e)) where e = N(0, sigma) for each \n",
    "        sigma in sigmas over epochs number of iterations.'''\n",
    "    if dataset not in ['mnist', 'cifar10']:\n",
    "        print('Dataset {} not found!'.format(dataset))\n",
    "        return \n",
    "    if dataset == 'mnist':\n",
    "        trans = transforms.Compose([transforms.ToTensor(), \n",
    "                                transforms.Normalize((0.1307,), (0.3081,))])\n",
    "    elif dataset == 'cifar10':\n",
    "        trans = transforms.Compose([transforms.ToTensor(), \n",
    "                            transforms.Normalize(mean=(0.485, 0.456, 0.406), std = (0.229, 0.224, 0.225))])\n",
    "    outputVariance = []\n",
    "    outputVarianceSTD = []\n",
    "    for sigma in sigmas:\n",
    "        print(\"Computing variance of f(Y) where noise has sigma =\", sigma)\n",
    "        tot = []\n",
    "        for epoch in range(epochs): \n",
    "            print(\"Epoch {} of {}\".format(epoch+1, epochs))\n",
    "            if dataset == 'mnist':\n",
    "                noisy_test_dataset = torchvision.datasets.MNIST(root=DATA_PATH, train=False, \\\n",
    "                                                            transform=trans,download=False)\n",
    "            elif dataset == 'cifar10':\n",
    "                noisy_test_dataset = torchvision.datasets.CIFAR10(root=DATA_PATH, train=False, \\\n",
    "                                                            transform=trans,download=False)\n",
    "            for i in range(len(noisy_test_dataset.test_data)):\n",
    "                noisy_test_dataset.test_data[i] = addNoise(noisy_test_dataset.test_data[i], sigma)\n",
    "            test_loader = DataLoader(dataset = noisy_test_dataset, batch_size=BATCH_SIZE, shuffle = False)\n",
    "            tot.append(varModel(model, test_loader).item())\n",
    "        tot = np.array(tot)\n",
    "        outputVariance.append(tot.mean())\n",
    "        outputVarianceSTD.append(tot.std())\n",
    "        print(\"Variance with noise std {} is {}. STD is {}\".format(sigma, outputVariance[-1], outputVarianceSTD[-1]))\n",
    "    return outputVariance, outputVarianceSTD"
   ]
  },
  {
   "cell_type": "code",
   "execution_count": null,
   "metadata": {
    "init_cell": true
   },
   "outputs": [],
   "source": [
    "def display(sigmas, results, resultsSTD):\n",
    "    results = np.array(results)\n",
    "    resultsSTD = np.array(resultsSTD)\n",
    "    plt.figure(figsize=(10,6))\n",
    "    plt.fill_between(sigmas, list(results-resultsSTD), list(results+resultsSTD), color='b',alpha=.2)\n",
    "    plt.plot(sigmas, results, lw=2)\n",
    "    plt.xlabel('Sigma', fontsize=12)\n",
    "    plt.ylabel('Variance', fontsize=12)\n",
    "    plt.title('Sigma vs. Variance')\n",
    "    plt.show()"
   ]
  },
  {
   "cell_type": "markdown",
   "metadata": {},
   "source": [
    "# Objective 1"
   ]
  },
  {
   "cell_type": "markdown",
   "metadata": {},
   "source": [
    "Setting up the MNIST Dataset and creating a CNN in PyTorch"
   ]
  },
  {
   "cell_type": "markdown",
   "metadata": {},
   "source": [
    "## Imports, Hyperparameters, and Loading Data"
   ]
  },
  {
   "cell_type": "code",
   "execution_count": 1,
   "metadata": {
    "ExecuteTime": {
     "end_time": "2018-10-29T08:42:45.166756Z",
     "start_time": "2018-10-29T08:42:44.013020Z"
    },
    "init_cell": true
   },
   "outputs": [],
   "source": [
    "import torch\n",
    "import torchvision\n",
    "import torchvision.transforms as transforms\n",
    "import torch.nn as nn\n",
    "import torch.nn.functional as F\n",
    "from torch.utils.data import DataLoader\n",
    "\n",
    "import numpy as np\n",
    "\n",
    "%matplotlib inline\n",
    "import matplotlib.pyplot as plt\n",
    "\n",
    "DATA_PATH = \"./data\"\n",
    "MODEL_PATH = \"./models\""
   ]
  },
  {
   "cell_type": "code",
   "execution_count": 2,
   "metadata": {
    "ExecuteTime": {
     "end_time": "2018-10-29T08:42:45.172195Z",
     "start_time": "2018-10-29T08:42:45.168659Z"
    },
    "init_cell": true
   },
   "outputs": [],
   "source": [
    "# Hyperparameters\n",
    "EPOCHS = 6\n",
    "CLASSES = 10\n",
    "BATCH_SIZE = 100\n",
    "LEARNING_RATE = 0.001"
   ]
  },
  {
   "cell_type": "code",
   "execution_count": 3,
   "metadata": {
    "ExecuteTime": {
     "end_time": "2018-10-29T08:42:45.268277Z",
     "start_time": "2018-10-29T08:42:45.174272Z"
    },
    "init_cell": true
   },
   "outputs": [],
   "source": [
    "# a transform to apply to data (convert to Tensor, then normalize w/ MNIST's mean & sd)\n",
    "trans = transforms.Compose([transforms.ToTensor(), transforms.Normalize((0.1307,), (0.3081,))])\n",
    "\n",
    "# MNIST\n",
    "train_dataset = torchvision.datasets.MNIST(root=DATA_PATH, train=True, download=True, transform=trans)\n",
    "test_dataset = torchvision.datasets.MNIST(root=DATA_PATH, train=False, transform=trans)"
   ]
  },
  {
   "cell_type": "code",
   "execution_count": 4,
   "metadata": {
    "ExecuteTime": {
     "end_time": "2018-10-29T08:42:45.274003Z",
     "start_time": "2018-10-29T08:42:45.270179Z"
    },
    "init_cell": true
   },
   "outputs": [],
   "source": [
    "train_loader = DataLoader(dataset = train_dataset, batch_size=BATCH_SIZE, shuffle = True)\n",
    "test_loader = DataLoader(dataset = test_dataset, batch_size=BATCH_SIZE, shuffle = False)"
   ]
  },
  {
   "cell_type": "code",
   "execution_count": 10,
   "metadata": {
    "ExecuteTime": {
     "end_time": "2018-10-17T22:25:57.211867Z",
     "start_time": "2018-10-17T22:25:56.991760Z"
    }
   },
   "outputs": [
    {
     "data": {
      "image/png": "[encoded data removed]",
      "text/plain": [
       "<Figure size 432x288 with 1 Axes>"
      ]
     },
     "metadata": {},
     "output_type": "display_data"
    }
   ],
   "source": [
    "plt.imshow(train_dataset.train_data[0])\n",
    "plt.show()"
   ]
  },
  {
   "cell_type": "markdown",
   "metadata": {},
   "source": [
    "To load the model:"
   ]
  },
  {
   "cell_type": "code",
   "execution_count": 5,
   "metadata": {
    "ExecuteTime": {
     "end_time": "2018-10-29T08:42:45.404312Z",
     "start_time": "2018-10-29T08:42:45.276012Z"
    },
    "init_cell": true
   },
   "outputs": [
    {
     "ename": "NameError",
     "evalue": "name 'ConvNet' is not defined",
     "output_type": "error",
     "traceback": [
      "\u001b[0;31m---------------------------------------------------------------------------\u001b[0m",
      "\u001b[0;31mNameError\u001b[0m                                 Traceback (most recent call last)",
      "\u001b[0;32m<ipython-input-5-92859456e9d0>\u001b[0m in \u001b[0;36m<module>\u001b[0;34m()\u001b[0m\n\u001b[0;32m----> 1\u001b[0;31m \u001b[0mmodel\u001b[0m \u001b[0;34m=\u001b[0m \u001b[0mConvNet\u001b[0m\u001b[0;34m(\u001b[0m\u001b[0;34m)\u001b[0m\u001b[0;34m\u001b[0m\u001b[0m\n\u001b[0m\u001b[1;32m      2\u001b[0m \u001b[0mmodel\u001b[0m\u001b[0;34m.\u001b[0m\u001b[0mload_state_dict\u001b[0m\u001b[0;34m(\u001b[0m\u001b[0mtorch\u001b[0m\u001b[0;34m.\u001b[0m\u001b[0mload\u001b[0m\u001b[0;34m(\u001b[0m\u001b[0mMODEL_PATH\u001b[0m \u001b[0;34m+\u001b[0m \u001b[0;34m'conv_net_1(conv)_2_model.ckpt'\u001b[0m\u001b[0;34m)\u001b[0m\u001b[0;34m)\u001b[0m\u001b[0;34m\u001b[0m\u001b[0m\n",
      "\u001b[0;31mNameError\u001b[0m: name 'ConvNet' is not defined"
     ]
    }
   ],
   "source": [
    "model = ConvNet()\n",
    "model.load_state_dict(torch.load(MODEL_PATH + 'conv_net_1(conv)_2_model.ckpt'))"
   ]
  },
  {
   "cell_type": "markdown",
   "metadata": {},
   "source": [
    "## Training a Good Convolutional Neural Network "
   ]
  },
  {
   "cell_type": "markdown",
   "metadata": {},
   "source": [
    "The ConvNet I chose has the following layers:\n",
    "   * Layer 1 (Convolutional): 32 5x5 convolutional filters --> ReLU nonlinearity --> 2x2 Maxpool\n",
    "   * Dropout \n",
    "   * Layer 2 (Linear): 14x14x32 --> 1000 Fully Connected layer\n",
    "   * Layer 3 (Output): 1000 --> 10 Fully Connected Layer \n",
    "   * SoftMax included in nn.CrossEntropyLoss()"
   ]
  },
  {
   "cell_type": "code",
   "execution_count": null,
   "metadata": {
    "ExecuteTime": {
     "end_time": "2018-10-29T08:42:45.405162Z",
     "start_time": "2018-10-29T08:42:44.045Z"
    },
    "init_cell": true
   },
   "outputs": [],
   "source": [
    "class ConvNet(nn.Module):\n",
    "    def __init__(self):\n",
    "        super(ConvNet, self).__init__()\n",
    "        \n",
    "        self.layer1 = nn.Sequential(\n",
    "            nn.Conv2d(1, 32, kernel_size=5, stride=1, padding=2),\n",
    "            nn.ReLU(),\n",
    "            nn.MaxPool2d(kernel_size=2, stride=2)\n",
    "            )\n",
    "#       self.layer2 = nn.Sequential(\n",
    "#           nn.Conv2d(32, 64, kernel_size=5, stride=1, padding=2),\n",
    "#           nn.ReLU(),\n",
    "#           nn.MaxPool2d(kernel_size=2, stride=2)\n",
    "#           )\n",
    "        self.drop_out = nn.Dropout()\n",
    "        self.fc1 = nn.Linear(14 * 14 * 32, 1000)\n",
    "        self.fc2 = nn.Linear(1000, 10)\n",
    "    \n",
    "    def forward(self, x):\n",
    "        out = self.layer1(x)\n",
    "#        out = self.layer2(out)\n",
    "        out = out.reshape(out.size(0), -1)\n",
    "        out = self.drop_out(out)\n",
    "        out = self.fc1(out)\n",
    "        out = self.fc2(out)\n",
    "        return out "
   ]
  },
  {
   "cell_type": "code",
   "execution_count": 83,
   "metadata": {
    "ExecuteTime": {
     "end_time": "2018-09-27T07:02:43.797880Z",
     "start_time": "2018-09-27T07:02:43.735878Z"
    }
   },
   "outputs": [],
   "source": [
    "model = ConvNet()\n",
    "\n",
    "# Loss and Optimizer\n",
    "criterion = nn.CrossEntropyLoss()\n",
    "optimizer = torch.optim.Adam(model.parameters(), lr=LEARNING_RATE)"
   ]
  },
  {
   "cell_type": "code",
   "execution_count": 68,
   "metadata": {
    "ExecuteTime": {
     "end_time": "2018-09-26T21:19:38.550708Z",
     "start_time": "2018-09-26T21:11:41.063270Z"
    }
   },
   "outputs": [
    {
     "name": "stdout",
     "output_type": "stream",
     "text": [
      "Epoch [1/6], Step [100/600], Loss: 0.2542, Accuracy: 89.00%\n",
      "Epoch [1/6], Step [200/600], Loss: 0.1430, Accuracy: 93.00%\n",
      "Epoch [1/6], Step [300/600], Loss: 0.2477, Accuracy: 92.00%\n",
      "Epoch [1/6], Step [400/600], Loss: 0.2554, Accuracy: 93.00%\n",
      "Epoch [1/6], Step [500/600], Loss: 0.1063, Accuracy: 97.00%\n",
      "Epoch [1/6], Step [600/600], Loss: 0.1122, Accuracy: 96.00%\n",
      "Epoch [2/6], Step [100/600], Loss: 0.1875, Accuracy: 94.00%\n",
      "Epoch [2/6], Step [200/600], Loss: 0.0763, Accuracy: 98.00%\n",
      "Epoch [2/6], Step [300/600], Loss: 0.1185, Accuracy: 96.00%\n",
      "Epoch [2/6], Step [400/600], Loss: 0.1038, Accuracy: 96.00%\n",
      "Epoch [2/6], Step [500/600], Loss: 0.0706, Accuracy: 97.00%\n",
      "Epoch [2/6], Step [600/600], Loss: 0.1575, Accuracy: 96.00%\n",
      "Epoch [3/6], Step [100/600], Loss: 0.1800, Accuracy: 92.00%\n",
      "Epoch [3/6], Step [200/600], Loss: 0.0743, Accuracy: 98.00%\n",
      "Epoch [3/6], Step [300/600], Loss: 0.1216, Accuracy: 96.00%\n",
      "Epoch [3/6], Step [400/600], Loss: 0.0305, Accuracy: 99.00%\n",
      "Epoch [3/6], Step [500/600], Loss: 0.0220, Accuracy: 99.00%\n",
      "Epoch [3/6], Step [600/600], Loss: 0.1812, Accuracy: 94.00%\n",
      "Epoch [4/6], Step [100/600], Loss: 0.0718, Accuracy: 97.00%\n",
      "Epoch [4/6], Step [200/600], Loss: 0.0743, Accuracy: 97.00%\n",
      "Epoch [4/6], Step [300/600], Loss: 0.1158, Accuracy: 97.00%\n",
      "Epoch [4/6], Step [400/600], Loss: 0.0916, Accuracy: 97.00%\n",
      "Epoch [4/6], Step [500/600], Loss: 0.2017, Accuracy: 95.00%\n",
      "Epoch [4/6], Step [600/600], Loss: 0.0112, Accuracy: 100.00%\n",
      "Epoch [5/6], Step [100/600], Loss: 0.1626, Accuracy: 94.00%\n",
      "Epoch [5/6], Step [200/600], Loss: 0.0302, Accuracy: 100.00%\n",
      "Epoch [5/6], Step [300/600], Loss: 0.0693, Accuracy: 98.00%\n",
      "Epoch [5/6], Step [400/600], Loss: 0.0497, Accuracy: 98.00%\n",
      "Epoch [5/6], Step [500/600], Loss: 0.0327, Accuracy: 98.00%\n",
      "Epoch [5/6], Step [600/600], Loss: 0.0211, Accuracy: 99.00%\n",
      "Epoch [6/6], Step [100/600], Loss: 0.0126, Accuracy: 100.00%\n",
      "Epoch [6/6], Step [200/600], Loss: 0.0859, Accuracy: 98.00%\n",
      "Epoch [6/6], Step [300/600], Loss: 0.0855, Accuracy: 97.00%\n",
      "Epoch [6/6], Step [400/600], Loss: 0.0266, Accuracy: 100.00%\n",
      "Epoch [6/6], Step [500/600], Loss: 0.0953, Accuracy: 98.00%\n",
      "Epoch [6/6], Step [600/600], Loss: 0.0564, Accuracy: 97.00%\n"
     ]
    }
   ],
   "source": [
    "# Training the model\n",
    "total_step = len(train_loader)\n",
    "loss_list = []\n",
    "acc_list = []\n",
    "\n",
    "for epoch in range(EPOCHS):\n",
    "    for i, (images, labels) in enumerate(train_loader):\n",
    "        # Run forward pass \n",
    "        outputs = model(images)\n",
    "        loss = criterion(outputs, labels)\n",
    "        loss_list.append(loss.item())\n",
    "        \n",
    "        # Now backpropogate and apply Adam\n",
    "        optimizer.zero_grad()\n",
    "        loss.backward()\n",
    "        optimizer.step()\n",
    "        \n",
    "        # Track accuracy\n",
    "        total = labels.size(0)\n",
    "        _, predicted = torch.max(outputs.data, 1)\n",
    "        correct = (predicted==labels).sum().item()\n",
    "        acc_list.append(correct / total)\n",
    "        \n",
    "        if (i+1) % 100 == 0:\n",
    "             print('Epoch [{}/{}], Step [{}/{}], Loss: {:.4f}, Accuracy: {:.2f}%'\n",
    "                  .format(epoch + 1, EPOCHS, i + 1, total_step, loss.item(),\n",
    "                          (correct / total) * 100))"
   ]
  },
  {
   "cell_type": "markdown",
   "metadata": {},
   "source": [
    "## Testing the accuracy"
   ]
  },
  {
   "cell_type": "code",
   "execution_count": 151,
   "metadata": {
    "ExecuteTime": {
     "end_time": "2018-09-27T02:34:57.025645Z",
     "start_time": "2018-09-27T02:34:53.295236Z"
    }
   },
   "outputs": [
    {
     "name": "stdout",
     "output_type": "stream",
     "text": [
      "Test Accuracy of the model on the 10000 test images: 98.35000000000001 %\n"
     ]
    }
   ],
   "source": [
    "model.eval()\n",
    "with torch.no_grad():\n",
    "    correct = 0\n",
    "    total = 0\n",
    "    for images, labels in test_loader:\n",
    "        outputs = model(images)\n",
    "        _, predicted = torch.max(outputs.data, 1)\n",
    "        correct += (predicted==labels).sum().item()\n",
    "        total += labels.size(0)\n",
    "    \n",
    "    print('Test Accuracy of the model on the 10000 test images: {} %'.format((correct / total) * 100))\n",
    "    \n",
    "# Save the model and plot\n",
    "#torch.save(model.state_dict(), MODEL_PATH + 'conv_net_1(conv)_2_model.ckpt')"
   ]
  },
  {
   "cell_type": "markdown",
   "metadata": {},
   "source": [
    "Now we find the variance of the output of our model"
   ]
  },
  {
   "cell_type": "code",
   "execution_count": 35,
   "metadata": {
    "ExecuteTime": {
     "end_time": "2018-10-01T07:15:55.164102Z",
     "start_time": "2018-10-01T07:15:51.640181Z"
    }
   },
   "outputs": [
    {
     "name": "stdout",
     "output_type": "stream",
     "text": [
      "tensor(0.1039)\n"
     ]
    }
   ],
   "source": [
    "model.eval()\n",
    "\n",
    "results = []\n",
    "\n",
    "with torch.no_grad():\n",
    "    for images, labels in test_loader:\n",
    "        outputs = model(images)\n",
    "        _, predicted = torch.max(outputs.data, 1)\n",
    "        results.append(predicted)\n",
    "    \n",
    "results = torch.cat(results) \n",
    "variance = (results.float().std()/9)**2\n",
    "print(variance)"
   ]
  },
  {
   "cell_type": "code",
   "execution_count": 36,
   "metadata": {
    "ExecuteTime": {
     "end_time": "2018-10-01T07:15:56.767756Z",
     "start_time": "2018-10-01T07:15:56.761624Z"
    }
   },
   "outputs": [
    {
     "data": {
      "text/plain": [
       "tensor(0.1035)"
      ]
     },
     "execution_count": 36,
     "metadata": {},
     "output_type": "execute_result"
    }
   ],
   "source": [
    "# Compare to the pre-sample variance\n",
    "(test_dataset.test_labels.float().std()/9)**2"
   ]
  },
  {
   "cell_type": "markdown",
   "metadata": {},
   "source": [
    "## Plot the accuracy"
   ]
  },
  {
   "cell_type": "code",
   "execution_count": 75,
   "metadata": {
    "ExecuteTime": {
     "end_time": "2018-09-26T21:32:25.057808Z",
     "start_time": "2018-09-26T21:32:23.085037Z"
    }
   },
   "outputs": [
    {
     "data": {
      "text/html": [
       "\n",
       "    <div class=\"bk-root\">\n",
       "        <a href=\"https://bokeh.pydata.org\" target=\"_blank\" class=\"bk-logo bk-logo-small bk-logo-notebook\"></a>\n",
       "        <span id=\"bc0681eb-dc5d-45d1-b843-a6f3dda03833\">Loading BokehJS ...</span>\n",
       "    </div>"
      ]
     },
     "metadata": {},
     "output_type": "display_data"
    },
    {
     "data": {
      "application/javascript": [
       "\n",
       "(function(root) {\n",
       "  function now() {\n",
       "    return new Date();\n",
       "  }\n",
       "\n",
       "  var force = true;\n",
       "\n",
       "  if (typeof (root._bokeh_onload_callbacks) === \"undefined\" || force === true) {\n",
       "    root._bokeh_onload_callbacks = [];\n",
       "    root._bokeh_is_loading = undefined;\n",
       "  }\n",
       "\n",
       "  var JS_MIME_TYPE = 'application/javascript';\n",
       "  var HTML_MIME_TYPE = 'text/html';\n",
       "  var EXEC_MIME_TYPE = 'application/vnd.bokehjs_exec.v0+json';\n",
       "  var CLASS_NAME = 'output_bokeh rendered_html';\n",
       "\n",
       "  /**\n",
       "   * Render data to the DOM node\n",
       "   */\n",
       "  function render(props, node) {\n",
       "    var script = document.createElement(\"script\");\n",
       "    node.appendChild(script);\n",
       "  }\n",
       "\n",
       "  /**\n",
       "   * Handle when an output is cleared or removed\n",
       "   */\n",
       "  function handleClearOutput(event, handle) {\n",
       "    var cell = handle.cell;\n",
       "\n",
       "    var id = cell.output_area._bokeh_element_id;\n",
       "    var server_id = cell.output_area._bokeh_server_id;\n",
       "    // Clean up Bokeh references\n",
       "    if (id !== undefined) {\n",
       "      Bokeh.index[id].model.document.clear();\n",
       "      delete Bokeh.index[id];\n",
       "    }\n",
       "\n",
       "    if (server_id !== undefined) {\n",
       "      // Clean up Bokeh references\n",
       "      var cmd = \"from bokeh.io.state import curstate; print(curstate().uuid_to_server['\" + server_id + \"'].get_sessions()[0].document.roots[0]._id)\";\n",
       "      cell.notebook.kernel.execute(cmd, {\n",
       "        iopub: {\n",
       "          output: function(msg) {\n",
       "            var element_id = msg.content.text.trim();\n",
       "            Bokeh.index[element_id].model.document.clear();\n",
       "            delete Bokeh.index[element_id];\n",
       "          }\n",
       "        }\n",
       "      });\n",
       "      // Destroy server and session\n",
       "      var cmd = \"import bokeh.io.notebook as ion; ion.destroy_server('\" + server_id + \"')\";\n",
       "      cell.notebook.kernel.execute(cmd);\n",
       "    }\n",
       "  }\n",
       "\n",
       "  /**\n",
       "   * Handle when a new output is added\n",
       "   */\n",
       "  function handleAddOutput(event, handle) {\n",
       "    var output_area = handle.output_area;\n",
       "    var output = handle.output;\n",
       "\n",
       "    // limit handleAddOutput to display_data with EXEC_MIME_TYPE content only\n",
       "    if ((output.output_type != \"display_data\") || (!output.data.hasOwnProperty(EXEC_MIME_TYPE))) {\n",
       "      return\n",
       "    }\n",
       "\n",
       "    var toinsert = output_area.element.find(\".\" + CLASS_NAME.split(' ')[0]);\n",
       "\n",
       "    if (output.metadata[EXEC_MIME_TYPE][\"id\"] !== undefined) {\n",
       "      toinsert[toinsert.length - 1].firstChild.textContent = output.data[JS_MIME_TYPE];\n",
       "      // store reference to embed id on output_area\n",
       "      output_area._bokeh_element_id = output.metadata[EXEC_MIME_TYPE][\"id\"];\n",
       "    }\n",
       "    if (output.metadata[EXEC_MIME_TYPE][\"server_id\"] !== undefined) {\n",
       "      var bk_div = document.createElement(\"div\");\n",
       "      bk_div.innerHTML = output.data[HTML_MIME_TYPE];\n",
       "      var script_attrs = bk_div.children[0].attributes;\n",
       "      for (var i = 0; i < script_attrs.length; i++) {\n",
       "        toinsert[toinsert.length - 1].firstChild.setAttribute(script_attrs[i].name, script_attrs[i].value);\n",
       "      }\n",
       "      // store reference to server id on output_area\n",
       "      output_area._bokeh_server_id = output.metadata[EXEC_MIME_TYPE][\"server_id\"];\n",
       "    }\n",
       "  }\n",
       "\n",
       "  function register_renderer(events, OutputArea) {\n",
       "\n",
       "    function append_mime(data, metadata, element) {\n",
       "      // create a DOM node to render to\n",
       "      var toinsert = this.create_output_subarea(\n",
       "        metadata,\n",
       "        CLASS_NAME,\n",
       "        EXEC_MIME_TYPE\n",
       "      );\n",
       "      this.keyboard_manager.register_events(toinsert);\n",
       "      // Render to node\n",
       "      var props = {data: data, metadata: metadata[EXEC_MIME_TYPE]};\n",
       "      render(props, toinsert[toinsert.length - 1]);\n",
       "      element.append(toinsert);\n",
       "      return toinsert\n",
       "    }\n",
       "\n",
       "    /* Handle when an output is cleared or removed */\n",
       "    events.on('clear_output.CodeCell', handleClearOutput);\n",
       "    events.on('delete.Cell', handleClearOutput);\n",
       "\n",
       "    /* Handle when a new output is added */\n",
       "    events.on('output_added.OutputArea', handleAddOutput);\n",
       "\n",
       "    /**\n",
       "     * Register the mime type and append_mime function with output_area\n",
       "     */\n",
       "    OutputArea.prototype.register_mime_type(EXEC_MIME_TYPE, append_mime, {\n",
       "      /* Is output safe? */\n",
       "      safe: true,\n",
       "      /* Index of renderer in `output_area.display_order` */\n",
       "      index: 0\n",
       "    });\n",
       "  }\n",
       "\n",
       "  // register the mime type if in Jupyter Notebook environment and previously unregistered\n",
       "  if (root.Jupyter !== undefined) {\n",
       "    var events = require('base/js/events');\n",
       "    var OutputArea = require('notebook/js/outputarea').OutputArea;\n",
       "\n",
       "    if (OutputArea.prototype.mime_types().indexOf(EXEC_MIME_TYPE) == -1) {\n",
       "      register_renderer(events, OutputArea);\n",
       "    }\n",
       "  }\n",
       "\n",
       "  \n",
       "  if (typeof (root._bokeh_timeout) === \"undefined\" || force === true) {\n",
       "    root._bokeh_timeout = Date.now() + 5000;\n",
       "    root._bokeh_failed_load = false;\n",
       "  }\n",
       "\n",
       "  var NB_LOAD_WARNING = {'data': {'text/html':\n",
       "     \"<div style='background-color: #fdd'>\\n\"+\n",
       "     \"<p>\\n\"+\n",
       "     \"BokehJS does not appear to have successfully loaded. If loading BokehJS from CDN, this \\n\"+\n",
       "     \"may be due to a slow or bad network connection. Possible fixes:\\n\"+\n",
       "     \"</p>\\n\"+\n",
       "     \"<ul>\\n\"+\n",
       "     \"<li>re-rerun `output_notebook()` to attempt to load from CDN again, or</li>\\n\"+\n",
       "     \"<li>use INLINE resources instead, as so:</li>\\n\"+\n",
       "     \"</ul>\\n\"+\n",
       "     \"<code>\\n\"+\n",
       "     \"from bokeh.resources import INLINE\\n\"+\n",
       "     \"output_notebook(resources=INLINE)\\n\"+\n",
       "     \"</code>\\n\"+\n",
       "     \"</div>\"}};\n",
       "\n",
       "  function display_loaded() {\n",
       "    var el = document.getElementById(\"bc0681eb-dc5d-45d1-b843-a6f3dda03833\");\n",
       "    if (el != null) {\n",
       "      el.textContent = \"BokehJS is loading...\";\n",
       "    }\n",
       "    if (root.Bokeh !== undefined) {\n",
       "      if (el != null) {\n",
       "        el.textContent = \"BokehJS \" + root.Bokeh.version + \" successfully loaded.\";\n",
       "      }\n",
       "    } else if (Date.now() < root._bokeh_timeout) {\n",
       "      setTimeout(display_loaded, 100)\n",
       "    }\n",
       "  }\n",
       "\n",
       "\n",
       "  function run_callbacks() {\n",
       "    try {\n",
       "      root._bokeh_onload_callbacks.forEach(function(callback) { callback() });\n",
       "    }\n",
       "    finally {\n",
       "      delete root._bokeh_onload_callbacks\n",
       "    }\n",
       "    console.info(\"Bokeh: all callbacks have finished\");\n",
       "  }\n",
       "\n",
       "  function load_libs(js_urls, callback) {\n",
       "    root._bokeh_onload_callbacks.push(callback);\n",
       "    if (root._bokeh_is_loading > 0) {\n",
       "      console.log(\"Bokeh: BokehJS is being loaded, scheduling callback at\", now());\n",
       "      return null;\n",
       "    }\n",
       "    if (js_urls == null || js_urls.length === 0) {\n",
       "      run_callbacks();\n",
       "      return null;\n",
       "    }\n",
       "    console.log(\"Bokeh: BokehJS not loaded, scheduling load and callback at\", now());\n",
       "    root._bokeh_is_loading = js_urls.length;\n",
       "    for (var i = 0; i < js_urls.length; i++) {\n",
       "      var url = js_urls[i];\n",
       "      var s = document.createElement('script');\n",
       "      s.src = url;\n",
       "      s.async = false;\n",
       "      s.onreadystatechange = s.onload = function() {\n",
       "        root._bokeh_is_loading--;\n",
       "        if (root._bokeh_is_loading === 0) {\n",
       "          console.log(\"Bokeh: all BokehJS libraries loaded\");\n",
       "          run_callbacks()\n",
       "        }\n",
       "      };\n",
       "      s.onerror = function() {\n",
       "        console.warn(\"failed to load library \" + url);\n",
       "      };\n",
       "      console.log(\"Bokeh: injecting script tag for BokehJS library: \", url);\n",
       "      document.getElementsByTagName(\"head\")[0].appendChild(s);\n",
       "    }\n",
       "  };var element = document.getElementById(\"bc0681eb-dc5d-45d1-b843-a6f3dda03833\");\n",
       "  if (element == null) {\n",
       "    console.log(\"Bokeh: ERROR: autoload.js configured with elementid 'bc0681eb-dc5d-45d1-b843-a6f3dda03833' but no matching script tag was found. \")\n",
       "    return false;\n",
       "  }\n",
       "\n",
       "  var js_urls = [\"https://cdn.pydata.org/bokeh/release/bokeh-0.12.16.min.js\", \"https://cdn.pydata.org/bokeh/release/bokeh-widgets-0.12.16.min.js\", \"https://cdn.pydata.org/bokeh/release/bokeh-tables-0.12.16.min.js\", \"https://cdn.pydata.org/bokeh/release/bokeh-gl-0.12.16.min.js\"];\n",
       "\n",
       "  var inline_js = [\n",
       "    function(Bokeh) {\n",
       "      Bokeh.set_log_level(\"info\");\n",
       "    },\n",
       "    \n",
       "    function(Bokeh) {\n",
       "      \n",
       "    },\n",
       "    function(Bokeh) {\n",
       "      console.log(\"Bokeh: injecting CSS: https://cdn.pydata.org/bokeh/release/bokeh-0.12.16.min.css\");\n",
       "      Bokeh.embed.inject_css(\"https://cdn.pydata.org/bokeh/release/bokeh-0.12.16.min.css\");\n",
       "      console.log(\"Bokeh: injecting CSS: https://cdn.pydata.org/bokeh/release/bokeh-widgets-0.12.16.min.css\");\n",
       "      Bokeh.embed.inject_css(\"https://cdn.pydata.org/bokeh/release/bokeh-widgets-0.12.16.min.css\");\n",
       "      console.log(\"Bokeh: injecting CSS: https://cdn.pydata.org/bokeh/release/bokeh-tables-0.12.16.min.css\");\n",
       "      Bokeh.embed.inject_css(\"https://cdn.pydata.org/bokeh/release/bokeh-tables-0.12.16.min.css\");\n",
       "    }\n",
       "  ];\n",
       "\n",
       "  function run_inline_js() {\n",
       "    \n",
       "    if ((root.Bokeh !== undefined) || (force === true)) {\n",
       "      for (var i = 0; i < inline_js.length; i++) {\n",
       "        inline_js[i].call(root, root.Bokeh);\n",
       "      }if (force === true) {\n",
       "        display_loaded();\n",
       "      }} else if (Date.now() < root._bokeh_timeout) {\n",
       "      setTimeout(run_inline_js, 100);\n",
       "    } else if (!root._bokeh_failed_load) {\n",
       "      console.log(\"Bokeh: BokehJS failed to load within specified timeout.\");\n",
       "      root._bokeh_failed_load = true;\n",
       "    } else if (force !== true) {\n",
       "      var cell = $(document.getElementById(\"bc0681eb-dc5d-45d1-b843-a6f3dda03833\")).parents('.cell').data().cell;\n",
       "      cell.output_area.append_execute_result(NB_LOAD_WARNING)\n",
       "    }\n",
       "\n",
       "  }\n",
       "\n",
       "  if (root._bokeh_is_loading === 0) {\n",
       "    console.log(\"Bokeh: BokehJS loaded, going straight to plotting\");\n",
       "    run_inline_js();\n",
       "  } else {\n",
       "    load_libs(js_urls, function() {\n",
       "      console.log(\"Bokeh: BokehJS plotting callback run at\", now());\n",
       "      run_inline_js();\n",
       "    });\n",
       "  }\n",
       "}(window));"
      ],
      "application/vnd.bokehjs_load.v0+json": "\n(function(root) {\n  function now() {\n    return new Date();\n  }\n\n  var force = true;\n\n  if (typeof (root._bokeh_onload_callbacks) === \"undefined\" || force === true) {\n    root._bokeh_onload_callbacks = [];\n    root._bokeh_is_loading = undefined;\n  }\n\n  \n\n  \n  if (typeof (root._bokeh_timeout) === \"undefined\" || force === true) {\n    root._bokeh_timeout = Date.now() + 5000;\n    root._bokeh_failed_load = false;\n  }\n\n  var NB_LOAD_WARNING = {'data': {'text/html':\n     \"<div style='background-color: #fdd'>\\n\"+\n     \"<p>\\n\"+\n     \"BokehJS does not appear to have successfully loaded. If loading BokehJS from CDN, this \\n\"+\n     \"may be due to a slow or bad network connection. Possible fixes:\\n\"+\n     \"</p>\\n\"+\n     \"<ul>\\n\"+\n     \"<li>re-rerun `output_notebook()` to attempt to load from CDN again, or</li>\\n\"+\n     \"<li>use INLINE resources instead, as so:</li>\\n\"+\n     \"</ul>\\n\"+\n     \"<code>\\n\"+\n     \"from bokeh.resources import INLINE\\n\"+\n     \"output_notebook(resources=INLINE)\\n\"+\n     \"</code>\\n\"+\n     \"</div>\"}};\n\n  function display_loaded() {\n    var el = document.getElementById(\"bc0681eb-dc5d-45d1-b843-a6f3dda03833\");\n    if (el != null) {\n      el.textContent = \"BokehJS is loading...\";\n    }\n    if (root.Bokeh !== undefined) {\n      if (el != null) {\n        el.textContent = \"BokehJS \" + root.Bokeh.version + \" successfully loaded.\";\n      }\n    } else if (Date.now() < root._bokeh_timeout) {\n      setTimeout(display_loaded, 100)\n    }\n  }\n\n\n  function run_callbacks() {\n    try {\n      root._bokeh_onload_callbacks.forEach(function(callback) { callback() });\n    }\n    finally {\n      delete root._bokeh_onload_callbacks\n    }\n    console.info(\"Bokeh: all callbacks have finished\");\n  }\n\n  function load_libs(js_urls, callback) {\n    root._bokeh_onload_callbacks.push(callback);\n    if (root._bokeh_is_loading > 0) {\n      console.log(\"Bokeh: BokehJS is being loaded, scheduling callback at\", now());\n      return null;\n    }\n    if (js_urls == null || js_urls.length === 0) {\n      run_callbacks();\n      return null;\n    }\n    console.log(\"Bokeh: BokehJS not loaded, scheduling load and callback at\", now());\n    root._bokeh_is_loading = js_urls.length;\n    for (var i = 0; i < js_urls.length; i++) {\n      var url = js_urls[i];\n      var s = document.createElement('script');\n      s.src = url;\n      s.async = false;\n      s.onreadystatechange = s.onload = function() {\n        root._bokeh_is_loading--;\n        if (root._bokeh_is_loading === 0) {\n          console.log(\"Bokeh: all BokehJS libraries loaded\");\n          run_callbacks()\n        }\n      };\n      s.onerror = function() {\n        console.warn(\"failed to load library \" + url);\n      };\n      console.log(\"Bokeh: injecting script tag for BokehJS library: \", url);\n      document.getElementsByTagName(\"head\")[0].appendChild(s);\n    }\n  };var element = document.getElementById(\"bc0681eb-dc5d-45d1-b843-a6f3dda03833\");\n  if (element == null) {\n    console.log(\"Bokeh: ERROR: autoload.js configured with elementid 'bc0681eb-dc5d-45d1-b843-a6f3dda03833' but no matching script tag was found. \")\n    return false;\n  }\n\n  var js_urls = [\"https://cdn.pydata.org/bokeh/release/bokeh-0.12.16.min.js\", \"https://cdn.pydata.org/bokeh/release/bokeh-widgets-0.12.16.min.js\", \"https://cdn.pydata.org/bokeh/release/bokeh-tables-0.12.16.min.js\", \"https://cdn.pydata.org/bokeh/release/bokeh-gl-0.12.16.min.js\"];\n\n  var inline_js = [\n    function(Bokeh) {\n      Bokeh.set_log_level(\"info\");\n    },\n    \n    function(Bokeh) {\n      \n    },\n    function(Bokeh) {\n      console.log(\"Bokeh: injecting CSS: https://cdn.pydata.org/bokeh/release/bokeh-0.12.16.min.css\");\n      Bokeh.embed.inject_css(\"https://cdn.pydata.org/bokeh/release/bokeh-0.12.16.min.css\");\n      console.log(\"Bokeh: injecting CSS: https://cdn.pydata.org/bokeh/release/bokeh-widgets-0.12.16.min.css\");\n      Bokeh.embed.inject_css(\"https://cdn.pydata.org/bokeh/release/bokeh-widgets-0.12.16.min.css\");\n      console.log(\"Bokeh: injecting CSS: https://cdn.pydata.org/bokeh/release/bokeh-tables-0.12.16.min.css\");\n      Bokeh.embed.inject_css(\"https://cdn.pydata.org/bokeh/release/bokeh-tables-0.12.16.min.css\");\n    }\n  ];\n\n  function run_inline_js() {\n    \n    if ((root.Bokeh !== undefined) || (force === true)) {\n      for (var i = 0; i < inline_js.length; i++) {\n        inline_js[i].call(root, root.Bokeh);\n      }if (force === true) {\n        display_loaded();\n      }} else if (Date.now() < root._bokeh_timeout) {\n      setTimeout(run_inline_js, 100);\n    } else if (!root._bokeh_failed_load) {\n      console.log(\"Bokeh: BokehJS failed to load within specified timeout.\");\n      root._bokeh_failed_load = true;\n    } else if (force !== true) {\n      var cell = $(document.getElementById(\"bc0681eb-dc5d-45d1-b843-a6f3dda03833\")).parents('.cell').data().cell;\n      cell.output_area.append_execute_result(NB_LOAD_WARNING)\n    }\n\n  }\n\n  if (root._bokeh_is_loading === 0) {\n    console.log(\"Bokeh: BokehJS loaded, going straight to plotting\");\n    run_inline_js();\n  } else {\n    load_libs(js_urls, function() {\n      console.log(\"Bokeh: BokehJS plotting callback run at\", now());\n      run_inline_js();\n    });\n  }\n}(window));"
     },
     "metadata": {},
     "output_type": "display_data"
    },
    {
     "data": {
      "text/plain": [
       "'/Users/tylerzhu/Desktop/tyleryzhu/pallas-starter-project/ConvNetAccLoss.png'"
      ]
     },
     "execution_count": 75,
     "metadata": {},
     "output_type": "execute_result"
    }
   ],
   "source": [
    "from bokeh.plotting import figure\n",
    "from bokeh.io import show, output_notebook, export_png\n",
    "from bokeh.models import LinearAxis, Range1d\n",
    "import numpy as np\n",
    "\n",
    "output_notebook() # for printing in jupyter\n",
    "\n",
    "p = figure(y_axis_label='Loss', width=850, y_range=(0,1), title='PyTorch ConvNet Results')\n",
    "p.extra_y_ranges = {'Accuracy': Range1d(start=0,end=100)}\n",
    "p.add_layout(LinearAxis(y_range_name='Accuracy', axis_label='Accuracy (%)'), 'right')\n",
    "p.line(np.arange(len(loss_list)), loss_list)\n",
    "p.line(np.arange(len(acc_list)), acc_list, color='red')\n",
    "export_png(p, filename='ConvNetAccLoss.png')"
   ]
  },
  {
   "cell_type": "code",
   "execution_count": 81,
   "metadata": {
    "ExecuteTime": {
     "end_time": "2018-09-26T21:38:20.795432Z",
     "start_time": "2018-09-26T21:38:20.787249Z"
    }
   },
   "outputs": [
    {
     "data": {
      "image/png": "[encoded data removed]",
      "text/plain": [
       "<IPython.core.display.Image object>"
      ]
     },
     "execution_count": 81,
     "metadata": {},
     "output_type": "execute_result"
    }
   ],
   "source": [
    "from IPython.display import Image\n",
    "Image('./ConvNetAccLoss.png')"
   ]
  },
  {
   "cell_type": "markdown",
   "metadata": {},
   "source": [
    "## Creating a function for measuring variance "
   ]
  },
  {
   "cell_type": "code",
   "execution_count": 49,
   "metadata": {
    "ExecuteTime": {
     "end_time": "2018-10-29T10:51:36.838483Z",
     "start_time": "2018-10-29T10:51:36.834743Z"
    },
    "init_cell": true
   },
   "outputs": [],
   "source": [
    "def varModel(model, loader):\n",
    "    ''' Returns the variance of model over samples as a PyTorch tensor.\n",
    "    \n",
    "        Inputs:\n",
    "        model: a PyTorch Neural Network.\n",
    "        samples: a PyTorch Data Loader of the samples to test (usually test_loader)'''\n",
    "    \n",
    "    model.eval()\n",
    "    results = []\n",
    "    \n",
    "    with torch.no_grad():\n",
    "        for images, labels in loader:\n",
    "            outputs = model(images)\n",
    "            _, predicted = torch.max(outputs.data, 1)\n",
    "            results.append(predicted)\n",
    "\n",
    "    results = torch.cat(results).float() \n",
    "    std = results.std()/(results.max()-results.min())\n",
    "    return std**2"
   ]
  },
  {
   "cell_type": "code",
   "execution_count": 138,
   "metadata": {
    "ExecuteTime": {
     "end_time": "2018-10-17T23:57:44.947824Z",
     "start_time": "2018-10-17T23:57:41.111647Z"
    }
   },
   "outputs": [
    {
     "data": {
      "text/plain": [
       "0.10240806639194489"
      ]
     },
     "execution_count": 138,
     "metadata": {},
     "output_type": "execute_result"
    }
   ],
   "source": [
    "varModel(model, test_loader).item()"
   ]
  },
  {
   "cell_type": "markdown",
   "metadata": {},
   "source": [
    "## Creating samples with noise"
   ]
  },
  {
   "cell_type": "markdown",
   "metadata": {},
   "source": [
    "TODO: Multithread the functions here so it runs faster"
   ]
  },
  {
   "cell_type": "code",
   "execution_count": 32,
   "metadata": {
    "ExecuteTime": {
     "end_time": "2018-10-29T10:46:21.166238Z",
     "start_time": "2018-10-29T10:46:21.161863Z"
    },
    "init_cell": true
   },
   "outputs": [],
   "source": [
    "def addNoise(inp, sigma, clamp = True): \n",
    "    ''' Adds Gaussian noise N(0, sigma) to a ndarray or tensor inp.\n",
    "        Clamps values to [0, 255]\n",
    "        Returns a FloatTensor with noise added.'''\n",
    "    if type(inp) != torch.Tensor:\n",
    "        try:\n",
    "            inp =  torch.Tensor(inp)\n",
    "        except:\n",
    "            print(\"Error: Input of type {} couldn't be converted to PyTorch tensor!\".format(type(inp)))\n",
    "            raise\n",
    "    inp = inp.type(torch.FloatTensor)\n",
    "    shape = inp.shape \n",
    "    noise = torch.tensor(np.random.normal(0, sigma, size = shape)).type(torch.FloatTensor)\n",
    "    return torch.clamp(noise+inp, 0, 255) if clamp else noise+inp #to clamp or not to clamp? "
   ]
  },
  {
   "cell_type": "code",
   "execution_count": 18,
   "metadata": {
    "ExecuteTime": {
     "end_time": "2018-10-29T10:32:33.721956Z",
     "start_time": "2018-10-29T10:32:33.711681Z"
    }
   },
   "outputs": [],
   "source": [
    "trans = transforms.Compose([transforms.ToTensor(), \n",
    "                            transforms.Normalize((0.1307,), (0.3081,))])\n",
    "test_dataset = torchvision.datasets.MNIST(root=DATA_PATH, train=False, transform=trans, download=False)\n",
    "test_loader = DataLoader(dataset = test_dataset, batch_size=BATCH_SIZE, shuffle = False)"
   ]
  },
  {
   "cell_type": "markdown",
   "metadata": {},
   "source": [
    "Here I'm just plotting the images to see what kind of noise I'm getting. I also clamped the values to the range [0,255] for more consistent performance. "
   ]
  },
  {
   "cell_type": "code",
   "execution_count": 10,
   "metadata": {
    "ExecuteTime": {
     "end_time": "2018-10-29T10:23:36.158937Z",
     "start_time": "2018-10-29T10:23:36.152076Z"
    }
   },
   "outputs": [],
   "source": [
    "t = test_dataset.test_data[0]"
   ]
  },
  {
   "cell_type": "code",
   "execution_count": 21,
   "metadata": {
    "ExecuteTime": {
     "end_time": "2018-10-29T10:40:23.723400Z",
     "start_time": "2018-10-29T10:40:23.718878Z"
    }
   },
   "outputs": [
    {
     "data": {
      "text/plain": [
       "True"
      ]
     },
     "execution_count": 21,
     "metadata": {},
     "output_type": "execute_result"
    }
   ],
   "source": [
    "type(t) == torch.Tensor"
   ]
  },
  {
   "cell_type": "code",
   "execution_count": 60,
   "metadata": {
    "ExecuteTime": {
     "end_time": "2018-10-17T22:49:12.070901Z",
     "start_time": "2018-10-17T22:49:11.948261Z"
    }
   },
   "outputs": [
    {
     "data": {
      "text/plain": [
       "<matplotlib.image.AxesImage at 0x12a95de10>"
      ]
     },
     "execution_count": 60,
     "metadata": {},
     "output_type": "execute_result"
    },
    {
     "data": {
      "image/png": "[encoded data removed]",
      "text/plain": [
       "<Figure size 432x288 with 1 Axes>"
      ]
     },
     "metadata": {},
     "output_type": "display_data"
    }
   ],
   "source": [
    "plt.imshow(t, cmap='Greys')"
   ]
  },
  {
   "cell_type": "code",
   "execution_count": 67,
   "metadata": {
    "ExecuteTime": {
     "end_time": "2018-10-17T22:51:36.694492Z",
     "start_time": "2018-10-17T22:51:36.570628Z"
    }
   },
   "outputs": [
    {
     "data": {
      "text/plain": [
       "<matplotlib.image.AxesImage at 0x12ac6d3c8>"
      ]
     },
     "execution_count": 67,
     "metadata": {},
     "output_type": "execute_result"
    },
    {
     "data": {
      "image/png": "[encoded data removed]",
      "text/plain": [
       "<Figure size 432x288 with 1 Axes>"
      ]
     },
     "metadata": {},
     "output_type": "display_data"
    }
   ],
   "source": [
    "n = addNoise(t,50, False)\n",
    "plt.imshow(n.type(torch.IntTensor), cmap='Greys')"
   ]
  },
  {
   "cell_type": "code",
   "execution_count": 68,
   "metadata": {
    "ExecuteTime": {
     "end_time": "2018-10-17T22:51:45.765599Z",
     "start_time": "2018-10-17T22:51:45.620033Z"
    }
   },
   "outputs": [
    {
     "data": {
      "text/plain": [
       "<matplotlib.image.AxesImage at 0x12adbb320>"
      ]
     },
     "execution_count": 68,
     "metadata": {},
     "output_type": "execute_result"
    },
    {
     "data": {
      "image/png": "[encoded data removed]",
      "text/plain": [
       "<Figure size 432x288 with 1 Axes>"
      ]
     },
     "metadata": {},
     "output_type": "display_data"
    }
   ],
   "source": [
    "plt.imshow(torch.clamp(n.type(torch.IntTensor), 0, 255), cmap='Greys')"
   ]
  },
  {
   "cell_type": "code",
   "execution_count": 51,
   "metadata": {
    "ExecuteTime": {
     "end_time": "2018-10-29T10:55:03.690325Z",
     "start_time": "2018-10-29T10:55:03.682334Z"
    },
    "init_cell": true
   },
   "outputs": [],
   "source": [
    "def varianceTest(model, sigmas, dataset, epochs = 5):\n",
    "    ''' Finds the variance of model over X+e, where e = N(0, sigma) is Gaussian noise. \n",
    "        Each hyperparameter is run over epochs iterations. \n",
    "        \n",
    "        Dataset is either 'mnist' or 'cifar10'\n",
    "    \n",
    "        Returns the average and s.d. of var(model(X+e)) where e = N(0, sigma) for each \n",
    "        sigma in sigmas over epochs number of iterations.'''\n",
    "    if dataset not in ['mnist', 'cifar10']:\n",
    "        print('Dataset {} not found!'.format(dataset))\n",
    "        return \n",
    "    if dataset == 'mnist':\n",
    "        trans = transforms.Compose([transforms.ToTensor(), \n",
    "                                transforms.Normalize((0.1307,), (0.3081,))])\n",
    "    elif dataset == 'cifar10':\n",
    "        trans = transforms.Compose([transforms.ToTensor(), \n",
    "                            transforms.Normalize(mean=(0.485, 0.456, 0.406), std = (0.229, 0.224, 0.225))])\n",
    "    outputVariance = []\n",
    "    outputVarianceSTD = []\n",
    "    for sigma in sigmas:\n",
    "        print(\"Computing variance of f(Y) where noise has sigma =\", sigma)\n",
    "        tot = []\n",
    "        for epoch in range(epochs): \n",
    "            print(\"Epoch {} of {}\".format(epoch+1, epochs))\n",
    "            if dataset == 'mnist':\n",
    "                noisy_test_dataset = torchvision.datasets.MNIST(root=DATA_PATH, train=False, \\\n",
    "                                                            transform=trans,download=False)\n",
    "            elif dataset == 'cifar10':\n",
    "                noisy_test_dataset = torchvision.datasets.CIFAR10(root=DATA_PATH, train=False, \\\n",
    "                                                            transform=trans,download=False)\n",
    "            for i in range(len(noisy_test_dataset.test_data)):\n",
    "                noisy_test_dataset.test_data[i] = addNoise(noisy_test_dataset.test_data[i], sigma)\n",
    "            test_loader = DataLoader(dataset = noisy_test_dataset, batch_size=BATCH_SIZE, shuffle = False)\n",
    "            tot.append(varModel(model, test_loader).item())\n",
    "        tot = np.array(tot)\n",
    "        outputVariance.append(tot.mean())\n",
    "        outputVarianceSTD.append(tot.std())\n",
    "        print(\"Variance with noise std {} is {}. STD is {}\".format(sigma, outputVariance[-1], outputVarianceSTD[-1]))\n",
    "    return outputVariance, outputVarianceSTD"
   ]
  },
  {
   "cell_type": "code",
   "execution_count": 186,
   "metadata": {
    "ExecuteTime": {
     "end_time": "2018-10-18T00:26:00.083084Z",
     "start_time": "2018-10-18T00:26:00.077891Z"
    }
   },
   "outputs": [
    {
     "name": "stdout",
     "output_type": "stream",
     "text": [
      "[ 0. 10. 20. 30. 40. 50. 60. 70. 80.]\n"
     ]
    }
   ],
   "source": [
    "sigs = np.linspace(0, 80, 9) \n",
    "print(sigs)"
   ]
  },
  {
   "cell_type": "code",
   "execution_count": 223,
   "metadata": {
    "ExecuteTime": {
     "end_time": "2018-10-18T00:54:28.218532Z",
     "start_time": "2018-10-18T00:51:11.627748Z"
    },
    "scrolled": false
   },
   "outputs": [
    {
     "name": "stdout",
     "output_type": "stream",
     "text": [
      "Computing variance of f(Y) where noise has sigma = 0.0\n",
      "Epoch 1 of 5\n",
      "Epoch 2 of 5\n",
      "Epoch 3 of 5\n",
      "Epoch 4 of 5\n",
      "Epoch 5 of 5\n",
      "Variance with noise std 0.0 is 0.10386093705892563. STD is 0.0\n",
      "Computing variance of f(Y) where noise has sigma = 10.0\n",
      "Epoch 1 of 5\n",
      "Epoch 2 of 5\n",
      "Epoch 3 of 5\n",
      "Epoch 4 of 5\n",
      "Epoch 5 of 5\n",
      "Variance with noise std 10.0 is 0.10394573360681533. STD is 3.667211929617332e-05\n",
      "Computing variance of f(Y) where noise has sigma = 20.0\n",
      "Epoch 1 of 5\n",
      "Epoch 2 of 5\n",
      "Epoch 3 of 5\n",
      "Epoch 4 of 5\n",
      "Epoch 5 of 5\n",
      "Variance with noise std 20.0 is 0.1038870245218277. STD is 3.676458343785538e-05\n",
      "Computing variance of f(Y) where noise has sigma = 30.0\n",
      "Epoch 1 of 5\n",
      "Epoch 2 of 5\n",
      "Epoch 3 of 5\n",
      "Epoch 4 of 5\n",
      "Epoch 5 of 5\n",
      "Variance with noise std 30.0 is 0.10375198870897293. STD is 8.672893644067376e-05\n",
      "Computing variance of f(Y) where noise has sigma = 40.0\n",
      "Epoch 1 of 5\n",
      "Epoch 2 of 5\n",
      "Epoch 3 of 5\n",
      "Epoch 4 of 5\n",
      "Epoch 5 of 5\n",
      "Variance with noise std 40.0 is 0.10337993949651718. STD is 0.00018889814023540202\n",
      "Computing variance of f(Y) where noise has sigma = 50.0\n",
      "Epoch 1 of 5\n",
      "Epoch 2 of 5\n",
      "Epoch 3 of 5\n",
      "Epoch 4 of 5\n",
      "Epoch 5 of 5\n",
      "Variance with noise std 50.0 is 0.10244357734918594. STD is 0.0002073475135512595\n",
      "Computing variance of f(Y) where noise has sigma = 60.0\n",
      "Epoch 1 of 5\n",
      "Epoch 2 of 5\n",
      "Epoch 3 of 5\n",
      "Epoch 4 of 5\n",
      "Epoch 5 of 5\n",
      "Variance with noise std 60.0 is 0.10027009844779969. STD is 0.00021453860862502238\n",
      "Computing variance of f(Y) where noise has sigma = 70.0\n",
      "Epoch 1 of 5\n",
      "Epoch 2 of 5\n",
      "Epoch 3 of 5\n",
      "Epoch 4 of 5\n",
      "Epoch 5 of 5\n",
      "Variance with noise std 70.0 is 0.09647775143384933. STD is 0.00032348848043533553\n",
      "Computing variance of f(Y) where noise has sigma = 80.0\n",
      "Epoch 1 of 5\n",
      "Epoch 2 of 5\n",
      "Epoch 3 of 5\n",
      "Epoch 4 of 5\n",
      "Epoch 5 of 5\n",
      "Variance with noise std 80.0 is 0.09316393584012986. STD is 0.00022995408747920746\n"
     ]
    }
   ],
   "source": [
    "res, resSTD = varianceTest(model, sigs, epochs = 5)"
   ]
  },
  {
   "cell_type": "code",
   "execution_count": 72,
   "metadata": {
    "ExecuteTime": {
     "end_time": "2018-10-29T11:18:39.978356Z",
     "start_time": "2018-10-29T11:18:39.972645Z"
    }
   },
   "outputs": [],
   "source": [
    "def display(sigmas, results, resultsSTD):\n",
    "    results = np.array(results)\n",
    "    resultsSTD = np.array(resultsSTD)\n",
    "    plt.figure(figsize=(10,6))\n",
    "    plt.fill_between(sigmas, list(results-resultsSTD), list(results+resultsSTD), color='b',alpha=.2)\n",
    "    plt.plot(sigmas, results, lw=2)\n",
    "    plt.xlabel('Sigma', fontsize=12)\n",
    "    plt.ylabel('Variance', fontsize=12)\n",
    "    plt.title('Sigma vs. Variance')\n",
    "    plt.show()"
   ]
  },
  {
   "cell_type": "code",
   "execution_count": 239,
   "metadata": {
    "ExecuteTime": {
     "end_time": "2018-10-18T00:56:17.026089Z",
     "start_time": "2018-10-18T00:56:16.891933Z"
    },
    "scrolled": false
   },
   "outputs": [
    {
     "data": {
      "image/png": "[encoded data removed]",
      "text/plain": [
       "<Figure size 720x432 with 1 Axes>"
      ]
     },
     "metadata": {},
     "output_type": "display_data"
    }
   ],
   "source": [
    "display(sigs, res, resSTD)"
   ]
  },
  {
   "cell_type": "code",
   "execution_count": 168,
   "metadata": {
    "ExecuteTime": {
     "end_time": "2018-10-18T00:13:55.808412Z",
     "start_time": "2018-10-18T00:13:55.657695Z"
    }
   },
   "outputs": [
    {
     "data": {
      "image/png": "[encoded data removed]",
      "text/plain": [
       "<Figure size 432x288 with 1 Axes>"
      ]
     },
     "metadata": {},
     "output_type": "display_data"
    }
   ],
   "source": [
    "display(sigs, result)"
   ]
  },
  {
   "cell_type": "code",
   "execution_count": 175,
   "metadata": {
    "ExecuteTime": {
     "end_time": "2018-10-18T00:20:54.338125Z",
     "start_time": "2018-10-18T00:20:54.150245Z"
    }
   },
   "outputs": [
    {
     "data": {
      "image/png": "[encoded data removed]",
      "text/plain": [
       "<Figure size 432x288 with 1 Axes>"
      ]
     },
     "metadata": {},
     "output_type": "display_data"
    }
   ],
   "source": [
    "display(sigs, result)"
   ]
  },
  {
   "cell_type": "code",
   "execution_count": 188,
   "metadata": {
    "ExecuteTime": {
     "end_time": "2018-10-18T00:33:09.930898Z",
     "start_time": "2018-10-18T00:33:09.825094Z"
    }
   },
   "outputs": [
    {
     "data": {
      "image/png": "[encoded data removed]",
      "text/plain": [
       "<Figure size 432x288 with 1 Axes>"
      ]
     },
     "metadata": {},
     "output_type": "display_data"
    }
   ],
   "source": [
    "display(sigs, result)"
   ]
  },
  {
   "cell_type": "markdown",
   "metadata": {},
   "source": [
    "# Objective 2"
   ]
  },
  {
   "cell_type": "markdown",
   "metadata": {},
   "source": [
    "Do the same as above but with the CNN using a shiftresnet layer"
   ]
  },
  {
   "cell_type": "code",
   "execution_count": null,
   "metadata": {},
   "outputs": [],
   "source": [
    "class ShiftConvNet(nn.Module):\n",
    "    def __init__(self):\n",
    "        super(ConvNet, self).__init__()\n",
    "        \n",
    "        self.layer1 = nn.Sequential(\n",
    "            nn.Conv2d(1, 32, kernel_size=5, stride=1, padding=2),\n",
    "            nn.ReLU(),\n",
    "            nn.MaxPool2d(kernel_size=2, stride=2)\n",
    "            )\n",
    "#       self.layer2 = nn.Sequential(\n",
    "#           nn.Conv2d(32, 64, kernel_size=5, stride=1, padding=2),\n",
    "#           nn.ReLU(),\n",
    "#           nn.MaxPool2d(kernel_size=2, stride=2)\n",
    "#           )\n",
    "        self.drop_out = nn.Dropout()\n",
    "        self.fc1 = nn.Linear(14 * 14 * 32, 1000)\n",
    "        self.fc2 = nn.Linear(1000, 10)\n",
    "    \n",
    "    def forward(self, x):\n",
    "        out = self.layer1(x)\n",
    "#        out = self.layer2(out)\n",
    "        out = out.reshape(out.size(0), -1)\n",
    "        out = self.drop_out(out)\n",
    "        out = self.fc1(out)\n",
    "        out = self.fc2(out)\n",
    "        return out "
   ]
  },
  {
   "cell_type": "markdown",
   "metadata": {},
   "source": [
    "# Test with CIFAR-10 "
   ]
  },
  {
   "cell_type": "markdown",
   "metadata": {},
   "source": [
    "First we train a model on CIFAR-10"
   ]
  },
  {
   "cell_type": "code",
   "execution_count": 6,
   "metadata": {
    "ExecuteTime": {
     "end_time": "2018-10-28T23:05:02.591144Z",
     "start_time": "2018-10-28T23:05:02.587136Z"
    }
   },
   "outputs": [],
   "source": [
    "# Hyperparameters\n",
    "EPOCHS = 4\n",
    "CLASSES = 10\n",
    "BATCH_SIZE = 100\n",
    "LEARNING_RATE = 0.001"
   ]
  },
  {
   "cell_type": "code",
   "execution_count": 37,
   "metadata": {
    "ExecuteTime": {
     "end_time": "2018-10-29T10:47:34.145416Z",
     "start_time": "2018-10-29T10:47:33.252258Z"
    }
   },
   "outputs": [],
   "source": [
    "# a transform to apply to data (convert to Tensor, then normalize w/ CIFAR-10's mean & sd on RGB channels)\n",
    "trans = transforms.Compose([#transforms.ToPILImage(), \n",
    "                            transforms.ToTensor(), \n",
    "                            transforms.Normalize(mean=(0.485, 0.456, 0.406), std = (0.229, 0.224, 0.225))])\n",
    "\n",
    "# CIFAR-10 \n",
    "train_dataset = torchvision.datasets.CIFAR10(root=DATA_PATH, train=True, download=False, transform=trans)\n",
    "test_dataset = torchvision.datasets.CIFAR10(root=DATA_PATH, train=False, transform=trans)"
   ]
  },
  {
   "cell_type": "code",
   "execution_count": 38,
   "metadata": {
    "ExecuteTime": {
     "end_time": "2018-10-29T10:47:35.687837Z",
     "start_time": "2018-10-29T10:47:35.678239Z"
    }
   },
   "outputs": [],
   "source": [
    "train_loader = DataLoader(dataset = train_dataset, batch_size=BATCH_SIZE, shuffle = True)\n",
    "test_loader = DataLoader(dataset = test_dataset, batch_size=BATCH_SIZE, shuffle = False)"
   ]
  },
  {
   "cell_type": "code",
   "execution_count": 12,
   "metadata": {
    "ExecuteTime": {
     "end_time": "2018-10-28T00:57:05.499343Z",
     "start_time": "2018-10-28T00:57:05.338641Z"
    }
   },
   "outputs": [
    {
     "data": {
      "text/plain": [
       "<matplotlib.image.AxesImage at 0x1128689b0>"
      ]
     },
     "execution_count": 12,
     "metadata": {},
     "output_type": "execute_result"
    },
    {
     "data": {
      "image/png": "[encoded data removed]",
      "text/plain": [
       "<Figure size 432x288 with 1 Axes>"
      ]
     },
     "metadata": {},
     "output_type": "display_data"
    }
   ],
   "source": [
    "plt.imshow(train_loader.dataset.train_data[0])"
   ]
  },
  {
   "cell_type": "code",
   "execution_count": 28,
   "metadata": {
    "ExecuteTime": {
     "end_time": "2018-10-28T01:02:48.456168Z",
     "start_time": "2018-10-28T01:02:48.451820Z"
    }
   },
   "outputs": [
    {
     "data": {
      "text/plain": [
       "(32, 32, 3)"
      ]
     },
     "execution_count": 28,
     "metadata": {},
     "output_type": "execute_result"
    }
   ],
   "source": [
    "train_loader.dataset.train_data[0].shape"
   ]
  },
  {
   "cell_type": "code",
   "execution_count": 33,
   "metadata": {
    "ExecuteTime": {
     "end_time": "2018-10-29T10:46:39.941440Z",
     "start_time": "2018-10-29T10:46:39.936215Z"
    },
    "init_cell": true
   },
   "outputs": [],
   "source": [
    "class CIFARConvNet(nn.Module):\n",
    "    def __init__(self):\n",
    "        super(CIFARConvNet, self).__init__()\n",
    "        \n",
    "        self.layer1 = nn.Sequential(\n",
    "            nn.Conv2d(3, 32, kernel_size=5, stride=1, padding=2),\n",
    "            nn.ReLU(),\n",
    "            nn.MaxPool2d(kernel_size=2, stride=2)\n",
    "            )\n",
    "#       self.layer2 = nn.Sequential(\n",
    "#           nn.Conv2d(32, 64, kernel_size=5, stride=1, padding=2),\n",
    "#           nn.ReLU(),\n",
    "#           nn.MaxPool2d(kernel_size=2, stride=2)\n",
    "#           )\n",
    "        self.drop_out = nn.Dropout()\n",
    "        self.fc1 = nn.Linear(16 * 16 * 32, 2000)\n",
    "        self.fc2 = nn.Linear(2000, 10)\n",
    "    \n",
    "    def forward(self, x):\n",
    "        out = self.layer1(x)\n",
    "#        out = self.layer2(out)\n",
    "        out = out.reshape(out.size(0), -1)\n",
    "        out = self.drop_out(out)\n",
    "        out = self.fc1(out)\n",
    "        out = self.fc2(out)\n",
    "        return out "
   ]
  },
  {
   "cell_type": "code",
   "execution_count": 44,
   "metadata": {
    "ExecuteTime": {
     "end_time": "2018-10-28T01:26:11.612955Z",
     "start_time": "2018-10-28T01:26:11.470784Z"
    }
   },
   "outputs": [],
   "source": [
    "model = CIFARConvNet()\n",
    "\n",
    "# Loss and Optimizer\n",
    "criterion = nn.CrossEntropyLoss()\n",
    "optimizer = torch.optim.Adam(model.parameters(), lr=LEARNING_RATE)"
   ]
  },
  {
   "cell_type": "code",
   "execution_count": 45,
   "metadata": {
    "ExecuteTime": {
     "end_time": "2018-10-28T01:44:02.801723Z",
     "start_time": "2018-10-28T01:26:12.507562Z"
    }
   },
   "outputs": [
    {
     "name": "stdout",
     "output_type": "stream",
     "text": [
      "Epoch [1/6], Step [100/500], Loss: 1.6822, Accuracy: 38.00%\n",
      "Epoch [1/6], Step [200/500], Loss: 1.5131, Accuracy: 48.00%\n",
      "Epoch [1/6], Step [300/500], Loss: 1.6586, Accuracy: 38.00%\n",
      "Epoch [1/6], Step [400/500], Loss: 1.3480, Accuracy: 50.00%\n",
      "Epoch [1/6], Step [500/500], Loss: 1.1068, Accuracy: 62.00%\n",
      "Epoch [2/6], Step [100/500], Loss: 1.1499, Accuracy: 61.00%\n",
      "Epoch [2/6], Step [200/500], Loss: 1.1338, Accuracy: 63.00%\n",
      "Epoch [2/6], Step [300/500], Loss: 1.4204, Accuracy: 53.00%\n",
      "Epoch [2/6], Step [400/500], Loss: 1.1640, Accuracy: 60.00%\n",
      "Epoch [2/6], Step [500/500], Loss: 1.3914, Accuracy: 52.00%\n",
      "Epoch [3/6], Step [100/500], Loss: 1.1372, Accuracy: 62.00%\n",
      "Epoch [3/6], Step [200/500], Loss: 1.1338, Accuracy: 64.00%\n",
      "Epoch [3/6], Step [300/500], Loss: 1.2651, Accuracy: 56.00%\n",
      "Epoch [3/6], Step [400/500], Loss: 1.0678, Accuracy: 64.00%\n",
      "Epoch [3/6], Step [500/500], Loss: 1.3918, Accuracy: 49.00%\n",
      "Epoch [4/6], Step [100/500], Loss: 1.0103, Accuracy: 65.00%\n",
      "Epoch [4/6], Step [200/500], Loss: 1.1678, Accuracy: 55.00%\n",
      "Epoch [4/6], Step [300/500], Loss: 1.0912, Accuracy: 58.00%\n",
      "Epoch [4/6], Step [400/500], Loss: 1.2009, Accuracy: 62.00%\n",
      "Epoch [4/6], Step [500/500], Loss: 1.2611, Accuracy: 52.00%\n",
      "Epoch [5/6], Step [100/500], Loss: 0.9289, Accuracy: 65.00%\n",
      "Epoch [5/6], Step [200/500], Loss: 1.2873, Accuracy: 57.00%\n",
      "Epoch [5/6], Step [300/500], Loss: 1.1954, Accuracy: 67.00%\n",
      "Epoch [5/6], Step [400/500], Loss: 0.9117, Accuracy: 65.00%\n",
      "Epoch [5/6], Step [500/500], Loss: 1.1860, Accuracy: 65.00%\n",
      "Epoch [6/6], Step [100/500], Loss: 1.2951, Accuracy: 65.00%\n",
      "Epoch [6/6], Step [200/500], Loss: 0.9675, Accuracy: 66.00%\n",
      "Epoch [6/6], Step [300/500], Loss: 1.3058, Accuracy: 53.00%\n",
      "Epoch [6/6], Step [400/500], Loss: 1.1179, Accuracy: 60.00%\n",
      "Epoch [6/6], Step [500/500], Loss: 1.0927, Accuracy: 64.00%\n"
     ]
    }
   ],
   "source": [
    "# Training the model\n",
    "total_step = len(train_loader)\n",
    "loss_list = []\n",
    "acc_list = []\n",
    "\n",
    "for epoch in range(EPOCHS):\n",
    "    for i, (images, labels) in enumerate(train_loader):\n",
    "        # Run forward pass \n",
    "        outputs = model(images)\n",
    "        loss = criterion(outputs, labels)\n",
    "        loss_list.append(loss.item())\n",
    "        \n",
    "        # Now backpropogate and apply Adam\n",
    "        optimizer.zero_grad()\n",
    "        loss.backward()\n",
    "        optimizer.step()\n",
    "        \n",
    "        # Track accuracy\n",
    "        total = labels.size(0)\n",
    "        _, predicted = torch.max(outputs.data, 1)\n",
    "        correct = (predicted==labels).sum().item()\n",
    "        acc_list.append(correct / total)\n",
    "        \n",
    "        if (i+1) % 100 == 0:\n",
    "             print('Epoch [{}/{}], Step [{}/{}], Loss: {:.4f}, Accuracy: {:.2f}%'\n",
    "                  .format(epoch + 1, EPOCHS, i + 1, total_step, loss.item(),\n",
    "                          (correct / total) * 100))"
   ]
  },
  {
   "cell_type": "code",
   "execution_count": 39,
   "metadata": {
    "ExecuteTime": {
     "end_time": "2018-10-29T10:47:47.295635Z",
     "start_time": "2018-10-29T10:47:39.630074Z"
    }
   },
   "outputs": [
    {
     "name": "stdout",
     "output_type": "stream",
     "text": [
      "Test Accuracy of the model on the 10000 test images: 62.82 %\n"
     ]
    }
   ],
   "source": [
    "def evaluateAccuracy(model, test_loader): \n",
    "    model.eval()\n",
    "    with torch.no_grad():\n",
    "        correct = 0\n",
    "        total = 0\n",
    "        for images, labels in test_loader:\n",
    "            outputs = model(images)\n",
    "            _, predicted = torch.max(outputs.data, 1)\n",
    "            correct += (predicted==labels).sum().item()\n",
    "            total += labels.size(0)\n",
    "\n",
    "        print('Test Accuracy of the model on the 10000 test images: {} %'.format((correct / total) * 100))\n",
    "evaluateAccuracy(modelCIFAR, test_loader) \n",
    "# Save the model and plot\n",
    "# torch.save(model.state_dict(), MODEL_PATH + 'cifar_conv_net_1(conv)_2_model.ckpt')"
   ]
  },
  {
   "cell_type": "code",
   "execution_count": 34,
   "metadata": {
    "ExecuteTime": {
     "end_time": "2018-10-29T10:46:54.109939Z",
     "start_time": "2018-10-29T10:46:53.897321Z"
    },
    "init_cell": true
   },
   "outputs": [],
   "source": [
    "modelCIFAR = CIFARConvNet()\n",
    "modelCIFAR.load_state_dict(torch.load(MODEL_PATH + 'cifar_conv_net_1(conv)_2_model.ckpt'))"
   ]
  },
  {
   "cell_type": "code",
   "execution_count": 42,
   "metadata": {
    "ExecuteTime": {
     "end_time": "2018-10-29T10:48:25.094397Z",
     "start_time": "2018-10-29T10:48:17.969482Z"
    }
   },
   "outputs": [
    {
     "data": {
      "text/plain": [
       "0.09873133152723312"
      ]
     },
     "execution_count": 42,
     "metadata": {},
     "output_type": "execute_result"
    }
   ],
   "source": [
    "varModel(modelCIFAR, test_loader)"
   ]
  },
  {
   "cell_type": "code",
   "execution_count": 62,
   "metadata": {
    "ExecuteTime": {
     "end_time": "2018-10-29T11:02:07.324873Z",
     "start_time": "2018-10-29T11:02:07.320005Z"
    }
   },
   "outputs": [
    {
     "name": "stdout",
     "output_type": "stream",
     "text": [
      "[ 0. 10. 20. 30. 40. 50. 60.]\n"
     ]
    }
   ],
   "source": [
    "sigs = np.linspace(0, 60, 7) \n",
    "print(sigs)"
   ]
  },
  {
   "cell_type": "code",
   "execution_count": 63,
   "metadata": {
    "ExecuteTime": {
     "end_time": "2018-10-29T11:08:45.022179Z",
     "start_time": "2018-10-29T11:02:08.969211Z"
    }
   },
   "outputs": [
    {
     "name": "stdout",
     "output_type": "stream",
     "text": [
      "Computing variance of f(Y) where noise has sigma = 0.0\n",
      "Epoch 1 of 6\n",
      "Epoch 2 of 6\n",
      "Epoch 3 of 6\n",
      "Epoch 4 of 6\n",
      "Epoch 5 of 6\n",
      "Epoch 6 of 6\n",
      "Variance with noise std 0.0 is 0.09873133152723312. STD is 0.0\n",
      "Computing variance of f(Y) where noise has sigma = 10.0\n",
      "Epoch 1 of 6\n",
      "Epoch 2 of 6\n",
      "Epoch 3 of 6\n",
      "Epoch 4 of 6\n",
      "Epoch 5 of 6\n",
      "Epoch 6 of 6\n",
      "Variance with noise std 10.0 is 0.09569939474264781. STD is 0.00030008549997245743\n",
      "Computing variance of f(Y) where noise has sigma = 20.0\n",
      "Epoch 1 of 6\n",
      "Epoch 2 of 6\n",
      "Epoch 3 of 6\n",
      "Epoch 4 of 6\n",
      "Epoch 5 of 6\n",
      "Epoch 6 of 6\n",
      "Variance with noise std 20.0 is 0.0961563525100549. STD is 0.0002641318888111506\n",
      "Computing variance of f(Y) where noise has sigma = 30.0\n",
      "Epoch 1 of 6\n",
      "Epoch 2 of 6\n",
      "Epoch 3 of 6\n",
      "Epoch 4 of 6\n",
      "Epoch 5 of 6\n",
      "Epoch 6 of 6\n",
      "Variance with noise std 30.0 is 0.10990060120820999. STD is 0.0006765919734171862\n",
      "Computing variance of f(Y) where noise has sigma = 40.0\n",
      "Epoch 1 of 6\n",
      "Epoch 2 of 6\n",
      "Epoch 3 of 6\n",
      "Epoch 4 of 6\n",
      "Epoch 5 of 6\n",
      "Epoch 6 of 6\n",
      "Variance with noise std 40.0 is 0.13175235440333685. STD is 0.0013549742937611635\n",
      "Computing variance of f(Y) where noise has sigma = 50.0\n",
      "Epoch 1 of 6\n",
      "Epoch 2 of 6\n",
      "Epoch 3 of 6\n",
      "Epoch 4 of 6\n",
      "Epoch 5 of 6\n",
      "Epoch 6 of 6\n",
      "Variance with noise std 50.0 is 0.13884066541989645. STD is 0.0006954413094112199\n",
      "Computing variance of f(Y) where noise has sigma = 60.0\n",
      "Epoch 1 of 6\n",
      "Epoch 2 of 6\n",
      "Epoch 3 of 6\n",
      "Epoch 4 of 6\n",
      "Epoch 5 of 6\n",
      "Epoch 6 of 6\n",
      "Variance with noise std 60.0 is 0.12712844709555307. STD is 0.0013505822680984665\n"
     ]
    }
   ],
   "source": [
    "res, resSTD = varianceTest(modelCIFAR, sigs, dataset = 'cifar10', epochs = 6)"
   ]
  },
  {
   "cell_type": "code",
   "execution_count": 64,
   "metadata": {
    "ExecuteTime": {
     "end_time": "2018-10-29T11:08:45.179302Z",
     "start_time": "2018-10-29T11:08:45.024429Z"
    }
   },
   "outputs": [
    {
     "data": {
      "image/png": "[encoded data removed]",
      "text/plain": [
       "<Figure size 720x432 with 1 Axes>"
      ]
     },
     "metadata": {},
     "output_type": "display_data"
    }
   ],
   "source": [
    "display(sigs, res, resSTD)"
   ]
  },
  {
   "cell_type": "code",
   "execution_count": 65,
   "metadata": {
    "ExecuteTime": {
     "end_time": "2018-10-29T11:13:30.591493Z",
     "start_time": "2018-10-29T11:10:53.368543Z"
    }
   },
   "outputs": [
    {
     "name": "stdout",
     "output_type": "stream",
     "text": [
      "[  0.  30.  60.  90. 120.]\n",
      "Computing variance of f(Y) where noise has sigma = 0.0\n",
      "Epoch 1 of 3\n",
      "Epoch 2 of 3\n",
      "Epoch 3 of 3\n",
      "Variance with noise std 0.0 is 0.09873133152723312. STD is 0.0\n",
      "Computing variance of f(Y) where noise has sigma = 30.0\n",
      "Epoch 1 of 3\n",
      "Epoch 2 of 3\n",
      "Epoch 3 of 3\n",
      "Variance with noise std 30.0 is 0.11026227474212646. STD is 0.0002360646716600602\n",
      "Computing variance of f(Y) where noise has sigma = 60.0\n",
      "Epoch 1 of 3\n",
      "Epoch 2 of 3\n",
      "Epoch 3 of 3\n",
      "Variance with noise std 60.0 is 0.1259607175985972. STD is 0.001400404631134268\n",
      "Computing variance of f(Y) where noise has sigma = 90.0\n",
      "Epoch 1 of 3\n",
      "Epoch 2 of 3\n",
      "Epoch 3 of 3\n",
      "Variance with noise std 90.0 is 0.09092489878336589. STD is 0.009065838164751105\n",
      "Computing variance of f(Y) where noise has sigma = 120.0\n",
      "Epoch 1 of 3\n",
      "Epoch 2 of 3\n",
      "Epoch 3 of 3\n",
      "Variance with noise std 120.0 is 0.06124102075894674. STD is 0.0016836775359124337\n"
     ]
    }
   ],
   "source": [
    "sigs2 = np.linspace(0, 120, 5)\n",
    "print(sigs2)\n",
    "res, resSTD = varianceTest(modelCIFAR, sigs2, dataset = 'cifar10', epochs = 3)"
   ]
  },
  {
   "cell_type": "code",
   "execution_count": 73,
   "metadata": {
    "ExecuteTime": {
     "end_time": "2018-10-29T11:18:47.381948Z",
     "start_time": "2018-10-29T11:18:47.136457Z"
    }
   },
   "outputs": [
    {
     "name": "stdout",
     "output_type": "stream",
     "text": [
      "(5,) (5,) (5,)\n"
     ]
    },
    {
     "data": {
      "image/png": "[encoded data removed]",
      "text/plain": [
       "<Figure size 720x432 with 1 Axes>"
      ]
     },
     "metadata": {},
     "output_type": "display_data"
    }
   ],
   "source": [
    "print(sigs2.shape, np.array(res).shape, np.array(resSTD).shape)\n",
    "display(sigs2, res, resSTD)"
   ]
  },
  {
   "cell_type": "code",
   "execution_count": 25,
   "metadata": {
    "ExecuteTime": {
     "end_time": "2018-10-29T10:42:45.964059Z",
     "start_time": "2018-10-29T10:42:43.899271Z"
    }
   },
   "outputs": [],
   "source": [
    "trans = transforms.Compose([transforms.ToTensor(), \n",
    "                            transforms.Normalize(mean=(0.485, 0.456, 0.406), std = (0.229, 0.224, 0.225))])\n",
    "noisy_test_dataset = torchvision.datasets.CIFAR10(root=DATA_PATH, train=False, \\\n",
    "                                        transform=trans,download=False)\n",
    "for i in range(len(noisy_test_dataset.test_data)):\n",
    "    noisy_test_dataset.test_data[i] = addNoise(noisy_test_dataset.test_data[i], 30)"
   ]
  },
  {
   "cell_type": "code",
   "execution_count": 17,
   "metadata": {
    "ExecuteTime": {
     "end_time": "2018-10-29T10:31:08.376352Z",
     "start_time": "2018-10-29T10:31:08.369163Z"
    }
   },
   "outputs": [
    {
     "data": {
      "text/plain": [
       "array([[[[158, 112,  49],\n",
       "         [159, 111,  47],\n",
       "         [165, 116,  51],\n",
       "         ...,\n",
       "         [137,  95,  36],\n",
       "         [126,  91,  36],\n",
       "         [116,  85,  33]],\n",
       "\n",
       "        [[152, 112,  51],\n",
       "         [151, 110,  40],\n",
       "         [159, 114,  45],\n",
       "         ...,\n",
       "         [136,  95,  31],\n",
       "         [125,  91,  32],\n",
       "         [119,  88,  34]],\n",
       "\n",
       "        [[151, 110,  47],\n",
       "         [151, 109,  33],\n",
       "         [158, 111,  36],\n",
       "         ...,\n",
       "         [139,  98,  34],\n",
       "         [130,  95,  34],\n",
       "         [120,  89,  33]],\n",
       "\n",
       "        ...,\n",
       "\n",
       "        [[ 68, 124, 177],\n",
       "         [ 42, 100, 148],\n",
       "         [ 31,  88, 137],\n",
       "         ...,\n",
       "         [ 38,  97, 146],\n",
       "         [ 13,  64, 108],\n",
       "         [ 40,  85, 127]],\n",
       "\n",
       "        [[ 61, 116, 168],\n",
       "         [ 49, 102, 148],\n",
       "         [ 35,  85, 132],\n",
       "         ...,\n",
       "         [ 26,  82, 130],\n",
       "         [ 29,  82, 126],\n",
       "         [ 20,  64, 107]],\n",
       "\n",
       "        [[ 54, 107, 160],\n",
       "         [ 56, 105, 149],\n",
       "         [ 45,  89, 132],\n",
       "         ...,\n",
       "         [ 24,  77, 124],\n",
       "         [ 34,  84, 129],\n",
       "         [ 21,  67, 110]]],\n",
       "\n",
       "\n",
       "       [[[235, 235, 235],\n",
       "         [231, 231, 231],\n",
       "         [232, 232, 232],\n",
       "         ...,\n",
       "         [233, 233, 233],\n",
       "         [233, 233, 233],\n",
       "         [232, 232, 232]],\n",
       "\n",
       "        [[238, 238, 238],\n",
       "         [235, 235, 235],\n",
       "         [235, 235, 235],\n",
       "         ...,\n",
       "         [236, 236, 236],\n",
       "         [236, 236, 236],\n",
       "         [235, 235, 235]],\n",
       "\n",
       "        [[237, 237, 237],\n",
       "         [234, 234, 234],\n",
       "         [234, 234, 234],\n",
       "         ...,\n",
       "         [235, 235, 235],\n",
       "         [235, 235, 235],\n",
       "         [234, 234, 234]],\n",
       "\n",
       "        ...,\n",
       "\n",
       "        [[ 87,  99,  89],\n",
       "         [ 43,  51,  37],\n",
       "         [ 19,  23,  11],\n",
       "         ...,\n",
       "         [169, 184, 179],\n",
       "         [182, 197, 193],\n",
       "         [188, 202, 201]],\n",
       "\n",
       "        [[ 82,  96,  82],\n",
       "         [ 46,  57,  36],\n",
       "         [ 36,  44,  22],\n",
       "         ...,\n",
       "         [174, 189, 183],\n",
       "         [185, 200, 196],\n",
       "         [187, 202, 200]],\n",
       "\n",
       "        [[ 85, 101,  83],\n",
       "         [ 62,  75,  48],\n",
       "         [ 58,  67,  38],\n",
       "         ...,\n",
       "         [168, 183, 178],\n",
       "         [180, 195, 191],\n",
       "         [186, 200, 199]]],\n",
       "\n",
       "\n",
       "       [[[158, 190, 222],\n",
       "         [158, 187, 218],\n",
       "         [139, 166, 194],\n",
       "         ...,\n",
       "         [228, 231, 234],\n",
       "         [237, 239, 243],\n",
       "         [238, 241, 246]],\n",
       "\n",
       "        [[170, 200, 229],\n",
       "         [172, 199, 226],\n",
       "         [151, 176, 201],\n",
       "         ...,\n",
       "         [232, 232, 236],\n",
       "         [246, 246, 250],\n",
       "         [246, 247, 251]],\n",
       "\n",
       "        [[174, 201, 225],\n",
       "         [176, 200, 222],\n",
       "         [157, 179, 199],\n",
       "         ...,\n",
       "         [230, 229, 232],\n",
       "         [250, 249, 251],\n",
       "         [245, 244, 247]],\n",
       "\n",
       "        ...,\n",
       "\n",
       "        [[ 31,  40,  45],\n",
       "         [ 30,  39,  44],\n",
       "         [ 26,  35,  40],\n",
       "         ...,\n",
       "         [ 37,  40,  46],\n",
       "         [  9,  13,  14],\n",
       "         [  4,   7,   5]],\n",
       "\n",
       "        [[ 23,  34,  39],\n",
       "         [ 27,  38,  43],\n",
       "         [ 25,  36,  41],\n",
       "         ...,\n",
       "         [ 19,  20,  24],\n",
       "         [  4,   6,   3],\n",
       "         [  5,   7,   3]],\n",
       "\n",
       "        [[ 28,  41,  47],\n",
       "         [ 30,  43,  50],\n",
       "         [ 32,  45,  52],\n",
       "         ...,\n",
       "         [  5,   6,   8],\n",
       "         [  4,   5,   3],\n",
       "         [  7,   8,   7]]],\n",
       "\n",
       "\n",
       "       ...,\n",
       "\n",
       "\n",
       "       [[[ 20,  15,  12],\n",
       "         [ 19,  14,  11],\n",
       "         [ 15,  14,  11],\n",
       "         ...,\n",
       "         [ 10,   9,   7],\n",
       "         [ 12,  11,   9],\n",
       "         [ 13,  12,  10]],\n",
       "\n",
       "        [[ 21,  16,  13],\n",
       "         [ 20,  16,  13],\n",
       "         [ 18,  17,  12],\n",
       "         ...,\n",
       "         [ 10,   9,   7],\n",
       "         [ 10,   9,   7],\n",
       "         [ 12,  11,   9]],\n",
       "\n",
       "        [[ 21,  16,  13],\n",
       "         [ 21,  17,  12],\n",
       "         [ 20,  18,  11],\n",
       "         ...,\n",
       "         [ 12,  11,   9],\n",
       "         [ 12,  11,   9],\n",
       "         [ 13,  12,  10]],\n",
       "\n",
       "        ...,\n",
       "\n",
       "        [[ 33,  25,  13],\n",
       "         [ 34,  26,  15],\n",
       "         [ 34,  26,  15],\n",
       "         ...,\n",
       "         [ 28,  25,  52],\n",
       "         [ 29,  25,  58],\n",
       "         [ 23,  20,  42]],\n",
       "\n",
       "        [[ 33,  25,  14],\n",
       "         [ 34,  26,  15],\n",
       "         [ 34,  26,  15],\n",
       "         ...,\n",
       "         [ 27,  24,  52],\n",
       "         [ 27,  24,  56],\n",
       "         [ 25,  22,  47]],\n",
       "\n",
       "        [[ 31,  23,  12],\n",
       "         [ 32,  24,  13],\n",
       "         [ 33,  25,  14],\n",
       "         ...,\n",
       "         [ 24,  23,  50],\n",
       "         [ 26,  23,  53],\n",
       "         [ 25,  20,  47]]],\n",
       "\n",
       "\n",
       "       [[[ 25,  40,  12],\n",
       "         [ 15,  36,   3],\n",
       "         [ 23,  41,  18],\n",
       "         ...,\n",
       "         [ 61,  82,  78],\n",
       "         [ 92, 113, 112],\n",
       "         [ 75,  89,  92]],\n",
       "\n",
       "        [[ 12,  25,   6],\n",
       "         [ 20,  37,   7],\n",
       "         [ 24,  36,  15],\n",
       "         ...,\n",
       "         [115, 134, 138],\n",
       "         [149, 168, 177],\n",
       "         [104, 117, 131]],\n",
       "\n",
       "        [[ 12,  25,  11],\n",
       "         [ 15,  29,   6],\n",
       "         [ 34,  40,  24],\n",
       "         ...,\n",
       "         [154, 172, 182],\n",
       "         [157, 175, 192],\n",
       "         [116, 129, 151]],\n",
       "\n",
       "        ...,\n",
       "\n",
       "        [[100, 129,  81],\n",
       "         [103, 132,  84],\n",
       "         [104, 134,  86],\n",
       "         ...,\n",
       "         [ 97, 128,  84],\n",
       "         [ 98, 126,  84],\n",
       "         [ 91, 121,  79]],\n",
       "\n",
       "        [[103, 132,  83],\n",
       "         [104, 131,  83],\n",
       "         [107, 135,  87],\n",
       "         ...,\n",
       "         [101, 132,  87],\n",
       "         [ 99, 127,  84],\n",
       "         [ 92, 121,  79]],\n",
       "\n",
       "        [[ 95, 126,  78],\n",
       "         [ 95, 123,  76],\n",
       "         [101, 128,  81],\n",
       "         ...,\n",
       "         [ 93, 124,  80],\n",
       "         [ 95, 123,  81],\n",
       "         [ 92, 120,  80]]],\n",
       "\n",
       "\n",
       "       [[[ 73,  78,  75],\n",
       "         [ 98, 103, 113],\n",
       "         [ 99, 106, 114],\n",
       "         ...,\n",
       "         [135, 150, 152],\n",
       "         [135, 149, 154],\n",
       "         [203, 215, 223]],\n",
       "\n",
       "        [[ 69,  73,  70],\n",
       "         [ 84,  89,  97],\n",
       "         [ 68,  75,  81],\n",
       "         ...,\n",
       "         [ 85,  95,  89],\n",
       "         [ 71,  82,  80],\n",
       "         [120, 133, 135]],\n",
       "\n",
       "        [[ 69,  73,  70],\n",
       "         [ 90,  95, 100],\n",
       "         [ 62,  71,  74],\n",
       "         ...,\n",
       "         [ 74,  81,  70],\n",
       "         [ 53,  62,  54],\n",
       "         [ 62,  74,  69]],\n",
       "\n",
       "        ...,\n",
       "\n",
       "        [[123, 128,  96],\n",
       "         [132, 132, 102],\n",
       "         [129, 128, 100],\n",
       "         ...,\n",
       "         [108, 107,  88],\n",
       "         [ 62,  60,  55],\n",
       "         [ 27,  27,  28]],\n",
       "\n",
       "        [[115, 121,  91],\n",
       "         [123, 124,  95],\n",
       "         [129, 126,  99],\n",
       "         ...,\n",
       "         [115, 116,  94],\n",
       "         [ 66,  65,  59],\n",
       "         [ 27,  27,  27]],\n",
       "\n",
       "        [[116, 120,  90],\n",
       "         [121, 122,  94],\n",
       "         [129, 128, 101],\n",
       "         ...,\n",
       "         [116, 115,  94],\n",
       "         [ 68,  65,  58],\n",
       "         [ 27,  26,  26]]]], dtype=uint8)"
      ]
     },
     "execution_count": 17,
     "metadata": {},
     "output_type": "execute_result"
    }
   ],
   "source": [
    "noisy_test_dataset.test_data"
   ]
  },
  {
   "cell_type": "code",
   "execution_count": 26,
   "metadata": {
    "ExecuteTime": {
     "end_time": "2018-10-29T10:43:01.856314Z",
     "start_time": "2018-10-29T10:43:01.850939Z"
    }
   },
   "outputs": [
    {
     "data": {
      "text/plain": [
       "array([[[128, 106,  37],\n",
       "        [170, 137,   3],\n",
       "        [176,  96,  47],\n",
       "        ...,\n",
       "        [104, 123,  33],\n",
       "        [136, 135,   5],\n",
       "        [133,  96,   0]],\n",
       "\n",
       "       [[109, 124,  22],\n",
       "        [109, 132,  89],\n",
       "        [157,  97,   7],\n",
       "        ...,\n",
       "        [143, 102,  40],\n",
       "        [123,  67,  49],\n",
       "        [167,  32,  43]],\n",
       "\n",
       "       [[109,  58,  77],\n",
       "        [107,  96,  14],\n",
       "        [105,  71,  48],\n",
       "        ...,\n",
       "        [173, 122,  22],\n",
       "        [119,  62,  57],\n",
       "        [109, 110,  93]],\n",
       "\n",
       "       ...,\n",
       "\n",
       "       [[ 77,  97, 156],\n",
       "        [ 76, 101, 146],\n",
       "        [ 53,  84, 168],\n",
       "        ...,\n",
       "        [ 45, 139, 128],\n",
       "        [  0,  64,  99],\n",
       "        [  8,  43, 124]],\n",
       "\n",
       "       [[ 10, 140, 137],\n",
       "        [ 61, 106, 161],\n",
       "        [ 63,  96, 125],\n",
       "        ...,\n",
       "        [  0,  54,  82],\n",
       "        [ 19,  62,  90],\n",
       "        [ 13,  83, 132]],\n",
       "\n",
       "       [[ 39,  93, 173],\n",
       "        [132, 106, 127],\n",
       "        [  0, 104, 131],\n",
       "        ...,\n",
       "        [ 37,  59,  99],\n",
       "        [ 37, 184, 129],\n",
       "        [ 72,  42, 102]]], dtype=uint8)"
      ]
     },
     "execution_count": 26,
     "metadata": {},
     "output_type": "execute_result"
    }
   ],
   "source": [
    "noisy_test_dataset.test_data[0]"
   ]
  },
  {
   "cell_type": "code",
   "execution_count": null,
   "metadata": {},
   "outputs": [],
   "source": []
  }
 ],
 "metadata": {
  "celltoolbar": "Initialization Cell",
  "kernelspec": {
   "display_name": "Python 3",
   "language": "python",
   "name": "python3"
  },
  "language_info": {
   "codemirror_mode": {
    "name": "ipython",
    "version": 3
   },
   "file_extension": ".py",
   "mimetype": "text/x-python",
   "name": "python",
   "nbconvert_exporter": "python",
   "pygments_lexer": "ipython3",
   "version": "3.6.5"
  },
  "latex_envs": {
   "LaTeX_envs_menu_present": true,
   "autoclose": false,
   "autocomplete": true,
   "bibliofile": "biblio.bib",
   "cite_by": "apalike",
   "current_citInitial": 1,
   "eqLabelWithNumbers": true,
   "eqNumInitial": 1,
   "hotkeys": {
    "equation": "Ctrl-E",
    "itemize": "Ctrl-I"
   },
   "labels_anchors": false,
   "latex_user_defs": false,
   "report_style_numbering": false,
   "user_envs_cfg": false
  },
  "toc": {
   "base_numbering": 1,
   "nav_menu": {},
   "number_sections": true,
   "sideBar": true,
   "skip_h1_title": false,
   "title_cell": "Table of Contents",
   "title_sidebar": "Contents",
   "toc_cell": false,
   "toc_position": {
    "height": "calc(100% - 180px)",
    "left": "10px",
    "top": "150px",
    "width": "288px"
   },
   "toc_section_display": true,
   "toc_window_display": true
  }
 },
 "nbformat": 4,
 "nbformat_minor": 2
}
